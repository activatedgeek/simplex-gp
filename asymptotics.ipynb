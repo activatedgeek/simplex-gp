{
 "cells": [
  {
   "cell_type": "code",
   "execution_count": 1,
   "metadata": {},
   "outputs": [
    {
     "name": "stdout",
     "output_type": "stream",
     "text": [
      "No CUDA runtime is found, using CUDA_HOME='/usr/local/cuda-10.0'\n"
     ]
    }
   ],
   "source": [
    "import torch\n",
    "import gpytorch\n",
    "from bilateral_kernel import BilateralKernel"
   ]
  },
  {
   "cell_type": "code",
   "execution_count": 2,
   "metadata": {},
   "outputs": [],
   "source": [
    "kernel = BilateralKernel()"
   ]
  },
  {
   "cell_type": "code",
   "execution_count": 3,
   "metadata": {},
   "outputs": [],
   "source": [
    "N_vals = torch.linspace(100, 10000000, 10).int().tolist()\n",
    "D_vals = torch.linspace(1, 100, 10).int().tolist()"
   ]
  },
  {
   "cell_type": "markdown",
   "metadata": {},
   "source": [
    "# Matmul"
   ]
  },
  {
   "cell_type": "code",
   "execution_count": 4,
   "metadata": {},
   "outputs": [],
   "source": [
    "import timeit\n",
    "\n",
    "N_vary = []\n",
    "for N in N_vals:\n",
    "    D = 1\n",
    "    x = torch.randn(N, D)\n",
    "    K = BilateralKernel()(x)\n",
    "    v = torch.randn(N, 1)\n",
    "    def matmul():\n",
    "        return K @ v\n",
    "    time = timeit.timeit(matmul , number=10)\n",
    "\n",
    "    N_vary.append([N, D, time])\n",
    "\n",
    "    del x\n",
    "    del K\n",
    "    del v\n",
    "    del matmul"
   ]
  },
  {
   "cell_type": "code",
   "execution_count": 5,
   "metadata": {},
   "outputs": [],
   "source": [
    "D_vary = []\n",
    "for D in D_vals:\n",
    "    N = 1000\n",
    "    x = torch.randn(N, D)\n",
    "    K = BilateralKernel()(x)\n",
    "    v = torch.randn(N, 1)\n",
    "    def matmul():\n",
    "        return K @ v\n",
    "    time = timeit.timeit(matmul , number=10)\n",
    "\n",
    "    D_vary.append([N, D, time])\n",
    "\n",
    "    del x\n",
    "    del K\n",
    "    del v\n",
    "    del matmul"
   ]
  },
  {
   "cell_type": "code",
   "execution_count": 6,
   "metadata": {},
   "outputs": [],
   "source": [
    "import pandas as pd\n",
    "N_vary = pd.DataFrame(N_vary, columns=[\"N\", \"D\", \"Time\"])\n",
    "D_vary = pd.DataFrame(D_vary, columns=[\"N\", \"D\", \"Time\"])"
   ]
  },
  {
   "cell_type": "code",
   "execution_count": 7,
   "metadata": {},
   "outputs": [
    {
     "data": {
      "text/plain": [
       "[Text(0.5, 1.0, 'Matmul (D=1)')]"
      ]
     },
     "execution_count": 7,
     "metadata": {},
     "output_type": "execute_result"
    }
   ],
   "source": [
    "import seaborn as sns\n",
    "ax = sns.lineplot(data=N_vary, x=\"N\", y=\"Time\")\n",
    "ax.set(title=\"Matmul (D=1)\")"
   ]
  },
  {
   "cell_type": "code",
   "execution_count": 8,
   "metadata": {},
   "outputs": [
    {
     "name": "stdout",
     "output_type": "stream",
     "text": [
      "Coefficients: \n",
      " [2.24871438]\n"
     ]
    },
    {
     "data": {
      "text/plain": [
       "[<matplotlib.lines.Line2D at 0x7f4fb31a9b90>]"
      ]
     },
     "execution_count": 8,
     "metadata": {},
     "output_type": "execute_result"
    },
    {
     "data": {
      "image/png": "[encoded data removed]",
      "text/plain": [
       "<Figure size 432x288 with 1 Axes>"
      ]
     },
     "metadata": {
      "needs_background": "light"
     },
     "output_type": "display_data"
    }
   ],
   "source": [
    "from sklearn.linear_model import LinearRegression\n",
    "import numpy as np\n",
    "regr = LinearRegression()\n",
    "regr.fit(np.log(D_vary[\"D\"].to_numpy()[:, None]), np.log(D_vary[\"Time\"]))\n",
    "print('Coefficients: \\n', regr.coef_)\n",
    "pred_time = regr.predict(np.log(D_vary[\"D\"].to_numpy()[:, None]))\n",
    "\n",
    "ax = sns.lineplot(data=D_vary, x=\"D\", y=\"Time\")\n",
    "ax.set(title=\"Matmul (N=1000)\", xscale=\"log\", yscale=\"log\")\n",
    "ax.plot(D_vary[\"D\"].to_numpy(), np.exp(pred_time))"
   ]
  },
  {
   "cell_type": "markdown",
   "metadata": {},
   "source": [
    "# Gradient"
   ]
  },
  {
   "cell_type": "code",
   "execution_count": 36,
   "metadata": {},
   "outputs": [],
   "source": [
    "import timeit\n",
    "\n",
    "N_vary = []\n",
    "for N in N_vals:\n",
    "    D = 1\n",
    "    x = torch.randn(N, D, requires_grad=True)\n",
    "    K = BilateralKernel()(x)\n",
    "    v = torch.randn(N, 1, requires_grad=True)\n",
    "    sum = (K @ v).sum()\n",
    "    def gradient():\n",
    "        torch.autograd.grad(sum, [x, v], retain_graph=True)\n",
    "        x.grad = None\n",
    "        v.grad = None\n",
    "        return\n",
    "    time = timeit.timeit(gradient, number=10)\n",
    "\n",
    "    N_vary.append([N, D, time])\n",
    "\n",
    "    del x\n",
    "    del K\n",
    "    del v\n",
    "    del gradient"
   ]
  },
  {
   "cell_type": "code",
   "execution_count": 37,
   "metadata": {},
   "outputs": [],
   "source": [
    "import timeit\n",
    "\n",
    "D_vary = []\n",
    "for D in D_vals:\n",
    "    N = 1000\n",
    "    x = torch.randn(N, D, requires_grad=True)\n",
    "    K = BilateralKernel()(x)\n",
    "    v = torch.randn(N, 1, requires_grad=True)\n",
    "    sum = (K @ v).sum()\n",
    "    def gradient():\n",
    "        torch.autograd.grad(sum, [x, v], retain_graph=True)\n",
    "        x.grad = None\n",
    "        v.grad = None\n",
    "        return\n",
    "    time = timeit.timeit(gradient, number=10)\n",
    "\n",
    "    D_vary.append([N, D, time])\n",
    "\n",
    "    del x\n",
    "    del K\n",
    "    del v\n",
    "    del gradient"
   ]
  },
  {
   "cell_type": "code",
   "execution_count": 38,
   "metadata": {},
   "outputs": [],
   "source": [
    "import pandas as pd\n",
    "N_vary = pd.DataFrame(N_vary, columns=[\"N\", \"D\", \"Time\"])\n",
    "D_vary = pd.DataFrame(D_vary, columns=[\"N\", \"D\", \"Time\"])"
   ]
  },
  {
   "cell_type": "code",
   "execution_count": 41,
   "metadata": {},
   "outputs": [
    {
     "data": {
      "text/plain": [
       "[Text(0.5, 1.0, 'Gradient computation of (K@v).sum() (D=1)')]"
      ]
     },
     "execution_count": 41,
     "metadata": {},
     "output_type": "execute_result"
    },
    {
     "data": {
      "image/png": "[encoded data removed]",
      "text/plain": [
       "<Figure size 432x288 with 1 Axes>"
      ]
     },
     "metadata": {
      "needs_background": "light"
     },
     "output_type": "display_data"
    }
   ],
   "source": [
    "import seaborn as sns\n",
    "ax = sns.lineplot(data=N_vary, x=\"N\", y=\"Time\")\n",
    "ax.set(title=\"Gradient computation of (K@v).sum() (D=1)\")"
   ]
  },
  {
   "cell_type": "code",
   "execution_count": 42,
   "metadata": {},
   "outputs": [
    {
     "name": "stdout",
     "output_type": "stream",
     "text": [
      "Coefficients: \n",
      " [2.22456366]\n"
     ]
    },
    {
     "data": {
      "text/plain": [
       "[<matplotlib.lines.Line2D at 0x7fbb632be550>]"
      ]
     },
     "execution_count": 42,
     "metadata": {},
     "output_type": "execute_result"
    },
    {
     "data": {
      "image/png": "[encoded data removed]",
      "text/plain": [
       "<Figure size 432x288 with 1 Axes>"
      ]
     },
     "metadata": {
      "needs_background": "light"
     },
     "output_type": "display_data"
    }
   ],
   "source": [
    "from sklearn.linear_model import LinearRegression\n",
    "import numpy as np\n",
    "regr = LinearRegression()\n",
    "regr.fit(np.log(D_vary[\"D\"].to_numpy()[:, None]), np.log(D_vary[\"Time\"]))\n",
    "print('Coefficients: \\n', regr.coef_)\n",
    "pred_time = regr.predict(np.log(D_vary[\"D\"].to_numpy()[:, None]))\n",
    "\n",
    "ax = sns.lineplot(data=D_vary, x=\"D\", y=\"Time\")\n",
    "ax.set(title=\"Gradient computation of (K@v).sum() (N=100)\", xscale=\"log\", yscale=\"log\")\n",
    "ax.plot(D_vary[\"D\"].to_numpy(), np.exp(pred_time))"
   ]
  },
  {
   "cell_type": "code",
   "execution_count": null,
   "metadata": {},
   "outputs": [],
   "source": []
  }
 ],
 "metadata": {
  "kernelspec": {
   "display_name": "Python 3",
   "language": "python",
   "name": "python3"
  },
  "language_info": {
   "codemirror_mode": {
    "name": "ipython",
    "version": 3
   },
   "file_extension": ".py",
   "mimetype": "text/x-python",
   "name": "python",
   "nbconvert_exporter": "python",
   "pygments_lexer": "ipython3",
   "version": "3.7.4"
  }
 },
 "nbformat": 4,
 "nbformat_minor": 4
}
