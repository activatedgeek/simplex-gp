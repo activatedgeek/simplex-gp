{
 "cells": [
  {
   "cell_type": "code",
   "execution_count": 17,
   "metadata": {},
   "outputs": [],
   "source": [
    "import numpy as np\n",
    "from scipy.stats import binom\n",
    "from scipy.special import comb, gamma, kv\n",
    "\n",
    "import matplotlib.pyplot as plt\n",
    "%matplotlib inline"
   ]
  },
  {
   "cell_type": "code",
   "execution_count": 34,
   "metadata": {},
   "outputs": [],
   "source": [
    "def gaussian_covariance(x, ell):\n",
    "    x_normalized = x / ell\n",
    "    return np.exp(-x_normalized**2/2)\n",
    "\n",
    "def matern_covariance(x, ell, nu=0.5):\n",
    "    # Matern covariance with lengthscale ell    \n",
    "    x[x == 0.0] += np.finfo(float).eps  # strict zeros result in nan\n",
    "    x_normalized = np.sqrt(2*nu) * x / ell\n",
    "    return (2**(1-nu) / gamma(nu)) * (x_normalized)**nu * kv(nu, x_normalized)\n",
    "#     if nu == 0.5:\n",
    "#         x_normalized = x / ell\n",
    "#         return np.exp(-x_normalized)\n",
    "#     elif nu == 1.0:\n",
    "#         x_normalized = np.sqrt(3) * x / ell\n",
    "#         return (1 + x_normalized) * np.exp(-x_normalized)\n",
    "#     elif nu == 1.5:\n",
    "#         x_normalized = np.sqrt(5) * x / ell\n",
    "#         return (1 + x_normalized + x_normalized**2 / 3) * np.exp(-x_normalized)"
   ]
  },
  {
   "cell_type": "code",
   "execution_count": 42,
   "metadata": {},
   "outputs": [],
   "source": [
    "def gaussian_normalization(ell):\n",
    "    # Integral of Gaussian covariance with lengthscale ell from 0 to infinity\n",
    "    return 0.5 * np.sqrt(2 * np.pi * ell**2)\n",
    "\n",
    "def matern_normalization(ell, nu):\n",
    "    # Integral of Matern covariance with lengthscale ell from 0 to infinity\n",
    "    return 0.5 * np.sqrt(2 * np.pi * ell**2) * gamma(nu + 0.5)/gamma(nu)/(nu**0.5)"
   ]
  },
  {
   "cell_type": "code",
   "execution_count": 65,
   "metadata": {},
   "outputs": [
    {
     "data": {
      "text/plain": [
       "<matplotlib.legend.Legend at 0x7f9e2c4ea130>"
      ]
     },
     "execution_count": 65,
     "metadata": {},
     "output_type": "execute_result"
    },
    {
     "data": {
      "image/png": "[encoded data removed]",
      "text/plain": [
       "<Figure size 432x288 with 1 Axes>"
      ]
     },
     "metadata": {
      "needs_background": "light"
     },
     "output_type": "display_data"
    }
   ],
   "source": [
    "n = 8\n",
    "p = 0.5\n",
    "ell = np.sqrt(n * p * (1-p))\n",
    "\n",
    "def binom_pmf(k, n, p):\n",
    "    ell = np.sqrt(n * p * (1-p))\n",
    "    return comb(n, k) * p**k * (1 - p)**(n - k) * (2 * np.pi * ell**2)**(1/2) # rescale to gaussian\n",
    "\n",
    "\n",
    "fig, ax = plt.subplots()\n",
    "\n",
    "k = np.arange(n//2, n + 1)\n",
    "\n",
    "x = k - n/2\n",
    "xx = np.linspace(n/2, n, 100) - n/2\n",
    "\n",
    "ax.plot(x, binom_pmf(k, n, p), 'bo', ms=8, label='binom pmf (centered & scaled)')\n",
    "ax.vlines(x, 0, binom_pmf(k, n, p), colors='b', lw=5, alpha=0.5)\n",
    "\n",
    "ax.plot(xx, gaussian_covariance(xx, ell), label='gaussian')\n",
    "\n",
    "ax.plot(xx, matern_covariance(xx, ell, nu=0.5), label='matern0.5')\n",
    "ax.plot(xx, matern_covariance(xx, ell, nu=1.0), label='matern1.0')\n",
    "ax.plot(xx, matern_covariance(xx, ell, nu=1.5), label='matern1.5')\n",
    "\n",
    "#ax.set(xlim=(- 2*np.sqrt(n*p*(1-p)), 2*np.sqrt(n*p*(1-p))))\n",
    "ax.set(xlim=(-0.05, 4*ell))\n",
    "ax.set(title=f\"n={n}\")\n",
    "#ax.set(ylim=(-0.05, 10))\n",
    "\n",
    "ax.legend()"
   ]
  },
  {
   "cell_type": "code",
   "execution_count": 51,
   "metadata": {},
   "outputs": [
    {
     "data": {
      "text/plain": [
       "[1.0, 6.0, 15.0, 20.0, 15.0, 6.0, 1.0]"
      ]
     },
     "execution_count": 51,
     "metadata": {},
     "output_type": "execute_result"
    }
   ],
   "source": [
    "[comb(6, k) for k in range(6 + 1)]"
   ]
  },
  {
   "cell_type": "code",
   "execution_count": 52,
   "metadata": {},
   "outputs": [],
   "source": [
    "l2_norm_of_err = np.sum((((binom_pmf(x, n, p) - gaussian_covariance(x - n/2, np.sqrt(n*p*(1-p))))) ** 2))"
   ]
  },
  {
   "cell_type": "code",
   "execution_count": 53,
   "metadata": {},
   "outputs": [],
   "source": [
    "cz_err = np.sqrt(l2_norm_of_err)"
   ]
  },
  {
   "cell_type": "code",
   "execution_count": 54,
   "metadata": {},
   "outputs": [
    {
     "data": {
      "text/plain": [
       "0.03736026534487015"
      ]
     },
     "execution_count": 54,
     "metadata": {},
     "output_type": "execute_result"
    }
   ],
   "source": [
    "cz_err"
   ]
  },
  {
   "cell_type": "code",
   "execution_count": 58,
   "metadata": {},
   "outputs": [
    {
     "data": {
      "text/plain": [
       "1.0006861045260276"
      ]
     },
     "execution_count": 58,
     "metadata": {},
     "output_type": "execute_result"
    }
   ],
   "source": [
    "np.trapz(matern_covariance(x, ell, nu=1.5), x) / np.trapz(matern_covariance(xx, ell, nu=1.5), xx)"
   ]
  },
  {
   "cell_type": "code",
   "execution_count": 59,
   "metadata": {},
   "outputs": [
    {
     "data": {
      "text/plain": [
       "0.9983445186828734"
      ]
     },
     "execution_count": 59,
     "metadata": {},
     "output_type": "execute_result"
    }
   ],
   "source": [
    "np.trapz(gaussian_covariance(x, ell), x) / np.trapz(gaussian_covariance(xx, ell), xx) "
   ]
  },
  {
   "cell_type": "code",
   "execution_count": 60,
   "metadata": {},
   "outputs": [
    {
     "data": {
      "text/plain": [
       "0.9749516033880458"
      ]
     },
     "execution_count": 60,
     "metadata": {},
     "output_type": "execute_result"
    }
   ],
   "source": [
    "np.trapz(matern_covariance(x, ell, nu=1.5), x) / matern_normalization(ell, nu=1.5)"
   ]
  },
  {
   "cell_type": "code",
   "execution_count": 61,
   "metadata": {},
   "outputs": [
    {
     "data": {
      "text/plain": [
       "0.9936717209022354"
      ]
     },
     "execution_count": 61,
     "metadata": {},
     "output_type": "execute_result"
    }
   ],
   "source": [
    "np.trapz(gaussian_covariance(x, ell), x) / gaussian_normalization(ell)"
   ]
  }
 ],
 "metadata": {
  "kernelspec": {
   "display_name": "Python 3",
   "language": "python",
   "name": "python3"
  },
  "language_info": {
   "codemirror_mode": {
    "name": "ipython",
    "version": 3
   },
   "file_extension": ".py",
   "mimetype": "text/x-python",
   "name": "python",
   "nbconvert_exporter": "python",
   "pygments_lexer": "ipython3",
   "version": "3.7.4"
  }
 },
 "nbformat": 4,
 "nbformat_minor": 4
}
