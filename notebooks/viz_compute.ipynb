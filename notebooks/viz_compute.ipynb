{
 "metadata": {
  "language_info": {
   "codemirror_mode": {
    "name": "ipython",
    "version": 3
   },
   "file_extension": ".py",
   "mimetype": "text/x-python",
   "name": "python",
   "nbconvert_exporter": "python",
   "pygments_lexer": "ipython3",
   "version": "3.7.9-final"
  },
  "orig_nbformat": 2,
  "kernelspec": {
   "name": "python3",
   "display_name": "Python 3",
   "language": "python"
  }
 },
 "nbformat": 4,
 "nbformat_minor": 2,
 "cells": [
  {
   "cell_type": "code",
   "execution_count": null,
   "metadata": {},
   "outputs": [],
   "source": [
    "import numpy as np\n",
    "import pandas as pd\n",
    "import seaborn as sns\n",
    "import matplotlib.pyplot as plt\n",
    "from matplotlib import cm\n",
    "\n",
    "sns.set(font_scale=2.0, style='whitegrid', palette=sns.color_palette('Set1'))"
   ]
  },
  {
   "cell_type": "code",
   "execution_count": null,
   "metadata": {},
   "outputs": [],
   "source": [
    "raw_mem_data = pd.DataFrame([\n",
    "    { 'dataset': 'Elevators', 'method': 'SGPR', 'peak_mem': 1.5 },\n",
    "    { 'dataset': 'Elevators', 'method': 'SKIP', 'peak_mem': 3 },\n",
    "    { 'dataset': 'Elevators', 'method': 'Simplex-GP', 'peak_mem': 1 },\n",
    "    { 'dataset': 'Houseelectric', 'method': 'SGPR', 'peak_mem': 16.5 },\n",
    "    { 'dataset': 'Houseelectric', 'method': 'Simplex-GP', 'peak_mem': 2.5 },\n",
    "    { 'dataset': 'Keggdirected', 'method': 'SGPR', 'peak_mem': 2.5 },\n",
    "    { 'dataset': 'Keggdirected', 'method': 'SKIP', 'peak_mem': 11.5 },\n",
    "    { 'dataset': 'Keggdirected', 'method': 'Simplex-GP', 'peak_mem': 1.5 },\n",
    "    { 'dataset': 'Precipitation', 'method': 'SGPR', 'peak_mem': 19.2 },\n",
    "    { 'dataset': 'Precipitation', 'method': 'SKIP', 'peak_mem': 12 },\n",
    "    { 'dataset': 'Precipitation', 'method': 'Simplex-GP', 'peak_mem': 1.5 },\n",
    "    { 'dataset': 'Protein', 'method': 'SGPR', 'peak_mem': 2.4 },\n",
    "    { 'dataset': 'Protein', 'method': 'SKIP', 'peak_mem': 4.5 },\n",
    "    { 'dataset': 'Protein', 'method': 'Simplex-GP', 'peak_mem': 1.5 },\n",
    "])\n",
    "raw_mem_data"
   ]
  },
  {
   "cell_type": "code",
   "execution_count": null,
   "metadata": {},
   "outputs": [],
   "source": [
    "g = sns.catplot(data=raw_mem_data, x='peak_mem', y='dataset', hue='method', kind='bar')\n",
    "\n",
    "g.ax.set_title('Peak GPU Memory Usage (GB)')\n",
    "g.ax.set_xlabel('')\n",
    "g.ax.set_ylabel('')\n",
    "# g.ax.set_xticklabels(g.ax.get_xticklabels(), rotation=20)\n",
    "\n",
    "g._legend.set_visible(False)\n",
    "g.fig.subplots_adjust(right=0.5)\n",
    "handles, labels = g.ax.get_legend_handles_labels()\n",
    "g.fig.legend(handles=handles, labels=labels, bbox_to_anchor=(1., 0.5, .25, 0.),\n",
    "             loc='lower center', ncol=1, borderaxespad=0., frameon=True, title='Method')\n",
    "\n",
    "g.fig.tight_layout()\n",
    "g.fig.savefig('mem_usage.pdf', bbox_inches='tight')"
   ]
  },
  {
   "cell_type": "code",
   "execution_count": null,
   "metadata": {},
   "outputs": [],
   "source": [
    "raw_speed_data = pd.DataFrame([\n",
    "    { 'dataset': 'Elevators', 'exact_mvm_t': 0.008, 'simplex_mvm_t': 0.083 },\n",
    "    { 'dataset': 'Houseelectric', 'exact_mvm_t': 17.1, 'simplex_mvm_t': 1.756 },\n",
    "    { 'dataset': 'Keggdirected', 'exact_mvm_t': 0.033, 'simplex_mvm_t': 0.134 },\n",
    "    { 'dataset': 'Precipitation', 'exact_mvm_t': 0.549, 'simplex_mvm_t': 0.082 },\n",
    "    { 'dataset': 'Protein', 'exact_mvm_t': 0.014, 'simplex_mvm_t': 0.034 },\n",
    "])\n",
    "\n",
    "# raw_speed_data['ratio'] = np.log(raw_speed_data['exact_mvm_t'] / raw_speed_data['simplex_mvm_t'])\n",
    "raw_speed_data['ratio'] = raw_speed_data['exact_mvm_t'] / raw_speed_data['simplex_mvm_t']\n",
    "\n",
    "raw_speed_data"
   ]
  },
  {
   "cell_type": "code",
   "execution_count": null,
   "metadata": {},
   "outputs": [],
   "source": [
    "fig, ax = plt.subplots(figsize=(10,5))\n",
    "\n",
    "ax.barh(raw_speed_data.dataset[np.argsort(raw_speed_data.ratio)],\n",
    "raw_speed_data.ratio[np.argsort(raw_speed_data.ratio)], color=cm.Set1.colors[:5])\n",
    "\n",
    "ax.set_xticklabels([f'{t:.0f}x' for t in ax.get_xticks()])\n",
    "ax.set_xlabel('MVM Speedup')\n",
    "\n",
    "fig.savefig('mvm_speedup.pdf', bbox_inches='tight')"
   ]
  },
  {
   "cell_type": "code",
   "execution_count": null,
   "metadata": {},
   "outputs": [],
   "source": []
  }
 ]
}