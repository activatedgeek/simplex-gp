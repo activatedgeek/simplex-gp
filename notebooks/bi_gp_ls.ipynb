{
 "cells": [
  {
   "cell_type": "code",
   "execution_count": null,
   "metadata": {},
   "outputs": [],
   "source": [
    "import sys\n",
    "import os\n",
    "\n",
    "\n",
    "if os.path.abspath('..') not in sys.path:\n",
    "    sys.path.insert(0, os.path.abspath('..'))"
   ]
  },
  {
   "cell_type": "code",
   "execution_count": null,
   "metadata": {},
   "outputs": [],
   "source": [
    "from tqdm.auto import tqdm\n",
    "import torch\n",
    "import gpytorch as gp\n",
    "import altair as alt\n",
    "import pandas as pd\n",
    "import numpy as np\n",
    "\n",
    "from bi_gp.bilateral_kernel import BilateralKernel\n",
    "from experiments.utils import UCIDataset, standardize"
   ]
  },
  {
   "cell_type": "code",
   "execution_count": null,
   "metadata": {},
   "outputs": [],
   "source": [
    "class ExactGPModel(gp.models.ExactGP):\n",
    "    def __init__(self, train_x, train_y):\n",
    "        likelihood = gp.likelihoods.GaussianLikelihood()\n",
    "        super().__init__(train_x, train_y, likelihood)\n",
    "        self.mean_module = gp.means.ConstantMean()\n",
    "        self.covar_module = gp.kernels.ScaleKernel(gp.kernels.RBFKernel(ard_num_dims=train_x.size(-1)))\n",
    "\n",
    "    def forward(self, x):\n",
    "        mean_x = self.mean_module(x)\n",
    "        covar_x = self.covar_module(x)\n",
    "        return gp.distributions.MultivariateNormal(mean_x, covar_x)\n",
    "\n",
    "\n",
    "class SGPRModel(gp.models.ExactGP):\n",
    "    def __init__(self, train_x, train_y, inducing_points):\n",
    "        likelihood = gp.likelihoods.GaussianLikelihood()\n",
    "        super().__init__(train_x, train_y, likelihood)\n",
    "        self.mean_module = gp.means.ConstantMean()\n",
    "        self.base_covar_module = gp.kernels.ScaleKernel(gp.kernels.RBFKernel(ard_num_dims=train_x.size(-1)))\n",
    "        self.covar_module = gp.kernels.InducingPointKernel(\n",
    "          self.base_covar_module, inducing_points=inducing_points, likelihood=likelihood)\n",
    "\n",
    "    def forward(self, x):\n",
    "        mean_x = self.mean_module(x)\n",
    "        covar_x = self.covar_module(x)\n",
    "        return gp.distributions.MultivariateNormal(mean_x, covar_x)\n",
    "\n",
    "\n",
    "class KISSGPModel(gp.models.ExactGP):\n",
    "    def __init__(self, train_x, train_y, grid_size):\n",
    "        likelihood = gp.likelihoods.GaussianLikelihood()\n",
    "        super().__init__(train_x, train_y, likelihood)\n",
    "\n",
    "        if not isinstance(grid_size, int):\n",
    "            grid_size = gp.utils.grid.choose_grid_size(train_x)\n",
    "\n",
    "        self.mean_module = gp.means.ConstantMean()\n",
    "        self.covar_module = gp.kernels.ScaleKernel(\n",
    "            gp.kernels.GridInterpolationKernel(\n",
    "                gp.kernels.RBFKernel(ard_num_dims=train_x.size(-1)), grid_size=grid_size, num_dims=train_x.size(-1)\n",
    "            )\n",
    "        )\n",
    "\n",
    "    def forward(self, x):\n",
    "        mean_x = self.mean_module(x)\n",
    "        covar_x = self.covar_module(x)\n",
    "        return gp.distributions.MultivariateNormal(mean_x, covar_x)\n",
    "\n",
    "\n",
    "class SKIPGPModel(gp.models.ExactGP):\n",
    "    def __init__(self, train_x, train_y, grid_size):\n",
    "        likelihood = gp.likelihoods.GaussianLikelihood()\n",
    "        super().__init__(train_x, train_y, likelihood)\n",
    "        \n",
    "        self.mean_module = gp.means.ConstantMean()\n",
    "        self.base_covar_module = gp.kernels.RBFKernel()\n",
    "        self.covar_module = gp.kernels.ProductStructureKernel(\n",
    "            gp.kernels.ScaleKernel(\n",
    "                gp.kernels.GridInterpolationKernel(self.base_covar_module, grid_size=grid_size, num_dims=1)\n",
    "            ), num_dims=train_x.size(-1)\n",
    "        )\n",
    "\n",
    "    def forward(self, x):\n",
    "        mean_x = self.mean_module(x)\n",
    "        covar_x = self.covar_module(x)\n",
    "        return gp.distributions.MultivariateNormal(mean_x, covar_x)\n",
    "\n",
    "\n",
    "class BilateralGPModel(gp.models.ExactGP):\n",
    "    def __init__(self, train_x, train_y):\n",
    "        likelihood = gp.likelihoods.GaussianLikelihood()\n",
    "        super().__init__(train_x, train_y, likelihood)\n",
    "        self.mean_module = gp.means.ConstantMean()\n",
    "        self.covar_module = gp.kernels.ScaleKernel(BilateralKernel(ard_num_dims=train_x.size(-1)))\n",
    "\n",
    "    def forward(self, x):\n",
    "        mean_x = self.mean_module(x)\n",
    "        covar_x = self.covar_module(x)\n",
    "        return gp.distributions.MultivariateNormal(mean_x, covar_x)"
   ]
  },
  {
   "cell_type": "code",
   "execution_count": null,
   "metadata": {},
   "outputs": [],
   "source": [
    "def train(x, y, model, mll, optim):\n",
    "    model.train()\n",
    "\n",
    "    optim.zero_grad()\n",
    "\n",
    "    output = model(x)\n",
    "\n",
    "    loss = -mll(output, y)\n",
    "\n",
    "    loss.backward()\n",
    "\n",
    "    optim.step()\n",
    "\n",
    "    return { 'train/ll': -loss.detach().item() }\n",
    "\n",
    "\n",
    "def test(x, y, model, lanc_iter=100, pre_size=0):\n",
    "    model.eval()\n",
    "\n",
    "    with torch.no_grad():\n",
    "#        gp.settings.max_preconditioner_size(pre_size), \\\n",
    "#        gp.settings.max_root_decomposition_size(lanc_iter), \\\n",
    "#        gp.settings.fast_pred_var():\n",
    "        preds = model(x)\n",
    "\n",
    "        pred_y = model.likelihood(model(x))\n",
    "        rmse = (pred_y.mean - y).pow(2).mean(0).sqrt()\n",
    "\n",
    "    return { 'test/rmse': rmse.item() }\n",
    "\n",
    "\n",
    "def train_util(model, x, y, lr=0.1, epochs=200):\n",
    "    mll = gp.mlls.ExactMarginalLogLikelihood(model.likelihood, model)\n",
    "    optim = torch.optim.Adam(model.parameters(), lr=lr)\n",
    "\n",
    "    for _ in tqdm(range(epochs)):\n",
    "        train(x, y, model, mll, optim)"
   ]
  },
  {
   "cell_type": "markdown",
   "metadata": {},
   "source": [
    "## Pumadyn Dataset"
   ]
  },
  {
   "cell_type": "code",
   "execution_count": null,
   "metadata": {},
   "outputs": [],
   "source": [
    "uci_data_dir = os.path.join(os.environ.get('DATADIR'), 'uci')\n",
    "train_dataset = UCIDataset.create('pumadyn32nm', uci_data_dir=uci_data_dir, mode='train')\n",
    "test_dataset = UCIDataset.create('pumadyn32nm', uci_data_dir=uci_data_dir, mode='test')\n",
    "\n",
    "train_x, train_y = train_dataset.x, train_dataset.y\n",
    "test_x, test_y = test_dataset.x, test_dataset.y\n",
    "train_x, train_y, test_x, test_y = standardize(train_x, train_y, test_x, test_y)"
   ]
  },
  {
   "cell_type": "markdown",
   "metadata": {},
   "source": [
    "### Exact GP"
   ]
  },
  {
   "cell_type": "code",
   "execution_count": null,
   "metadata": {},
   "outputs": [],
   "source": [
    "egp = ExactGPModel(train_x, train_y).float()\n",
    "\n",
    "train_util(egp, train_x, train_y)"
   ]
  },
  {
   "cell_type": "markdown",
   "metadata": {},
   "source": [
    "### Bilateral GP"
   ]
  },
  {
   "cell_type": "code",
   "execution_count": null,
   "metadata": {},
   "outputs": [],
   "source": [
    "bigp = BilateralGPModel(train_x, train_y).float()\n",
    "\n",
    "with gp.settings.max_root_decomposition_size(100):\n",
    "    train_util(bigp, train_x, train_y)"
   ]
  }
 ],
 "metadata": {
  "kernelspec": {
   "display_name": "Python 3",
   "language": "python",
   "name": "python3"
  },
  "language_info": {
   "codemirror_mode": {
    "name": "ipython",
    "version": 3
   },
   "file_extension": ".py",
   "mimetype": "text/x-python",
   "name": "python",
   "nbconvert_exporter": "python",
   "pygments_lexer": "ipython3",
   "version": "3.7.8"
  }
 },
 "nbformat": 4,
 "nbformat_minor": 4
}
