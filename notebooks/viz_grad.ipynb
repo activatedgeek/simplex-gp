{
 "metadata": {
  "language_info": {
   "codemirror_mode": {
    "name": "ipython",
    "version": 3
   },
   "file_extension": ".py",
   "mimetype": "text/x-python",
   "name": "python",
   "nbconvert_exporter": "python",
   "pygments_lexer": "ipython3",
   "version": "3.9.2-final"
  },
  "orig_nbformat": 2,
  "kernelspec": {
   "name": "python3",
   "display_name": "Python 3.9.2 64-bit ('bilateral-gp': conda)",
   "metadata": {
    "interpreter": {
     "hash": "ffdb161abba9b4c6ed90ea70f14a998c2b70ba8faeee50224e9918737cdc1ef1"
    }
   }
  }
 },
 "nbformat": 4,
 "nbformat_minor": 2,
 "cells": [
  {
   "cell_type": "code",
   "execution_count": 2,
   "metadata": {},
   "outputs": [],
   "source": [
    "import os\n",
    "import torch\n",
    "import gpytorch as gp\n",
    "import numpy as np\n",
    "\n",
    "if os.path.abspath('..') not in sys.path:\n",
    "    sys.path.insert(0, os.path.abspath('..'))\n",
    "\n",
    "# os.environ['CUDA_VISIBLE_DEVICES'] = \"7\"\n",
    "device = 'cuda:4' if torch.cuda.is_available() else None\n",
    "\n",
    "torch.cuda.set_device(device)"
   ]
  },
  {
   "cell_type": "code",
   "execution_count": 3,
   "metadata": {},
   "outputs": [],
   "source": [
    "from bi_gp.bilateral_kernel import BilateralKernel, MaternLattice, RBFLattice\n",
    "\n",
    "class BilateralGPModel(gp.models.ExactGP):\n",
    "    def __init__(self, train_x, train_y, nu=None, order=1, min_noise=1e-4):\n",
    "        likelihood = gp.likelihoods.GaussianLikelihood(\n",
    "                      noise_constraint=gp.constraints.GreaterThan(min_noise))\n",
    "        super().__init__(train_x, train_y, likelihood)\n",
    "        self.mean_module = gp.means.ConstantMean()\n",
    "        self.base_covar_module = MaternLattice(nu=nu, order=order) \\\n",
    "          if nu is not None else RBFLattice(order=order)\n",
    "        self.covar_module = gp.kernels.ScaleKernel(self.base_covar_module)\n",
    "\n",
    "    def forward(self, x):\n",
    "        mean_x = self.mean_module(x)\n",
    "        covar_x = self.covar_module(x)\n",
    "        return gp.distributions.MultivariateNormal(mean_x, covar_x)"
   ]
  },
  {
   "cell_type": "code",
   "execution_count": 4,
   "metadata": {},
   "outputs": [],
   "source": [
    "from experiments.utils import prepare_dataset\n",
    "\n",
    "data_iter = prepare_dataset('houseelectric', uci_data_dir=None, device=device)\n",
    "_, train_x, train_y = next(data_iter)"
   ]
  },
  {
   "source": [
    "## Autograd\n",
    "\n",
    "This currently uses the approximation to the gradient, defined as another collection of filtering operations."
   ],
   "cell_type": "markdown",
   "metadata": {}
  },
  {
   "cell_type": "code",
   "execution_count": 5,
   "metadata": {},
   "outputs": [
    {
     "output_type": "stream",
     "name": "stdout",
     "text": [
      "Discretized kernel coeffs: tensor([0.3404, 1.0000, 0.3404])\n",
      "Discretized kernel deriv coeffs: tensor([0.3463, 1.0000, 0.3463])\n",
      "Using /home/sanyam_s/.cache/torch_extensions as PyTorch extensions root...\n",
      "Detected CUDA files, patching ldflags\n",
      "Emitting ninja build file /home/sanyam_s/.cache/torch_extensions/gpu_lattice/build.ninja...\n",
      "Building extension module gpu_lattice...\n",
      "Allowing ninja to set a default number of workers... (overridable by setting the environment variable MAX_JOBS=N)\n",
      "Loading extension module gpu_lattice...\n",
      "Loss: 0.8699606657028198\n",
      "[0] Parameter containing:\n",
      "tensor([0.], device='cuda:4', requires_grad=True) ---> tensor([0.3078], device='cuda:4')\n",
      "[1] Parameter containing:\n",
      "tensor([0.], device='cuda:4', requires_grad=True) ---> tensor([-0.0941], device='cuda:4')\n",
      "[2] Parameter containing:\n",
      "tensor([[0.]], device='cuda:4', requires_grad=True) ---> tensor([[-0.2925]], device='cuda:4')\n",
      "[3] 0.0 ---> -0.010579816997051239\n"
     ]
    }
   ],
   "source": [
    "with gp.settings.cg_tolerance(1.0), \\\n",
    "    gp.settings.max_preconditioner_size(50), \\\n",
    "    gp.settings.max_root_decomposition_size(100):\n",
    "    model = BilateralGPModel(train_x, train_y, nu=1.5, order=1).to(device)\n",
    "    mll = gp.mlls.ExactMarginalLogLikelihood(model.likelihood, model)\n",
    "\n",
    "    loss = -mll(model(train_x), train_y)\n",
    "    print(f'Loss: {loss.item()}')\n",
    "\n",
    "    loss.backward()\n",
    "\n",
    "for idx, p in enumerate(model.parameters()):\n",
    "    print(f'[{idx}] {p} ---> {p.grad}')"
   ]
  },
  {
   "source": [
    "## Center Difference"
   ],
   "cell_type": "markdown",
   "metadata": {}
  },
  {
   "cell_type": "code",
   "execution_count": 6,
   "metadata": {},
   "outputs": [],
   "source": [
    "def f(eps=1e-2, p_idx=None):\n",
    "    model = BilateralGPModel(train_x, train_y, nu=1.5, order=1).to(device)\n",
    "    mll = gp.mlls.ExactMarginalLogLikelihood(model.likelihood, model)\n",
    "\n",
    "    for i, p in enumerate(model.parameters()):\n",
    "        if p_idx == i:\n",
    "            print(f'[{p_idx}] {p} + {eps}')\n",
    "            ## Assumes no ARD, scalar params\n",
    "            p += eps\n",
    "\n",
    "    loss = -mll(model(train_x), train_y)\n",
    "    print(f'Loss: {loss.item()}')\n",
    "    return loss"
   ]
  },
  {
   "cell_type": "code",
   "execution_count": 7,
   "metadata": {},
   "outputs": [
    {
     "output_type": "stream",
     "name": "stdout",
     "text": [
      "Discretized kernel coeffs: tensor([0.3404, 1.0000, 0.3404])\n",
      "Discretized kernel deriv coeffs: tensor([0.3463, 1.0000, 0.3463])\n",
      "[2] Parameter containing:\n",
      "tensor([[0.]], device='cuda:4', requires_grad=True) + 0.01\n",
      "Loss: 0.8672400712966919\n",
      "Discretized kernel coeffs: tensor([0.3404, 1.0000, 0.3404])\n",
      "Discretized kernel deriv coeffs: tensor([0.3463, 1.0000, 0.3463])\n",
      "[2] Parameter containing:\n",
      "tensor([[0.]], device='cuda:4', requires_grad=True) + -0.01\n",
      "Loss: 0.8714877963066101\n",
      "Finite Diff: -0.21238625049591064\n",
      "Discretized kernel coeffs: tensor([0.3404, 1.0000, 0.3404])\n",
      "Discretized kernel deriv coeffs: tensor([0.3463, 1.0000, 0.3463])\n",
      "[2] Parameter containing:\n",
      "tensor([[0.]], device='cuda:4', requires_grad=True) + 0.01\n",
      "Loss: 0.8674075603485107\n",
      "Discretized kernel coeffs: tensor([0.3404, 1.0000, 0.3404])\n",
      "Discretized kernel deriv coeffs: tensor([0.3463, 1.0000, 0.3463])\n",
      "[2] Parameter containing:\n",
      "tensor([[0.]], device='cuda:4', requires_grad=True) + -0.01\n",
      "Loss: 0.8715829253196716\n",
      "Finite Diff: -0.20876824855804443\n",
      "Discretized kernel coeffs: tensor([0.3404, 1.0000, 0.3404])\n",
      "Discretized kernel deriv coeffs: tensor([0.3463, 1.0000, 0.3463])\n",
      "[2] Parameter containing:\n",
      "tensor([[0.]], device='cuda:4', requires_grad=True) + 0.01\n",
      "Loss: 0.8671854138374329\n",
      "Discretized kernel coeffs: tensor([0.3404, 1.0000, 0.3404])\n",
      "Discretized kernel deriv coeffs: tensor([0.3463, 1.0000, 0.3463])\n",
      "[2] Parameter containing:\n",
      "tensor([[0.]], device='cuda:4', requires_grad=True) + -0.01\n",
      "Loss: 0.8715963363647461\n",
      "Finite Diff: -0.22054612636566162\n",
      "Discretized kernel coeffs: tensor([0.3404, 1.0000, 0.3404])\n",
      "Discretized kernel deriv coeffs: tensor([0.3463, 1.0000, 0.3463])\n",
      "[2] Parameter containing:\n",
      "tensor([[0.]], device='cuda:4', requires_grad=True) + 0.01\n",
      "Loss: 0.8673000335693359\n",
      "Discretized kernel coeffs: tensor([0.3404, 1.0000, 0.3404])\n",
      "Discretized kernel deriv coeffs: tensor([0.3463, 1.0000, 0.3463])\n",
      "[2] Parameter containing:\n",
      "tensor([[0.]], device='cuda:4', requires_grad=True) + -0.01\n",
      "Loss: 0.8715635538101196\n",
      "Finite Diff: -0.21317601203918457\n",
      "Discretized kernel coeffs: tensor([0.3404, 1.0000, 0.3404])\n",
      "Discretized kernel deriv coeffs: tensor([0.3463, 1.0000, 0.3463])\n",
      "[2] Parameter containing:\n",
      "tensor([[0.]], device='cuda:4', requires_grad=True) + 0.01\n",
      "Loss: 0.8673045039176941\n",
      "Discretized kernel coeffs: tensor([0.3404, 1.0000, 0.3404])\n",
      "Discretized kernel deriv coeffs: tensor([0.3463, 1.0000, 0.3463])\n",
      "[2] Parameter containing:\n",
      "tensor([[0.]], device='cuda:4', requires_grad=True) + -0.01\n",
      "Loss: 0.871599018573761\n",
      "Finite Diff: -0.21472573280334473\n",
      "-0.2139204740524292 +/- 0.0076942161855407835\n"
     ]
    }
   ],
   "source": [
    "eps = 1e-2\n",
    "p_idx = 2  ## lengthscale at index 2 (see above)\n",
    "grads = []\n",
    "for _ in range(5):\n",
    "    with torch.no_grad():\n",
    "        grad = (f(p_idx=p_idx, eps=eps) - f(p_idx=p_idx, eps=-eps)) / (2. * eps)\n",
    "        print(f'Finite Diff: {grad}')\n",
    "        grads.append(grad.item())\n",
    "\n",
    "print(f'{np.mean(grads)} +/- {2 * np.std(grads)}')"
   ]
  },
  {
   "cell_type": "code",
   "execution_count": null,
   "metadata": {},
   "outputs": [],
   "source": []
  }
 ]
}