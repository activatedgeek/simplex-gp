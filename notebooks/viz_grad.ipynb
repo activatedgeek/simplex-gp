{
 "metadata": {
  "language_info": {
   "codemirror_mode": {
    "name": "ipython",
    "version": 3
   },
   "file_extension": ".py",
   "mimetype": "text/x-python",
   "name": "python",
   "nbconvert_exporter": "python",
   "pygments_lexer": "ipython3",
   "version": "3.9.2-final"
  },
  "orig_nbformat": 2,
  "kernelspec": {
   "name": "python3",
   "display_name": "Python 3.9.2 64-bit ('bilateral-gp': conda)",
   "metadata": {
    "interpreter": {
     "hash": "ffdb161abba9b4c6ed90ea70f14a998c2b70ba8faeee50224e9918737cdc1ef1"
    }
   }
  }
 },
 "nbformat": 4,
 "nbformat_minor": 2,
 "cells": [
  {
   "cell_type": "code",
   "execution_count": null,
   "metadata": {},
   "outputs": [],
   "source": [
    "import os\n",
    "import torch\n",
    "import gpytorch as gp\n",
    "import numpy as np\n",
    "\n",
    "if os.path.abspath('..') not in sys.path:\n",
    "    sys.path.insert(0, os.path.abspath('..'))\n",
    "\n",
    "device = 'cuda:3' if torch.cuda.is_available() else None\n",
    "\n",
    "torch.cuda.set_device(device)"
   ]
  },
  {
   "cell_type": "code",
   "execution_count": null,
   "metadata": {},
   "outputs": [],
   "source": [
    "from bi_gp.bilateral_kernel import MaternLattice, RBFLattice\n",
    "\n",
    "class BilateralGPModel(gp.models.ExactGP):\n",
    "    def __init__(self, train_x, train_y, nu=None, order=1, min_noise=1e-4):\n",
    "        likelihood = gp.likelihoods.GaussianLikelihood(\n",
    "                      noise_constraint=gp.constraints.GreaterThan(min_noise))\n",
    "        super().__init__(train_x, train_y, likelihood)\n",
    "        self.mean_module = gp.means.ConstantMean()\n",
    "        self.base_covar_module = MaternLattice(nu=nu, order=order) \\\n",
    "          if nu is not None else RBFLattice(order=order)\n",
    "        self.covar_module = gp.kernels.ScaleKernel(self.base_covar_module)\n",
    "\n",
    "    def forward(self, x):\n",
    "        mean_x = self.mean_module(x)\n",
    "        covar_x = self.covar_module(x)\n",
    "        return gp.distributions.MultivariateNormal(mean_x, covar_x)\n",
    "\n",
    "\n",
    "class KeOpsModel(gp.models.ExactGP):\n",
    "    def __init__(self, train_x, train_y, nu=None, min_noise=1e-4):\n",
    "        assert train_x.is_contiguous(), 'Need contiguous x for KeOps'\n",
    "\n",
    "        likelihood = gp.likelihoods.GaussianLikelihood(\n",
    "                      noise_constraint=gp.constraints.GreaterThan(min_noise))\n",
    "        super().__init__(train_x, train_y, likelihood)\n",
    "        self.mean_module = gp.means.ConstantMean()\n",
    "        self.base_covar_module = gp.kernels.keops.MaternKernel(nu=nu) \\\n",
    "          if nu is not None else gp.kernels.keops.RBFKernel()\n",
    "        self.covar_module = gp.kernels.ScaleKernel(self.base_covar_module)\n",
    "\n",
    "    def forward(self, x):\n",
    "        assert x.is_contiguous(), 'Need contiguous x for KeOps'\n",
    "\n",
    "        mean_x = self.mean_module(x)\n",
    "        covar_x = self.covar_module(x)\n",
    "        return gp.distributions.MultivariateNormal(mean_x, covar_x)"
   ]
  },
  {
   "cell_type": "code",
   "execution_count": null,
   "metadata": {},
   "outputs": [],
   "source": [
    "from experiments.utils import prepare_dataset\n",
    "\n",
    "data_iter = prepare_dataset('precipitation3d_all', uci_data_dir=None, device=device)\n",
    "_, train_x, train_y = next(data_iter)"
   ]
  },
  {
   "source": [
    "## Autograd\n",
    "\n",
    "This currently uses the approximation to the gradient, defined as another collection of filtering operations."
   ],
   "cell_type": "markdown",
   "metadata": {}
  },
  {
   "cell_type": "code",
   "execution_count": null,
   "metadata": {},
   "outputs": [],
   "source": [
    "with gp.settings.cg_tolerance(1e-2), \\\n",
    "    gp.settings.max_preconditioner_size(100), \\\n",
    "    gp.settings.max_root_decomposition_size(100):\n",
    "    model = BilateralGPModel(train_x, train_y, nu=1.5, order=1).to(device)\n",
    "    # model = KeOpsModel(train_x, train_y, nu=1.5).to(device)\n",
    "    model.base_covar_module.lengthscale = 1.0\n",
    "    mll = gp.mlls.ExactMarginalLogLikelihood(model.likelihood, model)\n",
    "\n",
    "    loss = -mll(model(train_x), train_y)\n",
    "    print(f'Loss: {loss.item()}')\n",
    "\n",
    "    loss.backward()\n",
    "\n",
    "for idx, p in enumerate(model.parameters()):\n",
    "    print(f'[{idx}] {p} ---> {p.grad}')"
   ]
  },
  {
   "source": [
    "## Finite Difference"
   ],
   "cell_type": "markdown",
   "metadata": {}
  },
  {
   "cell_type": "code",
   "execution_count": null,
   "metadata": {},
   "outputs": [],
   "source": [
    "import torch.nn.functional as F\n",
    "import torch.nn as nn\n",
    "\n",
    "def f(raw_ell):\n",
    "    with gp.settings.cg_tolerance(1e-2), \\\n",
    "        gp.settings.max_preconditioner_size(100), \\\n",
    "        gp.settings.max_root_decomposition_size(100), torch.no_grad():\n",
    "        model = BilateralGPModel(train_x, train_y, nu=1.5, order=1).to(device)\n",
    "        model.base_covar_module.raw_lengthscale = nn.Parameter(raw_ell)\n",
    "\n",
    "        mll = gp.mlls.ExactMarginalLogLikelihood(model.likelihood, model)\n",
    "        loss = -mll(model(train_x), train_y)\n",
    "\n",
    "    print(f'Raw Lengthscale: {model.base_covar_module.raw_lengthscale}; Loss: {loss}')\n",
    "    return loss\n",
    "\n",
    "raw_ell = model.base_covar_module.raw_lengthscale\n",
    "eps = 1e-4\n",
    "grads = []\n",
    "\n",
    "for _ in range(5):\n",
    "    grad = (f(raw_ell + eps) - f(raw_ell - eps)) / (2. * eps)\n",
    "    print(f'Finite Diff: {grad}')\n",
    "    grads.append(grad.item())\n",
    "    torch.cuda.empty_cache()\n",
    "\n",
    "print(f'{np.mean(grads)} +/- {2 * np.std(grads)}')"
   ]
  },
  {
   "source": [
    "## JVP Checks"
   ],
   "cell_type": "markdown",
   "metadata": {}
  },
  {
   "cell_type": "code",
   "execution_count": null,
   "metadata": {},
   "outputs": [],
   "source": [
    "from gpytorch.kernels.keops import RBFKernel, MaternKernel\n",
    "from bi_gp.bilateral_kernel import MaternLattice, RBFLattice\n",
    "\n",
    "# K_gt = MaternKernel(nu=1.5).to(device)\n",
    "# f_gt = lambda x, y: K_gt(x, x) @ y\n",
    "\n",
    "K_lattice = RBFLattice(order=1).to(device)\n",
    "f_lattice = lambda x, y: (K_lattice(x, x) @ y).sum()\n",
    "train_x = torch.randn(5, 1).to(device).requires_grad_(True)\n",
    "train_y = torch.rand(5, 1).to(device).requires_grad_(False)\n",
    "torch.autograd.gradcheck(f_lattice, (train_x, train_y), eps=1e-4, rtol=1e-2, atol=1e-2)"
   ]
  },
  {
   "cell_type": "code",
   "execution_count": null,
   "metadata": {},
   "outputs": [],
   "source": []
  }
 ]
}