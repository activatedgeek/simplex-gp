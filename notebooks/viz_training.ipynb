{
 "metadata": {
  "language_info": {
   "codemirror_mode": {
    "name": "ipython",
    "version": 3
   },
   "file_extension": ".py",
   "mimetype": "text/x-python",
   "name": "python",
   "nbconvert_exporter": "python",
   "pygments_lexer": "ipython3",
   "version": "3.7.9-final"
  },
  "orig_nbformat": 2,
  "kernelspec": {
   "name": "python3",
   "display_name": "Python 3.7.9 64-bit",
   "metadata": {
    "interpreter": {
     "hash": "51072b1ebab07f604636e9515d4269d8abc294d4696568bd0a68722800a9b380"
    }
   }
  }
 },
 "nbformat": 4,
 "nbformat_minor": 2,
 "cells": [
  {
   "cell_type": "code",
   "execution_count": null,
   "metadata": {},
   "outputs": [],
   "source": [
    "import os\n",
    "import wandb\n",
    "import halmos\n",
    "import pandas as pd\n",
    "import matplotlib.pyplot as plt\n",
    "import seaborn as sns\n",
    "\n",
    "sns.set(font_scale=1.5, style='whitegrid', palette=sns.color_palette('Set1'))"
   ]
  },
  {
   "cell_type": "code",
   "execution_count": null,
   "metadata": {},
   "outputs": [],
   "source": [
    "keys = ['train/total_ts', 'train/mll', 'val/rmse', 'test/rmse']\n",
    "config_keys = ['method', 'dataset']"
   ]
  },
  {
   "cell_type": "code",
   "execution_count": null,
   "metadata": {},
   "outputs": [],
   "source": [
    "## KeOps\n",
    "_, metrics1 = halmos.metrics('snym/bilateral-gp-experiments/qczouufb', keys=keys, config_keys=config_keys)\n",
    "\n",
    "## Simplex-GP\n",
    "_, metrics2 = halmos.metrics('snym/bilateral-gp-experiments/lcj8po92', keys=keys, config_keys=config_keys)\n",
    "\n",
    "metrics = pd.concat([metrics1, metrics2])\n",
    "metrics"
   ]
  },
  {
   "cell_type": "code",
   "execution_count": null,
   "metadata": {},
   "outputs": [],
   "source": [
    "metrics['train/total_cu_ts'] = metrics.groupby(by=['run_id'])['train/total_ts'].cumsum()"
   ]
  },
  {
   "cell_type": "code",
   "execution_count": null,
   "metadata": {},
   "outputs": [],
   "source": [
    "fig, axes = plt.subplots(figsize=(10, 10), nrows=2, ncols=2)\n",
    "\n",
    "dataset = 'houseelectric'\n",
    "plt_metrics = metrics[(metrics.dataset == dataset) & (metrics._step <= 15)]\n",
    "sns.lineplot(data=plt_metrics, x='_step', y='train/mll', hue='method', ci=None, ax=axes[0,0])\n",
    "sns.lineplot(data=plt_metrics, x='_step', y='train/total_cu_ts', hue='method', ci=None, ax=axes[0,1])\n",
    "sns.lineplot(data=plt_metrics, x='_step', y='val/rmse', hue='method', ci=None, ax=axes[1,0])\n",
    "sns.lineplot(data=plt_metrics, x='_step', y='test/rmse', hue='method', ci=None, ax=axes[1,1])\n",
    "\n",
    "# axes[1,0].set_ylim([0.0, 2.0])\n",
    "# axes[1,1].set_ylim([0.0, 2.0])\n",
    "\n",
    "fig.tight_layout()\n",
    "\n",
    "# ax.set_ylim([0., 2.])\n",
    "fig.savefig(f'{dataset}_clipped.pdf')"
   ]
  },
  {
   "cell_type": "code",
   "execution_count": null,
   "metadata": {},
   "outputs": [],
   "source": []
  }
 ]
}