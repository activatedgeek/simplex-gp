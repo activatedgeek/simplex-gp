{
 "cells": [
  {
   "cell_type": "code",
   "execution_count": null,
   "metadata": {},
   "outputs": [],
   "source": [
    "import os\n",
    "import wandb\n",
    "import pandas as pd\n",
    "import matplotlib.pyplot as plt\n",
    "import seaborn as sns\n",
    "\n",
    "sns.set(font_scale=1.5, style='whitegrid', palette=sns.color_palette('Spectral'))"
   ]
  },
  {
   "cell_type": "code",
   "execution_count": null,
   "metadata": {},
   "outputs": [],
   "source": [
    "from typing import List\n",
    "\n",
    "def get_metrics(sweep_id, keys=None, config_keys=None):\n",
    "  api = wandb.Api()\n",
    "  sweep = api.sweep(sweep_id)\n",
    "\n",
    "  if isinstance(keys, list):\n",
    "    keys.extend(['_runtime', '_step', '_timestamp'])\n",
    "    keys = list(set(keys))\n",
    "\n",
    "  data = []\n",
    "  for run in sweep.runs:\n",
    "    cfg = {k: run.config[k] for k in config_keys}\n",
    "    for row in run.scan_history(keys=keys):\n",
    "      data.append(dict(run_id=run.id, **cfg, **row))\n",
    "\n",
    "  return sweep, pd.DataFrame(data)"
   ]
  },
  {
   "cell_type": "code",
   "execution_count": null,
   "metadata": {},
   "outputs": [],
   "source": [
    "keys = None ## get everything\n",
    "\n",
    "## KeOps\n",
    "_, metrics1 = get_metrics('gausspr/simplex-gp/xt1i60t7', keys=keys, config_keys=['method', 'dataset'])\n",
    "\n",
    "## Simplex-GP\n",
    "_, metrics2 = get_metrics('gausspr/simplex-gp/wz0yzdqq', keys=keys, config_keys=['method', 'dataset'])\n",
    "\n",
    "metrics = pd.concat([metrics1, metrics2])\n",
    "metrics['train/total_cu_ts'] = metrics.groupby(by=['run_id'])['train/total_ts'].cumsum()\n",
    "metrics"
   ]
  },
  {
   "source": [
    "## Runtime, RMSE, MLL"
   ],
   "cell_type": "markdown",
   "metadata": {}
  },
  {
   "cell_type": "code",
   "execution_count": null,
   "metadata": {},
   "outputs": [],
   "source": [
    "fig, axes = plt.subplots(figsize=(10, 10), nrows=2, ncols=2)\n",
    "\n",
    "dataset = 'keggdirected'\n",
    "plt_metrics = metrics[(metrics.dataset == dataset) & (metrics._step <= 100)]\n",
    "plt_metrics = plt_metrics.sort_values(by=['method'], ascending=False)\n",
    "sns.lineplot(data=plt_metrics, x='_step', y='train/mll', hue='method', ci=None, ax=axes[0,0])\n",
    "sns.lineplot(data=plt_metrics, x='_step', y='train/total_cu_ts', hue='method', ci=None, ax=axes[0,1])\n",
    "sns.lineplot(data=plt_metrics, x='_step', y='val/rmse', hue='method', ci=None, ax=axes[1,0])\n",
    "sns.lineplot(data=plt_metrics, x='_step', y='test/rmse', hue='method', ci=None, ax=axes[1,1])\n",
    "\n",
    "# axes[1,0].set_ylim([0.0, 2.0])\n",
    "# axes[1,1].set_ylim([0.0, 2.0])\n",
    "\n",
    "fig.tight_layout()\n",
    "\n",
    "# ax.set_ylim([0., 2.])\n",
    "# fig.savefig(f'{dataset}-training.png', bbox_inches='tight')"
   ]
  },
  {
   "source": [
    "## Lengthscales and Noise"
   ],
   "cell_type": "markdown",
   "metadata": {}
  },
  {
   "cell_type": "code",
   "execution_count": null,
   "metadata": {},
   "outputs": [],
   "source": [
    "def raw2label(v):\n",
    "  l = v.split('/')[-1]\n",
    "  if l == 'outputscale':\n",
    "    return r'$\\alpha$'\n",
    "  elif l == 'noise':\n",
    "    return r'$\\sigma^2$'\n",
    "  else:\n",
    "    return fr'$\\ell_{{{l}}}$'\n",
    "\n",
    "dataset = 'houseelectric'\n",
    "# plt_metrics = metrics[(metrics.dataset == dataset) & (metrics._step == step)].dropna(axis=1)\n",
    "plt_metrics = metrics[(metrics.dataset == dataset)].dropna(axis=1)\n",
    "param_columns = list(filter(lambda x: 'param/lengthscale' in x, plt_metrics.columns))\n",
    "plt_metrics = plt_metrics[['run_id', 'method', 'dataset', '_step'] + param_columns]\n",
    "plt_metrics = plt_metrics.melt(id_vars=['run_id', 'method', 'dataset', '_step'], var_name='param', value_name='param_value')\n",
    "plt_metrics = plt_metrics.sort_values(by=['method', 'param_value'], ascending=False)\n",
    "\n",
    "fig, ax = plt.subplots(figsize=(20, 5))\n",
    "# fig, ax = plt.subplots()\n",
    "sns.barplot(data=plt_metrics, x='param', y='param_value', hue='method', ax=ax)\n",
    "ax.set_xticklabels([raw2label(t.get_text()) for t in ax.get_xticklabels()])\n",
    "ax.set_xlabel('')\n",
    "ax.set_ylabel('')\n",
    "fig.savefig(f'{dataset}-ls.png', bbox_inches='tight')"
   ]
  },
  {
   "cell_type": "code",
   "execution_count": null,
   "metadata": {},
   "outputs": [],
   "source": [
    "def raw2label(v):\n",
    "  l = v.split('/')[-1]\n",
    "  if l == 'outputscale' or l == 'noise':\n",
    "    return l\n",
    "  else:\n",
    "    return fr'$\\ell_{{{l}}}$'\n",
    "\n",
    "dataset = 'houseelectric'\n",
    "plt_metrics = metrics[(metrics.dataset == dataset)].dropna(axis=1)\n",
    "param_columns = ['param/outputscale', 'param/noise']\n",
    "plt_metrics = plt_metrics[['run_id', 'method', 'dataset', '_step'] + param_columns]\n",
    "plt_metrics = plt_metrics.melt(id_vars=['run_id', 'method', 'dataset', '_step'], var_name='param', value_name='param_value')\n",
    "plt_metrics = plt_metrics.sort_values(by=['method', 'param_value'], ascending=False)\n",
    "\n",
    "fig, ax = plt.subplots()\n",
    "sns.barplot(data=plt_metrics, x='param', y='param_value', hue='method', ax=ax)\n",
    "ax.set_xticklabels([raw2label(t.get_text()) for t in ax.get_xticklabels()])\n",
    "ax.set_xlabel('')\n",
    "ax.set_ylabel('')\n",
    "fig.savefig(f'{dataset}-scale_noise.png', bbox_inches='tight')"
   ]
  },
  {
   "source": [
    "## CG Truncation"
   ],
   "cell_type": "markdown",
   "metadata": {}
  },
  {
   "cell_type": "code",
   "execution_count": null,
   "metadata": {},
   "outputs": [],
   "source": [
    "## Simplex-GP CG Truncations\n",
    "sweep, metrics = get_metrics('gausspr/simplex-gp/hn3wy998',\n",
    "                         keys=['train/total_ts', 'train/mll', 'val/rmse', 'test/rmse'],\n",
    "                         config_keys=['dataset', 'cg_iter'])\n",
    "\n",
    "metrics['train/total_cu_ts'] = metrics.groupby(by=['run_id'])['train/total_ts'].cumsum()\n",
    "metrics"
   ]
  },
  {
   "cell_type": "code",
   "execution_count": null,
   "metadata": {},
   "outputs": [],
   "source": [
    "rmse_data = []\n",
    "for run in sweep.runs:\n",
    "    rmse_data.append({ 'dataset': run.config['dataset'], 'cg_iter': run.config['cg_iter'], 'best_rmse': run.summary['test/best_rmse'] })\n",
    "rmse_data = pd.DataFrame(rmse_data)\n",
    "rmse_data[rmse_data.dataset == 'protein']"
   ]
  },
  {
   "cell_type": "code",
   "execution_count": null,
   "metadata": {},
   "outputs": [],
   "source": [
    "fig, axes = plt.subplots(figsize=(10, 10), nrows=2, ncols=2)\n",
    "\n",
    "dataset = 'protein'\n",
    "plt_metrics = metrics[(metrics.dataset == dataset) & (metrics._step <= 100)]\n",
    "plt_metrics = plt_metrics.sort_values(by=['cg_iter'])\n",
    "# plt_metrics = plt_metrics[plt_metrics['train/mll'] != 'NaN']\n",
    "plt_metrics.loc[:, 'train/mll'] = pd.to_numeric(plt_metrics['train/mll'])\n",
    "\n",
    "sns.lineplot(data=plt_metrics, x='_step', y='train/mll', hue='cg_iter', ax=axes[0,0])\n",
    "sns.lineplot(data=plt_metrics, x='_step', y='train/total_cu_ts', hue='cg_iter', ax=axes[0,1])\n",
    "sns.lineplot(data=plt_metrics, x='_step', y='val/rmse', hue='cg_iter', ax=axes[1,0])\n",
    "sns.lineplot(data=plt_metrics, x='_step', y='test/rmse', hue='cg_iter', ax=axes[1,1])\n",
    "fig.tight_layout()\n",
    "\n",
    "fig.savefig(f'{dataset}-cg-iter.png', bbox_inches='tight')"
   ]
  },
  {
   "cell_type": "code",
   "execution_count": null,
   "metadata": {},
   "outputs": [],
   "source": []
  }
 ],
 "metadata": {
  "kernelspec": {
   "name": "python392jvsc74a57bd051072b1ebab07f604636e9515d4269d8abc294d4696568bd0a68722800a9b380",
   "display_name": "Python 3.9.2 64-bit ('bilateral-gp': conda)"
  },
  "language_info": {
   "codemirror_mode": {
    "name": "ipython",
    "version": 3
   },
   "file_extension": ".py",
   "mimetype": "text/x-python",
   "name": "python",
   "nbconvert_exporter": "python",
   "pygments_lexer": "ipython3",
   "version": "3.9.2"
  }
 },
 "nbformat": 4,
 "nbformat_minor": 2
}