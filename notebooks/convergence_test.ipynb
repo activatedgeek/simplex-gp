{
 "cells": [
  {
   "cell_type": "code",
   "execution_count": 10,
   "metadata": {},
   "outputs": [],
   "source": [
    "import os\n",
    "import sys\n",
    "import torch\n",
    "import gpytorch\n",
    "from tqdm.auto import tqdm\n",
    "import timeit\n",
    "import numpy as np\n",
    "import pandas as pd\n",
    "import scipy.special\n",
    "if os.path.abspath('..') not in sys.path:\n",
    "    sys.path.insert(0, os.path.abspath('..'))"
   ]
  },
  {
   "cell_type": "code",
   "execution_count": 2,
   "metadata": {},
   "outputs": [],
   "source": [
    "dpath = 'snelson.csv'\n",
    "snel = pd.read_csv(dpath)\n",
    "snel = snel.iloc[:100]#np.random.permutation(range(snel.shape[0]))[:100]]\n",
    "snel_x = torch.from_numpy(snel.x.to_numpy()).unsqueeze(-1).float()\n",
    "snel_y = torch.from_numpy(snel.y.to_numpy()).float()"
   ]
  },
  {
   "cell_type": "code",
   "execution_count": 3,
   "metadata": {},
   "outputs": [
    {
     "name": "stdout",
     "output_type": "stream",
     "text": [
      "Using /tmp/torch_extensions as PyTorch extensions root...\n",
      "Emitting ninja build file /tmp/torch_extensions/lattice/build.ninja...\n",
      "Building extension module lattice...\n",
      "Allowing ninja to set a default number of workers... (overridable by setting the environment variable MAX_JOBS=N)\n",
      "Loading extension module lattice...\n"
     ]
    }
   ],
   "source": [
    "from bi_gp.gaussian_matrix import latticefilter"
   ]
  },
  {
   "cell_type": "code",
   "execution_count": 11,
   "metadata": {},
   "outputs": [],
   "source": [
    "def rel_err(x,y):\n",
    "    return ((x-y)**2).mean().sqrt()/((x**2).mean().sqrt()+(y**2).mean().sqrt())"
   ]
  },
  {
   "cell_type": "code",
   "execution_count": 44,
   "metadata": {},
   "outputs": [],
   "source": [
    "def binomial_coeffs(order):\n",
    "    n = 2*order\n",
    "    coeffs = torch.tensor([scipy.special.binom(n,i) for i in range(0,n+1)]).float()\n",
    "    return coeffs/coeffs[order]"
   ]
  },
  {
   "cell_type": "code",
   "execution_count": 45,
   "metadata": {},
   "outputs": [
    {
     "data": {
      "text/plain": [
       "tensor([0.0500, 0.3000, 0.7500, 1.0000, 0.7500, 0.3000, 0.0500])"
      ]
     },
     "execution_count": 45,
     "metadata": {},
     "output_type": "execute_result"
    }
   ],
   "source": [
    "binomial_coeffs(3)"
   ]
  },
  {
   "cell_type": "code",
   "execution_count": 46,
   "metadata": {},
   "outputs": [],
   "source": [
    "X = snel_x\n",
    "f = snel_y[:,None]\n",
    "#out = torch.zeros(1000000,16)\n",
    "#print(lattice.testfunc(torch.ones((2,3))))\n",
    "#src[:,-1] = torch.ones(1000)\n",
    "# print(X)\n",
    "# print(f)\n"
   ]
  },
  {
   "cell_type": "code",
   "execution_count": 61,
   "metadata": {},
   "outputs": [],
   "source": [
    "Kxx = torch.exp(-((X[None]-X[:,None])**2).sum(-1)/2)#/(2*np.pi)**(X.shape[-1]/2)"
   ]
  },
  {
   "cell_type": "code",
   "execution_count": 107,
   "metadata": {},
   "outputs": [],
   "source": [
    "mvm_gt = Kxx@f\n",
    "\n",
    "mvm_lattice = latticefilter(f,X,torch.tensor([.217,1.,.217]))\n"
   ]
  },
  {
   "cell_type": "code",
   "execution_count": 108,
   "metadata": {},
   "outputs": [
    {
     "data": {
      "text/plain": [
       "tensor(0.0576)"
      ]
     },
     "execution_count": 108,
     "metadata": {},
     "output_type": "execute_result"
    }
   ],
   "source": [
    "rel_err(mvm_gt,mvm_lattice/(mvm_lattice/mvm_gt).mean())"
   ]
  },
  {
   "cell_type": "code",
   "execution_count": 59,
   "metadata": {},
   "outputs": [],
   "source": [
    "def gaussian_normalization(ell):\n",
    "    # Integral of Gaussian covariance with lengthscale ell from 0 to infinity\n",
    "    return np.sqrt(2 * np.pi * ell**2)\n",
    "\n",
    "def matern_normalization(ell, nu):\n",
    "    # Integral of Matern covariance with lengthscale ell from 0 to infinity\n",
    "    return np.sqrt(2 * np.pi * ell**2) * gamma(nu + 0.5)/gamma(nu)/(nu**0.5)\n",
    "\n",
    "def gaussian_covariance(x, ell=1.):\n",
    "    x_normalized = x / ell\n",
    "    return np.exp(-x_normalized**2/2)/gaussian_normalization(ell)\n",
    "\n",
    "def matern_covariance(x, ell=1., nu=0.5):\n",
    "    if np.isinf(nu): return gaussian_covariance(x,ell=ell)\n",
    "    # Matern covariance with lengthscale ell    \n",
    "    x[x == 0.0] += np.finfo(float).eps  # strict zeros result in nan\n",
    "    x_normalized = np.sqrt(2*nu) * np.abs(x) / ell\n",
    "    unnormalized_covar = (2**(1-nu) / gamma(nu)) * (x_normalized)**nu * kv(nu, x_normalized)\n",
    "    return unnormalized_covar/matern_normalization(ell,nu)\n",
    "\n",
    "def gaussian_coeffs(order,xmax):\n",
    "    n = 2*order+1\n",
    "    grid = np.linspace(-xmax,xmax,n)\n",
    "    coeffs = gaussian_covariance(grid)\n",
    "    coeffs /= coeffs[order]\n",
    "    return torch.from_numpy(coeffs).float()"
   ]
  },
  {
   "cell_type": "code",
   "execution_count": 65,
   "metadata": {},
   "outputs": [],
   "source": [
    "import matplotlib.pyplot as plt"
   ]
  },
  {
   "cell_type": "code",
   "execution_count": 104,
   "metadata": {},
   "outputs": [
    {
     "data": {
      "text/plain": [
       "[<matplotlib.lines.Line2D at 0x7f0285c671d0>]"
      ]
     },
     "execution_count": 104,
     "metadata": {},
     "output_type": "execute_result"
    },
    {
     "data": {
      "image/png": "[encoded data removed]",
      "text/plain": [
       "<Figure size 432x288 with 1 Axes>"
      ]
     },
     "metadata": {
      "needs_background": "light"
     },
     "output_type": "display_data"
    }
   ],
   "source": [
    "mvm_gt = Kxx@f\n",
    "o=1\n",
    "\n",
    "def err(coeffs):\n",
    "    mvm_lattice = latticefilter(f,X,coeffs)\n",
    "    return rel_err(mvm_gt,mvm_lattice/(mvm_lattice/mvm_gt).mean())\n",
    "\n",
    "xmax = np.linspace(.3,3,100)\n",
    "errs = [err(gaussian_coeffs(o,x)) for x in xmax]\n",
    "plt.plot(xmax,errs)\n"
   ]
  },
  {
   "cell_type": "code",
   "execution_count": 100,
   "metadata": {},
   "outputs": [
    {
     "data": {
      "text/plain": [
       "tensor([0.5000, 1.0000, 0.5000])"
      ]
     },
     "execution_count": 100,
     "metadata": {},
     "output_type": "execute_result"
    }
   ],
   "source": [
    "gaussian_coeffs(1,np.sqrt(2*np.log(2)))"
   ]
  },
  {
   "cell_type": "code",
   "execution_count": 101,
   "metadata": {},
   "outputs": [
    {
     "data": {
      "text/plain": [
       "1.1774100225154747"
      ]
     },
     "execution_count": 101,
     "metadata": {},
     "output_type": "execute_result"
    }
   ],
   "source": [
    "np.sqrt(2*np.log(2))"
   ]
  },
  {
   "cell_type": "code",
   "execution_count": 94,
   "metadata": {},
   "outputs": [
    {
     "name": "stdout",
     "output_type": "stream",
     "text": [
      "Min of 0.021 at tensor([0.4398, 1.0000, 0.4398])\n"
     ]
    }
   ],
   "source": [
    "print(f\"Min of {np.min(errs):.3f} at {gaussian_coeffs(o,xmax[np.argmin(errs)])}\")"
   ]
  },
  {
   "cell_type": "code",
   "execution_count": 14,
   "metadata": {},
   "outputs": [
    {
     "ename": "ImportError",
     "evalue": "cannot import name 'matern' from 'gpytorch.kernels.matern_kernel' (/home/marc/anaconda3/envs/default/lib/python3.7/site-packages/gpytorch/kernels/matern_kernel.py)",
     "output_type": "error",
     "traceback": [
      "\u001b[0;31m---------------------------------------------------------------------------\u001b[0m",
      "\u001b[0;31mImportError\u001b[0m                               Traceback (most recent call last)",
      "\u001b[0;32m<ipython-input-14-c7e42f5ad1f0>\u001b[0m in \u001b[0;36m<module>\u001b[0;34m\u001b[0m\n\u001b[0;32m----> 1\u001b[0;31m \u001b[0;32mfrom\u001b[0m \u001b[0mgpytorch\u001b[0m\u001b[0;34m.\u001b[0m\u001b[0mkernels\u001b[0m\u001b[0;34m.\u001b[0m\u001b[0mmatern_kernel\u001b[0m \u001b[0;32mimport\u001b[0m \u001b[0mmatern\u001b[0m\u001b[0;34m\u001b[0m\u001b[0;34m\u001b[0m\u001b[0m\n\u001b[0m",
      "\u001b[0;31mImportError\u001b[0m: cannot import name 'matern' from 'gpytorch.kernels.matern_kernel' (/home/marc/anaconda3/envs/default/lib/python3.7/site-packages/gpytorch/kernels/matern_kernel.py)"
     ]
    }
   ],
   "source": [
    "from gpytorch.kernels.matern_kernel import matern"
   ]
  },
  {
   "cell_type": "code",
   "execution_count": 15,
   "metadata": {},
   "outputs": [],
   "source": [
    "from gpytorch.kernels import MaternKernel"
   ]
  },
  {
   "cell_type": "code",
   "execution_count": 16,
   "metadata": {},
   "outputs": [],
   "source": [
    "K = MaternKernel(nu=1.5)"
   ]
  },
  {
   "cell_type": "code",
   "execution_count": 17,
   "metadata": {},
   "outputs": [],
   "source": [
    "x = torch.linspace(0,4,3).float()[:-1,None]"
   ]
  },
  {
   "cell_type": "code",
   "execution_count": 18,
   "metadata": {},
   "outputs": [
    {
     "data": {
      "text/plain": [
       "tensor([1.0000, 0.0405], grad_fn=<SelectBackward>)"
      ]
     },
     "execution_count": 18,
     "metadata": {},
     "output_type": "execute_result"
    }
   ],
   "source": [
    "K(x,x).evaluate()[0]"
   ]
  },
  {
   "cell_type": "code",
   "execution_count": 19,
   "metadata": {},
   "outputs": [],
   "source": [
    "from gpytorch.kernels import RBFKernel"
   ]
  },
  {
   "cell_type": "code",
   "execution_count": 20,
   "metadata": {},
   "outputs": [
    {
     "data": {
      "text/plain": [
       "tensor([1.0000, 0.3532], grad_fn=<SelectBackward>)"
      ]
     },
     "execution_count": 20,
     "metadata": {},
     "output_type": "execute_result"
    }
   ],
   "source": [
    "K = RBFKernel()\n",
    "x = torch.linspace(0,2,3).float()[:-1,None]\n",
    "K(x,x).evaluate()[0]"
   ]
  },
  {
   "cell_type": "code",
   "execution_count": 24,
   "metadata": {},
   "outputs": [
    {
     "name": "stdout",
     "output_type": "stream",
     "text": [
      "tensor([1.0000e+00, 1.2476e-01, 2.4227e-04, 7.3224e-09, 3.4448e-15, 2.5225e-23])\n",
      "tensor([1.0000e+00, 3.5321e-01, 1.5565e-02, 8.5571e-05, 5.8693e-08, 5.0224e-12])\n",
      "tensor([1.0000e+00, 4.9968e-01, 6.2340e-02, 1.9419e-03, 1.5103e-05, 2.9328e-08])\n",
      "tensor([1.0000e+00, 5.9432e-01, 1.2476e-01, 9.2505e-03, 2.4227e-04, 2.2411e-06])\n",
      "tensor([1.0000e+00, 6.5950e-01, 1.8917e-01, 2.3601e-02, 1.2807e-03, 3.0225e-05])\n"
     ]
    }
   ],
   "source": [
    "for i in range(1,6):\n",
    "    x = torch.arange(6).float()[:,None]/np.sqrt(i/2)\n",
    "    print(K(x,x).evaluate()[0].data)"
   ]
  },
  {
   "cell_type": "code",
   "execution_count": null,
   "metadata": {},
   "outputs": [],
   "source": []
  }
 ],
 "metadata": {
  "kernelspec": {
   "display_name": "Python 3",
   "language": "python",
   "name": "python3"
  },
  "language_info": {
   "codemirror_mode": {
    "name": "ipython",
    "version": 3
   },
   "file_extension": ".py",
   "mimetype": "text/x-python",
   "name": "python",
   "nbconvert_exporter": "python",
   "pygments_lexer": "ipython3",
   "version": "3.7.4"
  }
 },
 "nbformat": 4,
 "nbformat_minor": 2
}
