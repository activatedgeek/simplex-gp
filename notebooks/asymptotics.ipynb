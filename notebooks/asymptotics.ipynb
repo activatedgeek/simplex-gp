{
 "cells": [
  {
   "cell_type": "code",
   "execution_count": null,
   "metadata": {},
   "outputs": [],
   "source": [
    "import os\n",
    "import sys\n",
    "import torch\n",
    "import gpytorch\n",
    "from tqdm.auto import tqdm\n",
    "import timeit\n",
    "\n",
    "if os.path.abspath('..') not in sys.path:\n",
    "    sys.path.insert(0, os.path.abspath('..'))"
   ]
  },
  {
   "cell_type": "code",
   "execution_count": null,
   "metadata": {},
   "outputs": [],
   "source": [
    "from bi_gp.bilateral_kernel import BilateralKernel"
   ]
  },
  {
   "cell_type": "code",
   "execution_count": null,
   "metadata": {},
   "outputs": [],
   "source": [
    "# device = \"cuda\" if torch.cuda.is_available() else \"cpu\"\n",
    "device = \"cpu\""
   ]
  },
  {
   "cell_type": "code",
   "execution_count": null,
   "metadata": {},
   "outputs": [],
   "source": [
    "N_vals = torch.linspace(100, 10000000, 10).int().tolist()\n",
    "D_vals = torch.linspace(1, 100, 10).int().tolist()"
   ]
  },
  {
   "cell_type": "markdown",
   "metadata": {},
   "source": [
    "# Matmul"
   ]
  },
  {
   "cell_type": "code",
   "execution_count": null,
   "metadata": {
    "tags": []
   },
   "outputs": [],
   "source": [
    "N_vary = []\n",
    "for N in tqdm(N_vals):\n",
    "    D = 1\n",
    "    x = torch.randn(N, D).to(device)\n",
    "    K = BilateralKernel().to(device)(x)\n",
    "    v = torch.randn(N, 1).to(device)\n",
    "    def matmul():\n",
    "        return K @ v\n",
    "    time = timeit.timeit(matmul , number=10)\n",
    "\n",
    "    N_vary.append([N, D, time])\n",
    "\n",
    "    del x\n",
    "    del K\n",
    "    del v\n",
    "    del matmul"
   ]
  },
  {
   "cell_type": "code",
   "execution_count": null,
   "metadata": {
    "tags": []
   },
   "outputs": [],
   "source": [
    "D_vary = []\n",
    "for D in tqdm(D_vals):\n",
    "    N = 1000\n",
    "    x = torch.randn(N, D).to(device)\n",
    "    K = BilateralKernel().to(device)(x)\n",
    "    v = torch.randn(N, 1).to(device)\n",
    "    def matmul():\n",
    "        return K @ v\n",
    "    time = timeit.timeit(matmul , number=10)\n",
    "\n",
    "    D_vary.append([N, D, time])\n",
    "\n",
    "    del x\n",
    "    del K\n",
    "    del v\n",
    "    del matmul"
   ]
  },
  {
   "cell_type": "code",
   "execution_count": null,
   "metadata": {},
   "outputs": [],
   "source": [
    "import pandas as pd\n",
    "N_vary = pd.DataFrame(N_vary, columns=[\"N\", \"D\", \"Time\"])\n",
    "D_vary = pd.DataFrame(D_vary, columns=[\"N\", \"D\", \"Time\"])"
   ]
  },
  {
   "cell_type": "code",
   "execution_count": null,
   "metadata": {
    "tags": []
   },
   "outputs": [],
   "source": [
    "import seaborn as sns\n",
    "ax = sns.lineplot(data=N_vary, x=\"N\", y=\"Time\")\n",
    "ax.set(title=\"Matmul (D=1)\")"
   ]
  },
  {
   "cell_type": "code",
   "execution_count": null,
   "metadata": {
    "tags": []
   },
   "outputs": [],
   "source": [
    "from sklearn.linear_model import LinearRegression\n",
    "import numpy as np\n",
    "regr = LinearRegression()\n",
    "regr.fit(np.log(D_vary[\"D\"].to_numpy()[:, None]), np.log(D_vary[\"Time\"]))\n",
    "print('Coefficients: \\n', regr.coef_)\n",
    "pred_time = regr.predict(np.log(D_vary[\"D\"].to_numpy()[:, None]))\n",
    "\n",
    "ax = sns.lineplot(data=D_vary, x=\"D\", y=\"Time\")\n",
    "ax.set(title=\"Matmul (N=1000)\", xscale=\"log\", yscale=\"log\")\n",
    "ax.plot(D_vary[\"D\"].to_numpy(), np.exp(pred_time))"
   ]
  },
  {
   "cell_type": "markdown",
   "metadata": {},
   "source": [
    "# Gradient"
   ]
  },
  {
   "cell_type": "code",
   "execution_count": null,
   "metadata": {
    "tags": []
   },
   "outputs": [],
   "source": [
    "N_vary = []\n",
    "for N in tqdm(N_vals):\n",
    "    D = 1\n",
    "    x = torch.randn(N, D, requires_grad=True).to(device)\n",
    "    K = BilateralKernel().to(device)(x)\n",
    "    v = torch.randn(N, 1, requires_grad=True).to(device)\n",
    "    sum = (K @ v).sum()\n",
    "    def gradient():\n",
    "        torch.autograd.grad(sum, [x, v], retain_graph=True)\n",
    "        x.grad = None\n",
    "        v.grad = None\n",
    "        return\n",
    "    time = timeit.timeit(gradient, number=10)\n",
    "\n",
    "    N_vary.append([N, D, time])\n",
    "\n",
    "    del x\n",
    "    del K\n",
    "    del v\n",
    "    del gradient"
   ]
  },
  {
   "cell_type": "code",
   "execution_count": null,
   "metadata": {
    "tags": []
   },
   "outputs": [],
   "source": [
    "D_vary = []\n",
    "for D in tqdm(D_vals):\n",
    "    N = 1000\n",
    "    x = torch.randn(N, D, requires_grad=True).to(device)\n",
    "    K = BilateralKernel().to(device)(x)\n",
    "    v = torch.randn(N, 1, requires_grad=True).to(device)\n",
    "    sum = (K @ v).sum()\n",
    "    def gradient():\n",
    "        torch.autograd.grad(sum, [x, v], retain_graph=True)\n",
    "        x.grad = None\n",
    "        v.grad = None\n",
    "        return\n",
    "    time = timeit.timeit(gradient, number=10)\n",
    "\n",
    "    D_vary.append([N, D, time])\n",
    "\n",
    "    del x\n",
    "    del K\n",
    "    del v\n",
    "    del gradient"
   ]
  },
  {
   "cell_type": "code",
   "execution_count": null,
   "metadata": {},
   "outputs": [],
   "source": [
    "import pandas as pd\n",
    "N_vary = pd.DataFrame(N_vary, columns=[\"N\", \"D\", \"Time\"])\n",
    "D_vary = pd.DataFrame(D_vary, columns=[\"N\", \"D\", \"Time\"])"
   ]
  },
  {
   "cell_type": "code",
   "execution_count": null,
   "metadata": {},
   "outputs": [],
   "source": [
    "import seaborn as sns\n",
    "ax = sns.lineplot(data=N_vary, x=\"N\", y=\"Time\")\n",
    "ax.set(title=\"Gradient computation of (K@v).sum() (D=1)\")"
   ]
  },
  {
   "cell_type": "code",
   "execution_count": null,
   "metadata": {
    "tags": []
   },
   "outputs": [],
   "source": [
    "from sklearn.linear_model import LinearRegression\n",
    "import numpy as np\n",
    "regr = LinearRegression()\n",
    "regr.fit(np.log(D_vary[\"D\"].to_numpy()[:, None]), np.log(D_vary[\"Time\"]))\n",
    "print('Coefficients: \\n', regr.coef_)\n",
    "pred_time = regr.predict(np.log(D_vary[\"D\"].to_numpy()[:, None]))\n",
    "\n",
    "ax = sns.lineplot(data=D_vary, x=\"D\", y=\"Time\")\n",
    "ax.set(title=\"Gradient computation of (K@v).sum() (N=100)\", xscale=\"log\", yscale=\"log\")\n",
    "ax.plot(D_vary[\"D\"].to_numpy(), np.exp(pred_time))"
   ]
  }
 ],
 "metadata": {
  "kernelspec": {
   "display_name": "Python 3.7.8 64-bit ('bilateral-gp': conda)",
   "language": "python",
   "name": "python_defaultSpec_1597436744900"
  },
  "language_info": {
   "codemirror_mode": {
    "name": "ipython",
    "version": 3
   },
   "file_extension": ".py",
   "mimetype": "text/x-python",
   "name": "python",
   "nbconvert_exporter": "python",
   "pygments_lexer": "ipython3",
   "version": "3.7.8-final"
  }
 },
 "nbformat": 4,
 "nbformat_minor": 4
}