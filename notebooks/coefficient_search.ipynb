{
 "cells": [
  {
   "cell_type": "code",
   "execution_count": 1,
   "metadata": {},
   "outputs": [],
   "source": [
    "import numpy as np\n",
    "from scipy.stats import binom\n",
    "from scipy.special import comb, gamma, kv\n",
    "from functools import partial\n",
    "import matplotlib.pyplot as plt\n",
    "%matplotlib inline"
   ]
  },
  {
   "cell_type": "code",
   "execution_count": 114,
   "metadata": {},
   "outputs": [],
   "source": [
    "def gaussian_normalization(ell):\n",
    "    # Integral of Gaussian covariance with lengthscale ell from 0 to infinity\n",
    "    return np.sqrt(2 * np.pi * ell**2)\n",
    "\n",
    "def matern_normalization(ell, nu):\n",
    "    # Integral of Matern covariance with lengthscale ell from 0 to infinity\n",
    "    return np.sqrt(2 * np.pi * ell**2) * gamma(nu + 0.5)/gamma(nu)/(nu**0.5)\n",
    "\n",
    "def gaussian_covariance(x, ell=1.):\n",
    "    x_normalized = x / ell\n",
    "    return np.exp(-x_normalized**2/2)/gaussian_normalization(ell)\n",
    "\n",
    "def matern_covariance(x, ell=1., nu=0.5):\n",
    "    if np.isinf(nu): return gaussian_covariance(x,ell=ell)\n",
    "    # Matern covariance with lengthscale ell    \n",
    "    x[x == 0.0] += np.finfo(float).eps  # strict zeros result in nan\n",
    "    x_normalized = np.sqrt(2*nu) * np.abs(x) / ell\n",
    "    unnormalized_covar = (2**(1-nu) / gamma(nu)) * (x_normalized)**nu * kv(nu, x_normalized)\n",
    "    return unnormalized_covar/matern_normalization(ell,nu)\n",
    "\n",
    "def gaussian_spectrum(x):\n",
    "    return np.exp(-x**2/2)/gaussian_normalization(1.)"
   ]
  },
  {
   "cell_type": "code",
   "execution_count": 3,
   "metadata": {},
   "outputs": [
    {
     "data": {
      "text/plain": [
       "array([0.00336897, 0.0410425 , 0.5       , 0.0410425 , 0.00336897])"
      ]
     },
     "execution_count": 3,
     "metadata": {},
     "output_type": "execute_result"
    }
   ],
   "source": [
    "matern_covariance(np.linspace(-5.,5.,5))"
   ]
  },
  {
   "cell_type": "code",
   "execution_count": 237,
   "metadata": {},
   "outputs": [],
   "source": [
    "def matched_fill(xmax,order):\n",
    "    k = 2*order+1\n",
    "    #grid = np.linspace(-xmax,xmax,k)\n",
    "    N=1000\n",
    "    nyquist_w = np.pi*k/(2*xmax)\n",
    "    dx = 2*xmax/N\n",
    "    dw = 2*nyquist_w/N\n",
    "    spatial_coverage = gaussian_covariance(np.linspace(-xmax,xmax,N)).sum()*dx\n",
    "    spectral_coverage = gaussian_spectrum(np.linspace(-nyquist_w,nyquist_w,N)).sum()*dw\n",
    "    return spatial_coverage-spectral_coverage\n",
    "    #return np.sqrt(spatial_coverage*spectral_coverage)\n",
    "    #return np.sqrt(spatial_coverage*spectral_coverage)"
   ]
  },
  {
   "cell_type": "code",
   "execution_count": 271,
   "metadata": {},
   "outputs": [
    {
     "data": {
      "text/plain": [
       "array([ True,  True,  True,  True,  True,  True,  True,  True,  True,\n",
       "        True])"
      ]
     },
     "execution_count": 271,
     "metadata": {},
     "output_type": "execute_result"
    }
   ],
   "source": [
    "(-2<=np.linspace(-3,5,10))<=3"
   ]
  },
  {
   "cell_type": "code",
   "execution_count": 244,
   "metadata": {},
   "outputs": [],
   "source": [
    "def matched_fill(s,order):\n",
    "    k = 2*order+1\n",
    "    #grid = np.linspace(-xmax,xmax,k)\n",
    "    N=1000\n",
    "    a = s*k/2\n",
    "    nyquist_w = np.pi/s\n",
    "    dx = 2*a/N\n",
    "    dw = 2*nyquist_w/N\n",
    "    spatial_coverage = gaussian_covariance(np.linspace(-a,a,N)).sum()*dx\n",
    "    spectral_coverage = gaussian_spectrum(np.linspace(-nyquist_w,nyquist_w,N)).sum()*dw\n",
    "    return spatial_coverage-spectral_coverage\n",
    "\n",
    "def binary_search(target,bounds,fn,eps=1e-2):\n",
    "    lb,ub = bounds\n",
    "    i = 0\n",
    "    while ub-lb>eps:\n",
    "        guess = (ub+lb)/2\n",
    "        y = fn(guess)\n",
    "        if y<target:\n",
    "            lb = guess\n",
    "        elif y>=target:\n",
    "            ub = guess\n",
    "        i+=1\n",
    "        if i>500: assert False\n",
    "    return (ub+lb)/2"
   ]
  },
  {
   "cell_type": "code",
   "execution_count": 10,
   "metadata": {},
   "outputs": [],
   "source": [
    "def fill(xmax,order,nu=.5):\n",
    "    \"\"\" computes the rectangle rule integration of matern with given spacing\"\"\"\n",
    "    n = 2*order+1\n",
    "    grid = np.linspace(-xmax,xmax,n)\n",
    "    fx = matern_covariance(grid,nu=nu)\n",
    "    dx = xmax/order\n",
    "    return fx.sum()*dx\n",
    "    #return np.trapz(fx,grid)"
   ]
  },
  {
   "cell_type": "code",
   "execution_count": 162,
   "metadata": {},
   "outputs": [],
   "source": [
    "def fill2(xmax,order,nu=.5):\n",
    "    \"\"\"\"\"\"\n",
    "    n = 2*order+1\n",
    "    grid = np.linspace(-xmax,xmax,n)\n",
    "    f_on_grid = matern_covariance(grid,nu=nu)\n",
    "    upper = (1+.5/order)*xmax\n",
    "    lower = -upper\n",
    "    def discretized_fn(x):\n",
    "        xbin = ((x - lower)//((upper-lower)/n)).astype(int)\n",
    "        return np.where((xbin>=0)|(xbin<n),f_on_grid[xbin%n],np.zeros_like(x))\n",
    "    N=10000\n",
    "    finegrid = np.linspace(-10,10,N)\n",
    "    ISE = ((matern_covariance(finegrid,nu=nu)-discretized_fn(finegrid))**2).mean()\n",
    "    return ISE"
   ]
  },
  {
   "cell_type": "code",
   "execution_count": 245,
   "metadata": {},
   "outputs": [],
   "source": [
    "def binary_search(target,bounds,fn,eps=1e-2):\n",
    "    lb,ub = bounds\n",
    "    i = 0\n",
    "    while ub-lb>eps:\n",
    "        guess = (ub+lb)/2\n",
    "        y = fn(guess)\n",
    "        if y<target:\n",
    "            lb = guess\n",
    "        elif y>=target:\n",
    "            ub = guess\n",
    "        i+=1\n",
    "        if i>500: assert False\n",
    "    return (ub+lb)/2"
   ]
  },
  {
   "cell_type": "code",
   "execution_count": 267,
   "metadata": {},
   "outputs": [
    {
     "name": "stdout",
     "output_type": "stream",
     "text": [
      "1.1208770751953123 -9.450015611589535e-06\n"
     ]
    }
   ],
   "source": [
    "order=2\n",
    "fn = partial(matched_fill,order=order)\n",
    "s = binary_search(0,(.1,10),fn,1e-3)\n",
    "print(s,fn(s))"
   ]
  },
  {
   "cell_type": "code",
   "execution_count": 259,
   "metadata": {},
   "outputs": [
    {
     "name": "stdout",
     "output_type": "stream",
     "text": [
      "1.15773681640625\n"
     ]
    }
   ],
   "source": [
    "print(xf*(1-1/(2*order+1)))"
   ]
  },
  {
   "cell_type": "code",
   "execution_count": 260,
   "metadata": {},
   "outputs": [],
   "source": [
    "xf = xf*(1-1/(2*order+1))#*np.sqrt((2*order+1)/4)\n",
    "#xf = np.sqrt(np.pi/2)"
   ]
  },
  {
   "cell_type": "code",
   "execution_count": 274,
   "metadata": {},
   "outputs": [
    {
     "data": {
      "text/plain": [
       "tensor([-0.8000, -0.6000, -0.4000, -0.2000,  0.0000,  0.2000,  0.4000,  0.6000,\n",
       "         0.8000])"
      ]
     },
     "execution_count": 274,
     "metadata": {},
     "output_type": "execute_result"
    }
   ],
   "source": [
    "import torch\n",
    "torch.arange(-4,5)*.2"
   ]
  },
  {
   "cell_type": "code",
   "execution_count": 268,
   "metadata": {},
   "outputs": [
    {
     "name": "stdout",
     "output_type": "stream",
     "text": [
      "[0.08104661 0.53356056 1.         0.53356056 0.08104661]\n",
      "[ 1.          6.58337892 12.33857872  6.58337892  1.        ]\n"
     ]
    }
   ],
   "source": [
    "\n",
    "ci = gaussian_covariance(np.linspace(-order*s,order*s,2*order+1))\n",
    "print(ci/ci[order])\n",
    "print(ci/ci[0])"
   ]
  },
  {
   "cell_type": "code",
   "execution_count": 263,
   "metadata": {},
   "outputs": [
    {
     "data": {
      "text/plain": [
       "array([-2.80219269, -1.40109634,  0.        ,  1.40109634,  2.80219269])"
      ]
     },
     "execution_count": 263,
     "metadata": {},
     "output_type": "execute_result"
    }
   ],
   "source": [
    "np.linspace(-s*(order+.5),s*(order+.5),2*order+1)"
   ]
  },
  {
   "cell_type": "code",
   "execution_count": 236,
   "metadata": {},
   "outputs": [
    {
     "name": "stdout",
     "output_type": "stream",
     "text": [
      "0.7694065900810181\n"
     ]
    }
   ],
   "source": [
    "def var(cs):\n",
    "    o = len(cs)//2\n",
    "    cs = cs/cs.sum()\n",
    "    return (2*cs[o+1:]*(1+np.arange(o))**2).sum()\n",
    "print(var(ci))"
   ]
  },
  {
   "cell_type": "code",
   "execution_count": 104,
   "metadata": {},
   "outputs": [
    {
     "name": "stdout",
     "output_type": "stream",
     "text": [
      "[0.45593813 1.         0.45593813]\n"
     ]
    }
   ],
   "source": [
    "xf = np.sqrt(np.pi/2)\n",
    "ci = gaussian_covariance(np.linspace(-xf,xf,2*order+1))\n",
    "print(ci/ci[order])"
   ]
  },
  {
   "cell_type": "code",
   "execution_count": 87,
   "metadata": {},
   "outputs": [
    {
     "data": {
      "text/plain": [
       "2.1708037636748028"
      ]
     },
     "execution_count": 87,
     "metadata": {},
     "output_type": "execute_result"
    }
   ],
   "source": [
    "np.sqrt(np.pi*3/2)"
   ]
  },
  {
   "cell_type": "code",
   "execution_count": 207,
   "metadata": {},
   "outputs": [
    {
     "data": {
      "text/plain": [
       "[<matplotlib.lines.Line2D at 0x7f460a5c2a10>]"
      ]
     },
     "execution_count": 207,
     "metadata": {},
     "output_type": "execute_result"
    },
    {
     "data": {
      "image/png": "[encoded data removed]",
      "text/plain": [
       "<Figure size 432x288 with 1 Axes>"
      ]
     },
     "metadata": {
      "needs_background": "light"
     },
     "output_type": "display_data"
    }
   ],
   "source": [
    "X = np.linspace(.1,10,300)\n",
    "plt.plot(X,[matched_fill(x,1) for x in X])\n",
    "plt.plot(X,[matched_fill(x,2) for x in X])"
   ]
  },
  {
   "cell_type": "code",
   "execution_count": 210,
   "metadata": {},
   "outputs": [
    {
     "name": "stdout",
     "output_type": "stream",
     "text": [
      "1.4573021181716836 2.2520401337792646\n"
     ]
    }
   ],
   "source": [
    "x1 = X[np.argmax([matched_fill(x,1) for x in X])]\n",
    "x2 = X[np.argmax([matched_fill(x,2) for x in X])]\n",
    "x1 = x1*(1-1/3)\n",
    "x2 = x2*(1-1/5)\n",
    "print(x1,x2)"
   ]
  },
  {
   "cell_type": "code",
   "execution_count": 59,
   "metadata": {},
   "outputs": [
    {
     "data": {
      "text/plain": [
       "1.7886287625418062"
      ]
     },
     "execution_count": 59,
     "metadata": {},
     "output_type": "execute_result"
    }
   ],
   "source": [
    "X = np.linspace(.1,10,300)\n",
    "Y = [matched_fill(x,1) for x in X]\n",
    "X[np.argmax(Y)]"
   ]
  },
  {
   "cell_type": "code",
   "execution_count": 169,
   "metadata": {},
   "outputs": [
    {
     "data": {
      "text/plain": [
       "(-0.0008734489862663461, 0.10212655101373366)"
      ]
     },
     "execution_count": 169,
     "metadata": {},
     "output_type": "execute_result"
    },
    {
     "data": {
      "image/png": "[encoded data removed]",
      "text/plain": [
       "<Figure size 432x288 with 1 Axes>"
      ]
     },
     "metadata": {
      "needs_background": "light"
     },
     "output_type": "display_data"
    }
   ],
   "source": [
    "X = np.linspace(.1,10,100)\n",
    "Y = np.array([fill2(x,2,nu=np.inf) for x in X])\n",
    "plt.plot(X,Y)\n",
    "plt.ylim(Y.min()-3e-3,Y.min()+1e-1)"
   ]
  },
  {
   "cell_type": "code",
   "execution_count": 145,
   "metadata": {},
   "outputs": [
    {
     "data": {
      "text/plain": [
       "2.7"
      ]
     },
     "execution_count": 145,
     "metadata": {},
     "output_type": "execute_result"
    }
   ],
   "source": [
    "X[np.argmin(Y)]"
   ]
  },
  {
   "cell_type": "code",
   "execution_count": 14,
   "metadata": {},
   "outputs": [
    {
     "data": {
      "text/plain": [
       "0.06312530404709249"
      ]
     },
     "execution_count": 14,
     "metadata": {},
     "output_type": "execute_result"
    }
   ],
   "source": [
    "def binary_search(objective,bounds):\n",
    "    lb,ub = bounds\n",
    "    "
   ]
  },
  {
   "cell_type": "code",
   "execution_count": null,
   "metadata": {},
   "outputs": [],
   "source": []
  }
 ],
 "metadata": {
  "kernelspec": {
   "display_name": "Python 3",
   "language": "python",
   "name": "python3"
  },
  "language_info": {
   "codemirror_mode": {
    "name": "ipython",
    "version": 3
   },
   "file_extension": ".py",
   "mimetype": "text/x-python",
   "name": "python",
   "nbconvert_exporter": "python",
   "pygments_lexer": "ipython3",
   "version": "3.7.4"
  }
 },
 "nbformat": 4,
 "nbformat_minor": 2
}
