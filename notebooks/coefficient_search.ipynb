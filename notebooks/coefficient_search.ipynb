{
 "cells": [
  {
   "cell_type": "code",
   "execution_count": 1,
   "metadata": {},
   "outputs": [],
   "source": [
    "import numpy as np\n",
    "from scipy.stats import binom\n",
    "from scipy.special import comb, gamma, kv\n",
    "from functools import partial\n",
    "import matplotlib.pyplot as plt\n",
    "%matplotlib inline"
   ]
  },
  {
   "cell_type": "code",
   "execution_count": 2,
   "metadata": {},
   "outputs": [],
   "source": [
    "def gaussian_normalization(ell):\n",
    "    # Integral of Gaussian covariance with lengthscale ell from 0 to infinity\n",
    "    return np.sqrt(2 * np.pi * ell**2)\n",
    "\n",
    "def matern_normalization(ell, nu):\n",
    "    # Integral of Matern covariance with lengthscale ell from 0 to infinity\n",
    "    return np.sqrt(2 * np.pi * ell**2) * gamma(nu + 0.5)/gamma(nu)/(nu**0.5)\n",
    "\n",
    "def gaussian_covariance(x, ell=1.):\n",
    "    x_normalized = x / ell\n",
    "    return np.exp(-x_normalized**2/2)/gaussian_normalization(ell)\n",
    "\n",
    "def matern_covariance(x, ell=1., nu=0.5):\n",
    "    if np.isinf(nu): return gaussian_covariance(x,ell=ell)\n",
    "    # Matern covariance with lengthscale ell    \n",
    "    x[x == 0.0] += np.finfo(float).eps  # strict zeros result in nan\n",
    "    x_normalized = np.sqrt(2*nu) * np.abs(x) / ell\n",
    "    unnormalized_covar = (2**(1-nu) / gamma(nu)) * (x_normalized)**nu * kv(nu, x_normalized)\n",
    "    return unnormalized_covar/matern_normalization(ell,nu)\n"
   ]
  },
  {
   "cell_type": "code",
   "execution_count": 3,
   "metadata": {},
   "outputs": [
    {
     "data": {
      "text/plain": [
       "array([0.00336897, 0.0410425 , 0.5       , 0.0410425 , 0.00336897])"
      ]
     },
     "execution_count": 3,
     "metadata": {},
     "output_type": "execute_result"
    }
   ],
   "source": [
    "matern_covariance(np.linspace(-5.,5.,5))"
   ]
  },
  {
   "cell_type": "code",
   "execution_count": 10,
   "metadata": {},
   "outputs": [],
   "source": [
    "def fill(xmax,order,nu=.5):\n",
    "    \"\"\" computes the rectangle rule integration of matern with given spacing\"\"\"\n",
    "    n = 2*order+1\n",
    "    grid = np.linspace(-xmax,xmax,n)\n",
    "    fx = matern_covariance(grid,nu=nu)\n",
    "    dx = xmax/order\n",
    "    return fx.sum()*dx\n",
    "    #return np.trapz(fx,grid)"
   ]
  },
  {
   "cell_type": "code",
   "execution_count": 162,
   "metadata": {},
   "outputs": [],
   "source": [
    "def fill2(xmax,order,nu=.5):\n",
    "    \"\"\"\"\"\"\n",
    "    n = 2*order+1\n",
    "    grid = np.linspace(-xmax,xmax,n)\n",
    "    f_on_grid = matern_covariance(grid,nu=nu)\n",
    "    upper = (1+.5/order)*xmax\n",
    "    lower = -upper\n",
    "    def discretized_fn(x):\n",
    "        xbin = ((x - lower)//((upper-lower)/n)).astype(int)\n",
    "        return np.where((xbin>=0)|(xbin<n),f_on_grid[xbin%n],np.zeros_like(x))\n",
    "    N=10000\n",
    "    finegrid = np.linspace(-10,10,N)\n",
    "    ISE = ((matern_covariance(finegrid,nu=nu)-discretized_fn(finegrid))**2).mean()\n",
    "    return ISE"
   ]
  },
  {
   "cell_type": "code",
   "execution_count": 11,
   "metadata": {},
   "outputs": [],
   "source": [
    "def binary_search(target,bounds,fn,eps=1e-2):\n",
    "    lb,ub = bounds\n",
    "    i = 0\n",
    "    while ub-lb>eps:\n",
    "        guess = (ub+lb)/2\n",
    "        y = fn(guess)\n",
    "        if y<target:\n",
    "            lb = guess\n",
    "        elif y>=target:\n",
    "            ub = guess\n",
    "        i+=1\n",
    "        if i>500: assert False\n",
    "    return (ub+lb)/2"
   ]
  },
  {
   "cell_type": "code",
   "execution_count": 20,
   "metadata": {},
   "outputs": [
    {
     "name": "stdout",
     "output_type": "stream",
     "text": [
      "2.8514434814453127 0.9999999517959793\n"
     ]
    }
   ],
   "source": [
    "order=2\n",
    "fn = partial(fill,order=order,nu=np.inf)\n",
    "xf = binary_search(1,(.1,10),fn,1e-3)\n",
    "print(xf,fn(xf))"
   ]
  },
  {
   "cell_type": "code",
   "execution_count": 21,
   "metadata": {},
   "outputs": [
    {
     "data": {
      "text/plain": [
       "array([-2.85144348, -1.42572174,  0.        ,  1.42572174,  2.85144348])"
      ]
     },
     "execution_count": 21,
     "metadata": {},
     "output_type": "execute_result"
    }
   ],
   "source": [
    "np.linspace(-xf,xf,2*order+1)"
   ]
  },
  {
   "cell_type": "code",
   "execution_count": 22,
   "metadata": {},
   "outputs": [
    {
     "name": "stdout",
     "output_type": "stream",
     "text": [
      "[0.01715673 0.36191669 1.         0.36191669 0.01715673]\n"
     ]
    }
   ],
   "source": [
    "ci = gaussian_covariance(np.linspace(-xf,xf,2*order+1))\n",
    "print(ci/ci[order])"
   ]
  },
  {
   "cell_type": "code",
   "execution_count": 18,
   "metadata": {},
   "outputs": [
    {
     "data": {
      "text/plain": [
       "[<matplotlib.lines.Line2D at 0x7f460ae3a6d0>]"
      ]
     },
     "execution_count": 18,
     "metadata": {},
     "output_type": "execute_result"
    },
    {
     "data": {
      "image/png": "[encoded data removed]",
      "text/plain": [
       "<Figure size 432x288 with 1 Axes>"
      ]
     },
     "metadata": {
      "needs_background": "light"
     },
     "output_type": "display_data"
    }
   ],
   "source": [
    "X = np.linspace(.1,10,100)\n",
    "plt.plot(X,[fill(x,1,nu=np.inf) for x in X])"
   ]
  },
  {
   "cell_type": "code",
   "execution_count": 169,
   "metadata": {},
   "outputs": [
    {
     "data": {
      "text/plain": [
       "(-0.0008734489862663461, 0.10212655101373366)"
      ]
     },
     "execution_count": 169,
     "metadata": {},
     "output_type": "execute_result"
    },
    {
     "data": {
      "image/png": "[encoded data removed]",
      "text/plain": [
       "<Figure size 432x288 with 1 Axes>"
      ]
     },
     "metadata": {
      "needs_background": "light"
     },
     "output_type": "display_data"
    }
   ],
   "source": [
    "X = np.linspace(.1,10,100)\n",
    "Y = np.array([fill2(x,2,nu=np.inf) for x in X])\n",
    "plt.plot(X,Y)\n",
    "plt.ylim(Y.min()-3e-3,Y.min()+1e-1)"
   ]
  },
  {
   "cell_type": "code",
   "execution_count": 145,
   "metadata": {},
   "outputs": [
    {
     "data": {
      "text/plain": [
       "2.7"
      ]
     },
     "execution_count": 145,
     "metadata": {},
     "output_type": "execute_result"
    }
   ],
   "source": [
    "X[np.argmin(Y)]"
   ]
  },
  {
   "cell_type": "code",
   "execution_count": 14,
   "metadata": {},
   "outputs": [
    {
     "data": {
      "text/plain": [
       "0.06312530404709249"
      ]
     },
     "execution_count": 14,
     "metadata": {},
     "output_type": "execute_result"
    }
   ],
   "source": [
    "def binary_search(objective,bounds):\n",
    "    lb,ub = bounds\n",
    "    "
   ]
  },
  {
   "cell_type": "code",
   "execution_count": null,
   "metadata": {},
   "outputs": [],
   "source": []
  }
 ],
 "metadata": {
  "kernelspec": {
   "display_name": "Python 3",
   "language": "python",
   "name": "python3"
  },
  "language_info": {
   "codemirror_mode": {
    "name": "ipython",
    "version": 3
   },
   "file_extension": ".py",
   "mimetype": "text/x-python",
   "name": "python",
   "nbconvert_exporter": "python",
   "pygments_lexer": "ipython3",
   "version": "3.7.4"
  }
 },
 "nbformat": 4,
 "nbformat_minor": 2
}
