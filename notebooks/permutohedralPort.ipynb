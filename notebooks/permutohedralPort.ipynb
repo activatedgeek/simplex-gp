{
 "cells": [
  {
   "cell_type": "code",
   "execution_count": 1,
   "metadata": {},
   "outputs": [],
   "source": [
    "using LinearAlgebra\n",
    "using StaticArrays\n"
   ]
  },
  {
   "cell_type": "code",
   "execution_count": 2,
   "metadata": {},
   "outputs": [],
   "source": [
    "#import Pkg; Pkg.add(\"StaticArrays\")"
   ]
  },
  {
   "cell_type": "code",
   "execution_count": 3,
   "metadata": {},
   "outputs": [
    {
     "data": {
      "text/plain": [
       "SArray{Tuple{4},Float32,1,4}"
      ]
     },
     "execution_count": 3,
     "metadata": {},
     "output_type": "execute_result"
    }
   ],
   "source": [
    "SVector{4,Float32}"
   ]
  },
  {
   "cell_type": "code",
   "execution_count": 4,
   "metadata": {
    "scrolled": true
   },
   "outputs": [
    {
     "data": {
      "text/plain": [
       "Dict{SArray{Tuple{3},Float32,1,3},SArray{Tuple{1},Float32,1,1}}"
      ]
     },
     "execution_count": 4,
     "metadata": {},
     "output_type": "execute_result"
    }
   ],
   "source": [
    "d = 3\n",
    "c = 1\n",
    "key_type = SVector{d,Float32}\n",
    "val_type = SVector{c,Float32}\n",
    "lattice = Dict{key_type,val_type}"
   ]
  },
  {
   "cell_type": "code",
   "execution_count": 12,
   "metadata": {},
   "outputs": [
    {
     "data": {
      "text/plain": [
       "K (generic function with 1 method)"
      ]
     },
     "execution_count": 12,
     "metadata": {},
     "output_type": "execute_result"
    }
   ],
   "source": [
    "function canonical_vertices(d)\n",
    "    canonical_coords = zeros(Int,d+1,d+1)\n",
    "    for k in 1:d+1\n",
    "        canonical_coords[k,1:d+2-k].=k-1\n",
    "        canonical_coords[k,d-k+3:end].=k-d-2\n",
    "    end\n",
    "    return canonical_coords' # check transpose vs non transpose is correct\n",
    "end\n",
    "function elevate(x::Array{Float32,1})\n",
    "    d= length(x)\n",
    "    s = [(d+1)/√(i*(i+1)*2/3) for i in 1:d+1] # Scale factor\n",
    "    elevated = zeros(Float32,d+1)\n",
    "    elevated[d+1] = -d*x[d]s[d];\n",
    "    for i in d:-1:2\n",
    "        elevated[i] = elevated[i + 1] - (i-1)*x[i-1]s[i-1] + (i + 1)*x[i]s[i]\n",
    "    end\n",
    "    elevated[1] = elevated[1] + 2x[1]s[1];\n",
    "    return elevated\n",
    "end\n",
    "\n",
    "# function elevate(x::Array{Float32,2})\n",
    "#     return [elevate(xi) for xi in x]\n",
    "# end\n",
    "\n",
    "function closest_0cell(Ex::Array{Float32,1})\n",
    "    d = length(Ex)-1\n",
    "    mygreedy = zeros(Int,d+1)\n",
    "    for i in 1:d+1\n",
    "        v = Ex[i]/(d+1)\n",
    "        up = ceil(v)*(d+1);\n",
    "        down = floor(v)*(d+1);\n",
    "        if (up - Ex[i] < Ex[i] - down)\n",
    "            mygreedy[i] = up\n",
    "        else\n",
    "            mygreedy[i] = down\n",
    "        end\n",
    "    end\n",
    "    return mygreedy\n",
    "end\n",
    "\n",
    "# function closest_0cell(Ex::Array{Float32,2})\n",
    "#     return [closest_0cell(xi) for xi in Ex]\n",
    "# end\n",
    "\n",
    "function ranks(Ex::Array{Float32,1},closest0::Array{Int,1})\n",
    "    d = length(Ex)-1\n",
    "    theranks = zeros(Int,d+1)\n",
    "    coordsum = Int(sum(closest0)/(d+1))\n",
    "    for i in 1:d\n",
    "        for j in i+1:d+1\n",
    "            if (Ex[i] - closest0[i] < Ex[j] - closest0[j])\n",
    "                theranks[i]+=1\n",
    "            else\n",
    "                theranks[j]+=1\n",
    "            end\n",
    "        end\n",
    "    end\n",
    "    #println(theranks,coordsum)\n",
    "    \n",
    "    if (coordsum > 0)\n",
    "        #sum too large - the point is off the hyperplane.\n",
    "        #need to bring down the ones with the smallest differential\n",
    "        for i in 1:d+1\n",
    "            if (theranks[i] >= d + 1 - coordsum)\n",
    "                closest0[i] -= d + 1\n",
    "                theranks[i] += coordsum - (d + 1)\n",
    "            else\n",
    "                theranks[i] += coordsum\n",
    "            end\n",
    "        end\n",
    "    elseif (coordsum < 0)\n",
    "        #sum too small - the point is off the hyperplane\n",
    "        #need to bring up the ones with largest differential\n",
    "        for i in 1:d+1\n",
    "            if (theranks[i] < -coordsum)\n",
    "                closest0[i] += d + 1\n",
    "                theranks[i] += (d + 1) + coordsum\n",
    "            else\n",
    "                theranks[i] += coordsum\n",
    "            end\n",
    "        end\n",
    "    end\n",
    "    #println(theranks)\n",
    "    return theranks\n",
    "end\n",
    "\n",
    "# function ranks(Ex::Array{Float32,2},closest0::Array{Float32,2})\n",
    "#     return [ranks(xi) for xi in Ex]\n",
    "# end\n",
    "\n",
    "\n",
    "function barycentric_weights(Ex::Array{Float32,1},permutation::Array{Int,1},\n",
    "        closest_vertex::Array{Int,1})\n",
    "    d = length(Ex)-1\n",
    "    weights = zeros(Float32,d+2)\n",
    "    for c in 1:d+1\n",
    "        #println(d+1-permutation[c]+1,permutation)\n",
    "        \n",
    "        weights[d-permutation[c]+1] += (Ex[c]-closest_vertex[c])/(d+1)\n",
    "        weights[d+1-permutation[c]+1] -= (Ex[c]-closest_vertex[c])/(d+1)\n",
    "    end\n",
    "    weights[1] += 1.0 + weights[d+2]\n",
    "    return weights\n",
    "end\n",
    "\n",
    "\n",
    "\n",
    "function splat(vals,X)\n",
    "    n,d = size(X)\n",
    "    n,vd = size(vals)\n",
    "    \n",
    "    canonical_coords = canonical_vertices(d)\n",
    "    lattice = Dict{Array{Int,1},Array{Float32,1}}() #TODO replace with static arrays\n",
    "    #weights = zeros(Float32,n,d+1)\n",
    "    for i in 1:n\n",
    "        Ex = elevate(X[i,:])\n",
    "        closest_vertex = closest_0cell(Ex)\n",
    "        permutation = ranks(Ex,closest_vertex)\n",
    "        barycentric = barycentric_weights(Ex,permutation,closest_vertex)\n",
    "        for rem in 1:d+1\n",
    "            key = zeros(Int,d+1)\n",
    "            for c in 1:d+1\n",
    "                key[c] = closest_vertex[c]+canonical_coords[rem,1+permutation[c]]\n",
    "            end\n",
    "            val = get(lattice,key,zeros(Float32,vd))\n",
    "            val .+= (barycentric[rem].*vals[i])\n",
    "            lattice[key] = val # necessary?\n",
    "            #println(key,val)\n",
    "        end\n",
    "        #weights[i,:] = barycentric\n",
    "    end\n",
    "    return lattice\n",
    "end\n",
    "\n",
    "function blur(lattice)\n",
    "    lattice_new = deepcopy(lattice)\n",
    "    coeffs = Dict(-1=>.5,0=>1.0,1=>.5)\n",
    "    d=3\n",
    "    for c in 1:d+1 # along each of the lattice directions\n",
    "        for (key,val) in lattice\n",
    "            vd = length(val)\n",
    "            lattice_new[key] .*= 0\n",
    "            for nid in -1:1\n",
    "                neighbor = key.-nid\n",
    "                #if (c!=d+1)\n",
    "                    #println(length(neighbor),c)\n",
    "                neighbor[c] = key[c]+nid*d\n",
    "                #println(neighbor)\n",
    "                #end\n",
    "                nval = get(lattice,neighbor,zeros(Float32,vd))\n",
    "                out = (nval.*coeffs[nid])\n",
    "                println(out)\n",
    "                lattice_new[key] += out\n",
    "            end\n",
    "        end\n",
    "        #lattice,lattice_new = lattice_new,lattice # swap the dictionaries\n",
    "        #println(collect(values(lattice)),collect(values(lattice_new)))\n",
    "    end\n",
    "    return lattice_new\n",
    "end\n",
    "\n",
    "function slice(lattice,X_out)\n",
    "    n,d = size(X_out)\n",
    "    key = zeros(Int,d+1)\n",
    "    canonical_coords = canonical_vertices(d)\n",
    "    vd=1\n",
    "    filtered_out = zeros(Float32,n,vd)\n",
    "    for i in 1:n\n",
    "        Ex = elevate(X_out[i,:])\n",
    "        closest_vertex = closest_0cell(Ex)\n",
    "        permutation = ranks(Ex,closest_vertex)\n",
    "        barycentric = barycentric_weights(Ex,permutation,closest_vertex)\n",
    "        #println(barycentric,sum(barycentric[1:end-1]))\n",
    "        for rem in 1:d+1\n",
    "            for c in 1:d+1\n",
    "                key[c] = closest_vertex[c]+canonical_coords[rem,1+permutation[c]]\n",
    "            end\n",
    "            lattice_val = lattice[key]#get(lattice,key,zeros(Float32,vd))\n",
    "            #println(key,lattice_val)\n",
    "            filtered_out[i,:] .+= barycentric[rem].*lattice_val./(1.0+2.0^(-d))\n",
    "        end\n",
    "        #println(filtered_out[i,:])\n",
    "    end\n",
    "    return filtered_out\n",
    "end\n",
    "\n",
    "function bilateral_filter(Vin,Xin,Xout)\n",
    "    lattice = splat(Vin,Xin)\n",
    "    #println(collect(values(lattice)))\n",
    "    #print(lattice)\n",
    "    lattice = blur(lattice)\n",
    "    #println(\"__________________\")\n",
    "    Vout = slice(lattice,Xout)\n",
    "    return Vout\n",
    "end\n",
    "\n",
    "function bilateral_filter(Vin,X)\n",
    "    return bilateral_filter(Vin,X,X)\n",
    "end\n",
    "\n",
    "\n",
    "function K(X)\n",
    "    n,d=size(X)\n",
    "    k = zeros(Float32,n,n)\n",
    "    for i in 1:n\n",
    "        for j in 1:n\n",
    "            k[i,j] = ℯ.^(-.5norm(X[i,:]-X[j,:])^2)\n",
    "        end\n",
    "    end\n",
    "    return k\n",
    "end"
   ]
  },
  {
   "cell_type": "code",
   "execution_count": 13,
   "metadata": {},
   "outputs": [],
   "source": [
    "f = rand(Float32,3,1);\n",
    "X = rand(Float32,3,3);"
   ]
  },
  {
   "cell_type": "code",
   "execution_count": 14,
   "metadata": {},
   "outputs": [],
   "source": [
    "#X.*5"
   ]
  },
  {
   "cell_type": "code",
   "execution_count": 15,
   "metadata": {},
   "outputs": [
    {
     "name": "stdout",
     "output_type": "stream",
     "text": [
      "[0.0]\n",
      "[0.1135307177901268]\n",
      "[0.0]\n",
      "[0.0]\n",
      "[0.7606675028800964]\n",
      "[0.0]\n",
      "[0.0]\n",
      "[0.0013818906154483557]\n",
      "[0.0]\n",
      "[0.0]\n",
      "[0.29630303382873535]\n",
      "[0.0]\n",
      "[0.0]\n",
      "[0.041638556867837906]\n",
      "[0.0]\n",
      "[0.0]\n",
      "[0.057470086961984634]\n",
      "[0.0]\n",
      "[0.0]\n",
      "[0.15978609025478363]\n",
      "[0.0]\n",
      "[0.0]\n",
      "[0.019776256754994392]\n",
      "[0.0]\n",
      "[0.0]\n",
      "[0.3591900169849396]\n",
      "[0.0]\n",
      "[0.0]\n",
      "[0.14411741495132446]\n",
      "[0.0]\n",
      "[0.0]\n",
      "[0.016971688717603683]\n",
      "[0.0]\n",
      "[0.0]\n",
      "[0.28159692883491516]\n",
      "[0.0]\n",
      "[0.0]\n",
      "[0.1135307177901268]\n",
      "[0.0]\n",
      "[0.0]\n",
      "[0.7606675028800964]\n",
      "[0.0]\n",
      "[0.0]\n",
      "[0.0013818906154483557]\n",
      "[0.0]\n",
      "[0.0]\n",
      "[0.29630303382873535]\n",
      "[0.0]\n",
      "[0.0]\n",
      "[0.041638556867837906]\n",
      "[0.0]\n",
      "[0.0]\n",
      "[0.057470086961984634]\n",
      "[0.0]\n",
      "[0.0]\n",
      "[0.15978609025478363]\n",
      "[0.0]\n",
      "[0.0]\n",
      "[0.019776256754994392]\n",
      "[0.0]\n",
      "[0.0]\n",
      "[0.3591900169849396]\n",
      "[0.0]\n",
      "[0.0]\n",
      "[0.14411741495132446]\n",
      "[0.0]\n",
      "[0.0]\n",
      "[0.016971688717603683]\n",
      "[0.0]\n",
      "[0.0]\n",
      "[0.28159692883491516]\n",
      "[0.0]\n",
      "[0.0]\n",
      "[0.1135307177901268]\n",
      "[0.0]\n",
      "[0.0]\n",
      "[0.7606675028800964]\n",
      "[0.0]\n",
      "[0.0]\n",
      "[0.0013818906154483557]\n",
      "[0.0]\n",
      "[0.0]\n",
      "[0.29630303382873535]\n",
      "[0.0]\n",
      "[0.0]\n",
      "[0.041638556867837906]\n",
      "[0.0]\n",
      "[0.0]\n",
      "[0.057470086961984634]\n",
      "[0.0]\n",
      "[0.0]\n",
      "[0.15978609025478363]\n",
      "[0.0]\n",
      "[0.0]\n",
      "[0.019776256754994392]\n",
      "[0.0]\n",
      "[0.0]\n",
      "[0.3591900169849396]\n",
      "[0.0]\n",
      "[0.0]\n",
      "[0.14411741495132446]\n",
      "[0.0]\n",
      "[0.0]\n",
      "[0.016971688717603683]\n",
      "[0.0]\n",
      "[0.0]\n",
      "[0.28159692883491516]\n",
      "[0.0]\n",
      "[0.0]\n",
      "[0.1135307177901268]\n",
      "[0.0]\n",
      "[0.0]\n",
      "[0.7606675028800964]\n",
      "[0.0]\n",
      "[0.0]\n",
      "[0.0013818906154483557]\n",
      "[0.0]\n",
      "[0.0]\n",
      "[0.29630303382873535]\n",
      "[0.0]\n",
      "[0.0]\n",
      "[0.041638556867837906]\n",
      "[0.0]\n",
      "[0.0]\n",
      "[0.057470086961984634]\n",
      "[0.0]\n",
      "[0.0]\n",
      "[0.15978609025478363]\n",
      "[0.0]\n",
      "[0.0]\n",
      "[0.019776256754994392]\n",
      "[0.0]\n",
      "[0.0]\n",
      "[0.3591900169849396]\n",
      "[0.0]\n",
      "[0.14079846441745758]\n",
      "[0.14411741495132446]\n",
      "[0.0]\n",
      "[0.0]\n",
      "[0.016971688717603683]\n",
      "[0.0]\n",
      "[0.0]\n",
      "[0.28159692883491516]\n",
      "[0.07205870747566223]\n"
     ]
    }
   ],
   "source": [
    "bilateral_filter(f,X);"
   ]
  },
  {
   "cell_type": "code",
   "execution_count": 16,
   "metadata": {},
   "outputs": [
    {
     "data": {
      "text/plain": [
       "3×1 Array{Float32,2}:\n",
       " 2.0846226\n",
       " 2.0990727\n",
       " 2.1599889"
      ]
     },
     "execution_count": 16,
     "metadata": {},
     "output_type": "execute_result"
    }
   ],
   "source": [
    "Kf = K(X.*.5)*f"
   ]
  },
  {
   "cell_type": "code",
   "execution_count": null,
   "metadata": {},
   "outputs": [],
   "source": []
  },
  {
   "cell_type": "code",
   "execution_count": 17,
   "metadata": {},
   "outputs": [
    {
     "data": {
      "text/plain": [
       "3×1 Array{Float32,2}:\n",
       " 0.69133794\n",
       " 0.94150776\n",
       " 1.0"
      ]
     },
     "execution_count": 17,
     "metadata": {},
     "output_type": "execute_result"
    }
   ],
   "source": [
    "f =zeros(Float32,3,1); f[3,:] .= 1;\n",
    "#f = rand(10,1)\n",
    "Kf = K(X)*f"
   ]
  },
  {
   "cell_type": "code",
   "execution_count": 18,
   "metadata": {},
   "outputs": [
    {
     "name": "stdout",
     "output_type": "stream",
     "text": [
      "[0.0]\n",
      "[0.1926220953464508]\n",
      "[0.0]\n",
      "[0.0]\n",
      "[0.0]\n",
      "[0.0]\n",
      "[0.0]\n",
      "[0.0]\n",
      "[0.0]\n",
      "[0.0]\n",
      "[0.5027230978012085]\n",
      "[0.0]\n",
      "[0.0]\n",
      "[0.0]\n",
      "[0.0]\n",
      "[0.0]\n",
      "[0.0]\n",
      "[0.0]\n",
      "[0.0]\n",
      "[0.27110135555267334]\n",
      "[0.0]\n",
      "[0.0]\n",
      "[0.03355342149734497]\n",
      "[0.0]\n",
      "[0.0]\n",
      "[0.0]\n",
      "[0.0]\n",
      "[0.0]\n",
      "[0.0]\n",
      "[0.0]\n",
      "[0.0]\n",
      "[0.0]\n",
      "[0.0]\n",
      "[0.0]\n",
      "[0.0]\n",
      "[0.0]\n",
      "[0.0]\n",
      "[0.1926220953464508]\n",
      "[0.0]\n",
      "[0.0]\n",
      "[0.0]\n",
      "[0.0]\n",
      "[0.0]\n",
      "[0.0]\n",
      "[0.0]\n",
      "[0.0]\n",
      "[0.5027230978012085]\n",
      "[0.0]\n",
      "[0.0]\n",
      "[0.0]\n",
      "[0.0]\n",
      "[0.0]\n",
      "[0.0]\n",
      "[0.0]\n",
      "[0.0]\n",
      "[0.27110135555267334]\n",
      "[0.0]\n",
      "[0.0]\n",
      "[0.03355342149734497]\n",
      "[0.0]\n",
      "[0.0]\n",
      "[0.0]\n",
      "[0.0]\n",
      "[0.0]\n",
      "[0.0]\n",
      "[0.0]\n",
      "[0.0]\n",
      "[0.0]\n",
      "[0.0]\n",
      "[0.0]\n",
      "[0.0]\n",
      "[0.0]\n",
      "[0.0]\n",
      "[0.1926220953464508]\n",
      "[0.0]\n",
      "[0.0]\n",
      "[0.0]\n",
      "[0.0]\n",
      "[0.0]\n",
      "[0.0]\n",
      "[0.0]\n",
      "[0.0]\n",
      "[0.5027230978012085]\n",
      "[0.0]\n",
      "[0.0]\n",
      "[0.0]\n",
      "[0.0]\n",
      "[0.0]\n",
      "[0.0]\n",
      "[0.0]\n",
      "[0.0]\n",
      "[0.27110135555267334]\n",
      "[0.0]\n",
      "[0.0]\n",
      "[0.03355342149734497]\n",
      "[0.0]\n",
      "[0.0]\n",
      "[0.0]\n",
      "[0.0]\n",
      "[0.0]\n",
      "[0.0]\n",
      "[0.0]\n",
      "[0.0]\n",
      "[0.0]\n",
      "[0.0]\n",
      "[0.0]\n",
      "[0.0]\n",
      "[0.0]\n",
      "[0.0]\n",
      "[0.1926220953464508]\n",
      "[0.0]\n",
      "[0.0]\n",
      "[0.0]\n",
      "[0.0]\n",
      "[0.0]\n",
      "[0.0]\n",
      "[0.0]\n",
      "[0.0]\n",
      "[0.5027230978012085]\n",
      "[0.0]\n",
      "[0.0]\n",
      "[0.0]\n",
      "[0.0]\n",
      "[0.0]\n",
      "[0.0]\n",
      "[0.0]\n",
      "[0.0]\n",
      "[0.27110135555267334]\n",
      "[0.0]\n",
      "[0.0]\n",
      "[0.03355342149734497]\n",
      "[0.0]\n",
      "[0.0]\n",
      "[0.0]\n",
      "[0.0]\n",
      "[0.0]\n",
      "[0.0]\n",
      "[0.0]\n",
      "[0.0]\n",
      "[0.0]\n",
      "[0.0]\n",
      "[0.0]\n",
      "[0.0]\n",
      "[0.0]\n"
     ]
    },
    {
     "data": {
      "text/plain": [
       "3×1 Array{Float32,2}:\n",
       " 0.0\n",
       " 0.0\n",
       " 0.3239605"
      ]
     },
     "execution_count": 18,
     "metadata": {},
     "output_type": "execute_result"
    }
   ],
   "source": [
    "filtered_f = bilateral_filter(f,X)"
   ]
  },
  {
   "cell_type": "code",
   "execution_count": 30,
   "metadata": {},
   "outputs": [
    {
     "data": {
      "text/plain": [
       "3×1 Array{Float32,2}:\n",
       " 0.0\n",
       " 0.28609052\n",
       " 0.3773399"
      ]
     },
     "execution_count": 30,
     "metadata": {},
     "output_type": "execute_result"
    }
   ],
   "source": [
    "filtered_f./Kf"
   ]
  },
  {
   "cell_type": "code",
   "execution_count": 545,
   "metadata": {},
   "outputs": [
    {
     "data": {
      "text/plain": [
       "5×5 Adjoint{Float32,Array{Float32,2}}:\n",
       " 0.0   1.0   2.0   3.0   4.0\n",
       " 0.0   1.0   2.0   3.0  -1.0\n",
       " 0.0   1.0   2.0  -2.0  -1.0\n",
       " 0.0   1.0  -3.0  -2.0  -1.0\n",
       " 0.0  -4.0  -3.0  -2.0  -1.0"
      ]
     },
     "execution_count": 545,
     "metadata": {},
     "output_type": "execute_result"
    }
   ],
   "source": [
    "canonical_coords'"
   ]
  },
  {
   "cell_type": "code",
   "execution_count": 546,
   "metadata": {},
   "outputs": [
    {
     "ename": "LoadError",
     "evalue": "syntax: invalid identifier name \"...\"",
     "output_type": "error",
     "traceback": [
      "syntax: invalid identifier name \"...\"",
      "",
      "Stacktrace:",
      " [1] top-level scope at In[546]:1",
      " [2] include_string(::Function, ::Module, ::String, ::String) at ./loading.jl:1091",
      " [3] execute_code(::String, ::String) at /home/marc/.julia/packages/IJulia/rWZ9e/src/execute_request.jl:27",
      " [4] execute_request(::ZMQ.Socket, ::IJulia.Msg) at /home/marc/.julia/packages/IJulia/rWZ9e/src/execute_request.jl:86",
      " [5] #invokelatest#1 at ./essentials.jl:710 [inlined]",
      " [6] invokelatest at ./essentials.jl:709 [inlined]",
      " [7] eventloop(::ZMQ.Socket) at /home/marc/.julia/packages/IJulia/rWZ9e/src/eventloop.jl:8",
      " [8] (::IJulia.var\"#15#18\")() at ./task.jl:356"
     ]
    }
   ],
   "source": [
    "1,...,3"
   ]
  },
  {
   "cell_type": "code",
   "execution_count": 74,
   "metadata": {},
   "outputs": [
    {
     "data": {
      "text/plain": [
       "210"
      ]
     },
     "execution_count": 74,
     "metadata": {},
     "output_type": "execute_result"
    }
   ],
   "source": [
    "sum(1:20)"
   ]
  },
  {
   "cell_type": "code",
   "execution_count": 119,
   "metadata": {},
   "outputs": [],
   "source": [
    "d1 = Dict(1 => 2, 3 => 4);\n",
    "d2 = Dict(1 => 3, 3 => 4);"
   ]
  },
  {
   "cell_type": "code",
   "execution_count": 120,
   "metadata": {},
   "outputs": [
    {
     "data": {
      "text/plain": [
       "Dict{Int64,Int64} with 2 entries:\n",
       "  3 => 4\n",
       "  1 => 3"
      ]
     },
     "execution_count": 120,
     "metadata": {},
     "output_type": "execute_result"
    }
   ],
   "source": [
    "d2"
   ]
  },
  {
   "cell_type": "code",
   "execution_count": 121,
   "metadata": {},
   "outputs": [
    {
     "data": {
      "text/plain": [
       "(Dict(3 => 4,1 => 2), Dict(3 => 4,1 => 3))"
      ]
     },
     "execution_count": 121,
     "metadata": {},
     "output_type": "execute_result"
    }
   ],
   "source": [
    "d2,d1=d1,d2"
   ]
  },
  {
   "cell_type": "code",
   "execution_count": 122,
   "metadata": {},
   "outputs": [
    {
     "data": {
      "text/plain": [
       "Dict{Int64,Int64} with 2 entries:\n",
       "  3 => 4\n",
       "  1 => 2"
      ]
     },
     "execution_count": 122,
     "metadata": {},
     "output_type": "execute_result"
    }
   ],
   "source": [
    "d2"
   ]
  },
  {
   "cell_type": "code",
   "execution_count": 123,
   "metadata": {},
   "outputs": [
    {
     "data": {
      "text/plain": [
       "Dict{Int64,Int64} with 2 entries:\n",
       "  3 => 4\n",
       "  1 => 3"
      ]
     },
     "execution_count": 123,
     "metadata": {},
     "output_type": "execute_result"
    }
   ],
   "source": [
    "d1"
   ]
  },
  {
   "cell_type": "code",
   "execution_count": null,
   "metadata": {},
   "outputs": [],
   "source": []
  }
 ],
 "metadata": {
  "kernelspec": {
   "display_name": "Julia 1.5.2",
   "language": "julia",
   "name": "julia-1.5"
  },
  "language_info": {
   "file_extension": ".jl",
   "mimetype": "application/julia",
   "name": "julia",
   "version": "1.5.2"
  }
 },
 "nbformat": 4,
 "nbformat_minor": 2
}
