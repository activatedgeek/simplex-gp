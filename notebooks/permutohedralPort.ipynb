{
 "cells": [
  {
   "cell_type": "code",
   "execution_count": 1,
   "metadata": {},
   "outputs": [],
   "source": [
    "using LinearAlgebra\n",
    "using StaticArrays\n"
   ]
  },
  {
   "cell_type": "code",
   "execution_count": 2,
   "metadata": {},
   "outputs": [],
   "source": [
    "#import Pkg; Pkg.add(\"StaticArrays\")"
   ]
  },
  {
   "cell_type": "code",
   "execution_count": 3,
   "metadata": {},
   "outputs": [
    {
     "data": {
      "text/plain": [
       "SArray{Tuple{4},Float32,1,4}"
      ]
     },
     "execution_count": 3,
     "metadata": {},
     "output_type": "execute_result"
    }
   ],
   "source": [
    "SVector{4,Float32}"
   ]
  },
  {
   "cell_type": "code",
   "execution_count": 4,
   "metadata": {},
   "outputs": [
    {
     "data": {
      "text/plain": [
       "Dict{SArray{Tuple{3},Float32,1,3},SArray{Tuple{1},Float32,1,1}}"
      ]
     },
     "execution_count": 4,
     "metadata": {},
     "output_type": "execute_result"
    }
   ],
   "source": [
    "d = 3\n",
    "c = 1\n",
    "key_type = SVector{d,Float32}\n",
    "val_type = SVector{c,Float32}\n",
    "lattice = Dict{key_type,val_type}"
   ]
  },
  {
   "cell_type": "code",
   "execution_count": 52,
   "metadata": {},
   "outputs": [
    {
     "data": {
      "text/plain": [
       "2×5 Array{Float32,2}:\n",
       "  4.5605f-41  -9.85772f-26   4.5605f-41   -2.05045f-26   4.5605f-41\n",
       " -9.8577f-26   4.5605f-41   -2.05043f-26   4.5605f-41   -2.05054f-26"
      ]
     },
     "execution_count": 52,
     "metadata": {},
     "output_type": "execute_result"
    }
   ],
   "source": [
    "function canonical_vertices(d)\n",
    "    canonical_coords = Array{Float32}(undef,d+1,d+1)\n",
    "    for k in 1:d+1\n",
    "        canonical_coords[k,1:d+2-k].=k-1\n",
    "        canonical_coords[k,d-k+3:end].=k-d-2\n",
    "    end\n",
    "    return canonical_coords'\n",
    "end\n",
    "function elevate(x::Array{Float32,1})\n",
    "    d= length(x)\n",
    "    s = [(d+1)/√(i*(i+1)*2/3) for i in 1:d+1] # Scale factor\n",
    "    elevated = zeros(Float32,d)\n",
    "    elevated[d] = -d*x[d]s[d];\n",
    "    for i in d-1:-1:2\n",
    "        elevated[i] = elevated[i + 1] - (i+1)*x[i-1]s[i-1] + (i + 3)*x[i]s[i]\n",
    "    end\n",
    "    elevated[1] = elevated[1] + 2x[1]s[1];\n",
    "    return elevated\n",
    "end\n",
    "\n",
    "function elevate(x::Array{Float32,2})\n",
    "    return [elevate(xi) for xi in x]\n",
    "end\n",
    "\n",
    "function closest_0cell(Ex::Array{Float32,1})\n",
    "    d = length(Ex)\n",
    "    mygreedy = zeros(Float32,d+1)\n",
    "    for i in 1:d+1\n",
    "        v = Ex[i]/(d+1)\n",
    "        up = ceil(v)*(d+1);\n",
    "        down = floor(v)*(d+1);\n",
    "        if (up - Ex[i] < Ex[i] - down)\n",
    "            mygreedy[i] = up\n",
    "        else\n",
    "            mygreedy[i] = down\n",
    "        end\n",
    "    end\n",
    "    return mygreedy\n",
    "end\n",
    "\n",
    "function closest_0cell(Ex::Array{Float32,2})\n",
    "    return [closest_0cell(xi) for xi in Ex]\n",
    "end\n",
    "\n",
    "function ranks(Ex::Array{Float32,1},closest0::Array{Float32,1})\n",
    "    d = length(Ex)\n",
    "    theranks = zeros(Int,d+1)\n",
    "    coordsum = sum(closest0)/(d+1)\n",
    "    for i in 1:d\n",
    "        for j in i+1:d+1\n",
    "            if (Ex[i] - closest0[i] < Ex[j] - closest0[j])\n",
    "                theranks[i]+=1\n",
    "            else\n",
    "                theranks[j]+=1\n",
    "            end\n",
    "        end\n",
    "    end\n",
    "    if (coordsum > 0)\n",
    "        #sum too large - the point is off the hyperplane.\n",
    "        #need to bring down the ones with the smallest differential\n",
    "        for i in 1:d+1\n",
    "            if (myrank[i] >= d + 1 - coordsum)\n",
    "                mygreedy[i] -= d + 1\n",
    "                myrank[i] += coordsum - (d + 1)\n",
    "            else\n",
    "                myrank[i] += coordsum\n",
    "            end\n",
    "        end\n",
    "    elseif (coordsum < 0)\n",
    "        #sum too small - the point is off the hyperplane\n",
    "        #need to bring up the ones with largest differential\n",
    "        for i in 1:d+1\n",
    "            if (myrank[i] < -coordsum)\n",
    "                mygreedy[i] += d + 1\n",
    "                myrank[i] += (d + 1) + coordsum\n",
    "            else\n",
    "                myrank[i] += coordsum\n",
    "            end\n",
    "        end\n",
    "    end\n",
    "end\n",
    "\n",
    "function ranks(Ex::Array{Float32,2},closest0::Array{Float32,2})\n",
    "    return [ranks(xi) for xi in Ex]\n",
    "end\n",
    "\n",
    "function keys(X)\n",
    "    EX = elevate(X)\n",
    "    closest_vertex = closest_0cell(EX)\n",
    "    permutations = ranks(EX,closest_vertex)\n",
    "    n,d = size(X)\n",
    "    barycentric_weights = zeros(n,d+2)\n",
    "    for i in 1:d+1\n",
    "        barycentric_weights[d-myrank[i]] += (EX)\n",
    "        \n",
    "    ...\n",
    "    \n",
    "end\n",
    "function splat!(lattice,coords,vals)\n",
    "    ...\n",
    "end"
   ]
  },
  {
   "cell_type": "code",
   "execution_count": 103,
   "metadata": {},
   "outputs": [
    {
     "data": {
      "text/plain": [
       "3×4 Array{Float64,2}:\n",
       " 0.592251  0.131684   0.0887873  0.427838\n",
       " 0.243746  0.335925   0.50437    0.190674\n",
       " 0.128383  0.0840014  0.0944718  0.125596"
      ]
     },
     "execution_count": 103,
     "metadata": {},
     "output_type": "execute_result"
    }
   ],
   "source": [
    "[x for x in rand(3,4)]"
   ]
  },
  {
   "cell_type": "code",
   "execution_count": 112,
   "metadata": {},
   "outputs": [
    {
     "data": {
      "text/plain": [
       "5-element Array{Float32,1}:\n",
       " 0.0\n",
       " 0.0\n",
       " 0.0\n",
       " 0.0\n",
       " 0.0"
      ]
     },
     "execution_count": 112,
     "metadata": {},
     "output_type": "execute_result"
    }
   ],
   "source": [
    "zeros(Float32,5)"
   ]
  },
  {
   "cell_type": "code",
   "execution_count": 102,
   "metadata": {},
   "outputs": [
    {
     "ename": "LoadError",
     "evalue": "MethodError: objects of type Int64 are not callable",
     "output_type": "error",
     "traceback": [
      "MethodError: objects of type Int64 are not callable",
      "",
      "Stacktrace:",
      " [1] (::var\"#19#20\")(::Int64) at ./none:0",
      " [2] iterate at ./generator.jl:47 [inlined]",
      " [3] collect(::Base.Generator{StepRange{Int64,Int64},var\"#19#20\"}) at ./array.jl:686",
      " [4] top-level scope at In[102]:1",
      " [5] include_string(::Function, ::Module, ::String, ::String) at ./loading.jl:1091",
      " [6] execute_code(::String, ::String) at /home/marc/.julia/packages/IJulia/rWZ9e/src/execute_request.jl:27",
      " [7] execute_request(::ZMQ.Socket, ::IJulia.Msg) at /home/marc/.julia/packages/IJulia/rWZ9e/src/execute_request.jl:86",
      " [8] #invokelatest#1 at ./essentials.jl:710 [inlined]",
      " [9] invokelatest at ./essentials.jl:709 [inlined]",
      " [10] eventloop(::ZMQ.Socket) at /home/marc/.julia/packages/IJulia/rWZ9e/src/eventloop.jl:8",
      " [11] (::IJulia.var\"#15#18\")() at ./task.jl:356"
     ]
    }
   ],
   "source": [
    "[(i+1)(i+1) for i in 4:-1:1]"
   ]
  },
  {
   "cell_type": "code",
   "execution_count": 62,
   "metadata": {},
   "outputs": [
    {
     "data": {
      "text/plain": [
       "5×5 Adjoint{Float32,Array{Float32,2}}:\n",
       " 0.0   1.0   2.0   3.0   4.0\n",
       " 0.0   1.0   2.0   3.0  -1.0\n",
       " 0.0   1.0   2.0  -2.0  -1.0\n",
       " 0.0   1.0  -3.0  -2.0  -1.0\n",
       " 0.0  -4.0  -3.0  -2.0  -1.0"
      ]
     },
     "execution_count": 62,
     "metadata": {},
     "output_type": "execute_result"
    }
   ],
   "source": [
    "canonical_coords'"
   ]
  },
  {
   "cell_type": "code",
   "execution_count": 82,
   "metadata": {},
   "outputs": [
    {
     "ename": "LoadError",
     "evalue": "syntax: invalid identifier name \"...\"",
     "output_type": "error",
     "traceback": [
      "syntax: invalid identifier name \"...\"",
      "",
      "Stacktrace:",
      " [1] top-level scope at In[82]:1",
      " [2] include_string(::Function, ::Module, ::String, ::String) at ./loading.jl:1091",
      " [3] execute_code(::String, ::String) at /home/marc/.julia/packages/IJulia/rWZ9e/src/execute_request.jl:27",
      " [4] execute_request(::ZMQ.Socket, ::IJulia.Msg) at /home/marc/.julia/packages/IJulia/rWZ9e/src/execute_request.jl:86",
      " [5] #invokelatest#1 at ./essentials.jl:710 [inlined]",
      " [6] invokelatest at ./essentials.jl:709 [inlined]",
      " [7] eventloop(::ZMQ.Socket) at /home/marc/.julia/packages/IJulia/rWZ9e/src/eventloop.jl:8",
      " [8] (::IJulia.var\"#15#18\")() at ./task.jl:356"
     ]
    }
   ],
   "source": [
    "1,...,3"
   ]
  },
  {
   "cell_type": "code",
   "execution_count": 74,
   "metadata": {},
   "outputs": [
    {
     "data": {
      "text/plain": [
       "210"
      ]
     },
     "execution_count": 74,
     "metadata": {},
     "output_type": "execute_result"
    }
   ],
   "source": [
    "sum(1:20)"
   ]
  },
  {
   "cell_type": "code",
   "execution_count": null,
   "metadata": {},
   "outputs": [],
   "source": []
  }
 ],
 "metadata": {
  "kernelspec": {
   "display_name": "Julia 1.5.2",
   "language": "julia",
   "name": "julia-1.5"
  },
  "language_info": {
   "file_extension": ".jl",
   "mimetype": "application/julia",
   "name": "julia",
   "version": "1.5.2"
  }
 },
 "nbformat": 4,
 "nbformat_minor": 2
}
