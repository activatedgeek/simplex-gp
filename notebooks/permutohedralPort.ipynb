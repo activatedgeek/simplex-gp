{
 "cells": [
  {
   "cell_type": "code",
   "execution_count": 1,
   "metadata": {},
   "outputs": [],
   "source": [
    "using LinearAlgebra\n",
    "using StaticArrays\n"
   ]
  },
  {
   "cell_type": "code",
   "execution_count": 2,
   "metadata": {},
   "outputs": [],
   "source": [
    "#import Pkg; Pkg.add(\"StaticArrays\")"
   ]
  },
  {
   "cell_type": "code",
   "execution_count": 3,
   "metadata": {},
   "outputs": [
    {
     "data": {
      "text/plain": [
       "SArray{Tuple{4},Float32,1,4}"
      ]
     },
     "execution_count": 3,
     "metadata": {},
     "output_type": "execute_result"
    }
   ],
   "source": [
    "SVector{4,Float32}"
   ]
  },
  {
   "cell_type": "code",
   "execution_count": 4,
   "metadata": {
    "scrolled": true
   },
   "outputs": [
    {
     "data": {
      "text/plain": [
       "Dict{SArray{Tuple{3},Float32,1,3},SArray{Tuple{1},Float32,1,1}}"
      ]
     },
     "execution_count": 4,
     "metadata": {},
     "output_type": "execute_result"
    }
   ],
   "source": [
    "d = 3\n",
    "c = 1\n",
    "key_type = SVector{d,Float32}\n",
    "val_type = SVector{c,Float32}\n",
    "lattice = Dict{key_type,val_type}"
   ]
  },
  {
   "cell_type": "code",
   "execution_count": 562,
   "metadata": {},
   "outputs": [
    {
     "data": {
      "text/plain": [
       "K (generic function with 1 method)"
      ]
     },
     "execution_count": 562,
     "metadata": {},
     "output_type": "execute_result"
    }
   ],
   "source": [
    "function canonical_vertices(d)\n",
    "    canonical_coords = zeros(Int,d+1,d+1)\n",
    "    for k in 1:d+1\n",
    "        canonical_coords[k,1:d+2-k].=k-1\n",
    "        canonical_coords[k,d-k+3:end].=k-d-2\n",
    "    end\n",
    "    return canonical_coords' # check transpose vs non transpose is correct\n",
    "end\n",
    "function elevate(x::Array{Float32,1})\n",
    "    d= length(x)\n",
    "    s = [(d+1)/√(i*(i+1)*2/3) for i in 1:d+1] # Scale factor\n",
    "    elevated = zeros(Float32,d+1)\n",
    "    elevated[d+1] = -d*x[d]s[d];\n",
    "    for i in d:-1:2\n",
    "        elevated[i] = elevated[i + 1] - (i-1)*x[i-1]s[i-1] + (i + 1)*x[i]s[i]\n",
    "    end\n",
    "    elevated[1] = elevated[1] + 2x[1]s[1];\n",
    "    return elevated\n",
    "end\n",
    "\n",
    "# function elevate(x::Array{Float32,2})\n",
    "#     return [elevate(xi) for xi in x]\n",
    "# end\n",
    "\n",
    "function closest_0cell(Ex::Array{Float32,1})\n",
    "    d = length(Ex)-1\n",
    "    mygreedy = zeros(Int,d+1)\n",
    "    for i in 1:d+1\n",
    "        v = Ex[i]/(d+1)\n",
    "        up = ceil(v)*(d+1);\n",
    "        down = floor(v)*(d+1);\n",
    "        if (up - Ex[i] < Ex[i] - down)\n",
    "            mygreedy[i] = up\n",
    "        else\n",
    "            mygreedy[i] = down\n",
    "        end\n",
    "    end\n",
    "    return mygreedy\n",
    "end\n",
    "\n",
    "# function closest_0cell(Ex::Array{Float32,2})\n",
    "#     return [closest_0cell(xi) for xi in Ex]\n",
    "# end\n",
    "\n",
    "function ranks(Ex::Array{Float32,1},closest0::Array{Int,1})\n",
    "    d = length(Ex)-1\n",
    "    theranks = zeros(Int,d+1)\n",
    "    coordsum = Int(sum(closest0)/(d+1))\n",
    "    for i in 1:d\n",
    "        for j in i+1:d+1\n",
    "            if (Ex[i] - closest0[i] < Ex[j] - closest0[j])\n",
    "                theranks[i]+=1\n",
    "            else\n",
    "                theranks[j]+=1\n",
    "            end\n",
    "        end\n",
    "    end\n",
    "    #println(theranks,coordsum)\n",
    "    \n",
    "    if (coordsum > 0)\n",
    "        #sum too large - the point is off the hyperplane.\n",
    "        #need to bring down the ones with the smallest differential\n",
    "        for i in 1:d+1\n",
    "            if (theranks[i] >= d + 1 - coordsum)\n",
    "                closest0[i] -= d + 1\n",
    "                theranks[i] += coordsum - (d + 1)\n",
    "            else\n",
    "                theranks[i] += coordsum\n",
    "            end\n",
    "        end\n",
    "    elseif (coordsum < 0)\n",
    "        #sum too small - the point is off the hyperplane\n",
    "        #need to bring up the ones with largest differential\n",
    "        for i in 1:d+1\n",
    "            if (theranks[i] < -coordsum)\n",
    "                closest0[i] += d + 1\n",
    "                theranks[i] += (d + 1) + coordsum\n",
    "            else\n",
    "                theranks[i] += coordsum\n",
    "            end\n",
    "        end\n",
    "    end\n",
    "    #println(theranks)\n",
    "    return theranks\n",
    "end\n",
    "\n",
    "# function ranks(Ex::Array{Float32,2},closest0::Array{Float32,2})\n",
    "#     return [ranks(xi) for xi in Ex]\n",
    "# end\n",
    "\n",
    "\n",
    "function barycentric_weights(Ex::Array{Float32,1},permutation::Array{Int,1},\n",
    "        closest_vertex::Array{Int,1})\n",
    "    d = length(Ex)-1\n",
    "    weights = zeros(Float32,d+2)\n",
    "    for c in 1:d+1\n",
    "        #println(d+1-permutation[c]+1,permutation)\n",
    "        \n",
    "        weights[d-permutation[c]+1] += (Ex[c]-closest_vertex[c])/(d+1)\n",
    "        weights[d+1-permutation[c]+1] -= (Ex[c]-closest_vertex[c])/(d+1)\n",
    "    end\n",
    "    weights[1] += 1.0 + weights[d+2]\n",
    "    return weights\n",
    "end\n",
    "\n",
    "\n",
    "\n",
    "function splat(vals,X)\n",
    "    n,d = size(X)\n",
    "    n,vd = size(vals)\n",
    "    \n",
    "    canonical_coords = canonical_vertices(d)\n",
    "    lattice = Dict{Array{Int,1},Array{Float32,1}}() #TODO replace with static arrays\n",
    "    #weights = zeros(Float32,n,d+1)\n",
    "    for i in 1:n\n",
    "        Ex = elevate(X[i,:])\n",
    "        closest_vertex = closest_0cell(Ex)\n",
    "        permutation = ranks(Ex,closest_vertex)\n",
    "        barycentric = barycentric_weights(Ex,permutation,closest_vertex)\n",
    "        for rem in 1:d+1\n",
    "            key = zeros(Int,d+1)\n",
    "            for c in 1:d+1\n",
    "                key[c] = closest_vertex[c]+canonical_coords[rem,1+permutation[c]]\n",
    "            end\n",
    "            val = get(lattice,key,zeros(Float32,vd))\n",
    "            val .+= (barycentric[rem].*vals[i])\n",
    "            lattice[key] = val # necessary?\n",
    "            #println(key,val)\n",
    "        end\n",
    "        #weights[i,:] = barycentric\n",
    "    end\n",
    "    return lattice\n",
    "end\n",
    "\n",
    "function blur(lattice)\n",
    "    lattice_new = deepcopy(lattice)\n",
    "    coeffs = Dict(-1=>.5,0=>1.0,1=>.5)\n",
    "    d=3\n",
    "    for c in 1:d+1 # along each of the lattice directions\n",
    "        for (key,val) in lattice\n",
    "            vd = length(val)\n",
    "            lattice_new[key] .*= 0\n",
    "            for nid in -1:1\n",
    "                neighbor = key.-nid\n",
    "                #if (c!=d+1)\n",
    "                    #println(length(neighbor),c)\n",
    "                neighbor[c] = key[c]+nid*d\n",
    "                println(neighbor)\n",
    "                #end\n",
    "                nval = get(lattice,neighbor,zeros(Float32,vd))\n",
    "                out = (nval.*coeffs[nid])\n",
    "                #println(out)\n",
    "                lattice_new[key] += out\n",
    "            end\n",
    "        end\n",
    "        lattice,lattice_new = lattice_new,lattice # swap the dictionaries\n",
    "        println(collect(values(lattice)),collect(values(lattice_new)))\n",
    "    end\n",
    "    return lattice\n",
    "end\n",
    "\n",
    "function slice(lattice,X_out)\n",
    "    n,d = size(X_out)\n",
    "    key = zeros(Int,d+1)\n",
    "    canonical_coords = canonical_vertices(d)\n",
    "    vd=1\n",
    "    filtered_out = zeros(Float32,n,vd)\n",
    "    for i in 1:n\n",
    "        Ex = elevate(X_out[i,:])\n",
    "        closest_vertex = closest_0cell(Ex)\n",
    "        permutation = ranks(Ex,closest_vertex)\n",
    "        barycentric = barycentric_weights(Ex,permutation,closest_vertex)\n",
    "        println(barycentric,sum(barycentric[1:end-1]))\n",
    "        for rem in 1:d+1\n",
    "            for c in 1:d+1\n",
    "                key[c] = closest_vertex[c]+canonical_coords[rem,1+permutation[c]]\n",
    "            end\n",
    "            lattice_val = lattice[key]#get(lattice,key,zeros(Float32,vd))\n",
    "            #println(key,lattice_val)\n",
    "            filtered_out[i,:] .+= barycentric[rem].*lattice_val./(1.0+2.0^(-d))\n",
    "        end\n",
    "        #println(filtered_out[i,:])\n",
    "    end\n",
    "    return filtered_out\n",
    "end\n",
    "\n",
    "function bilateral_filter(Vin,Xin,Xout)\n",
    "    lattice = splat(Vin,Xin)\n",
    "    #println(collect(values(lattice)))\n",
    "    #print(lattice)\n",
    "    lattice = blur(lattice)\n",
    "    #println(\"__________________\")\n",
    "    Vout = slice(lattice,Xout)\n",
    "    return Vout\n",
    "end\n",
    "\n",
    "function bilateral_filter(Vin,X)\n",
    "    return bilateral_filter(Vin,X,X)\n",
    "end\n",
    "\n",
    "\n",
    "function K(X)\n",
    "    n,d=size(X)\n",
    "    k = zeros(Float32,n,n)\n",
    "    for i in 1:n\n",
    "        for j in 1:n\n",
    "            k[i,j] = ℯ.^(-.5norm(X[i,:]-X[j,:])^2)\n",
    "        end\n",
    "    end\n",
    "    return k\n",
    "end"
   ]
  },
  {
   "cell_type": "code",
   "execution_count": 567,
   "metadata": {},
   "outputs": [],
   "source": [
    "f = rand(Float32,3,1);\n",
    "X = rand(Float32,3,3);"
   ]
  },
  {
   "cell_type": "code",
   "execution_count": 568,
   "metadata": {},
   "outputs": [
    {
     "data": {
      "text/plain": [
       "3×3 Array{Float32,2}:\n",
       " 2.49868  2.10248  0.804151\n",
       " 3.40334  2.41138  4.42955\n",
       " 4.10935  4.65909  2.30867"
      ]
     },
     "execution_count": 568,
     "metadata": {},
     "output_type": "execute_result"
    }
   ],
   "source": [
    "X.*5"
   ]
  },
  {
   "cell_type": "code",
   "execution_count": 569,
   "metadata": {},
   "outputs": [
    {
     "name": "stdout",
     "output_type": "stream",
     "text": [
      "[19, 0, -2, -19]\n",
      "[22, -1, -3, -20]\n",
      "[25, -2, -4, -21]\n",
      "[23, 0, -2, -19]\n",
      "[26, -1, -3, -20]\n",
      "[29, -2, -4, -21]\n",
      "[13, -1, -6, -4]\n",
      "[16, -2, -7, -5]\n",
      "[19, -3, -8, -6]\n",
      "[13, -5, -10, -4]\n",
      "[16, -6, -11, -5]\n",
      "[19, -7, -12, -6]\n",
      "[13, -1, -6, 0]\n",
      "[16, -2, -7, -1]\n",
      "[19, -3, -8, -2]\n",
      "[19, 0, -6, -19]\n",
      "[22, -1, -7, -20]\n",
      "[25, -2, -8, -21]\n",
      "[23, 0, -14, -11]\n",
      "[26, -1, -15, -12]\n",
      "[29, -2, -16, -13]\n",
      "[13, -5, -6, -4]\n",
      "[16, -6, -7, -5]\n",
      "[19, -7, -8, -6]\n",
      "[23, 4, -2, -19]\n",
      "[26, 3, -3, -20]\n",
      "[29, 2, -4, -21]\n",
      "[27, 4, -14, -11]\n",
      "[30, 3, -15, -12]\n",
      "[33, 2, -16, -13]\n",
      "[23, 0, -18, -11]\n",
      "[26, -1, -19, -12]\n",
      "[29, -2, -20, -13]\n",
      "[27, 0, -14, -11]\n",
      "[30, -1, -15, -12]\n",
      "[33, -2, -16, -13]\n",
      "Array{Float32,1}[[0.0918303], [0.024858344], [0.007259622], [0.043165423], [0.24218537], [0.05194532], [0.00978169], [0.0030180071], [0.18462881], [0.0088286325], [0.09747044], [0.1312226]]Array{Float32,1}[[0.0918303], [0.024858344], [0.007259622], [0.043165423], [0.24218537], [0.05194532], [0.00978169], [0.0030180071], [0.18462881], [0.0088286325], [0.09747044], [0.1312226]]\n",
      "[23, -4, -2, -19]\n",
      "[22, -1, -3, -20]\n",
      "[21, 2, -4, -21]\n",
      "[27, -4, -2, -19]\n",
      "[26, -1, -3, -20]\n",
      "[25, 2, -4, -21]\n",
      "[17, -5, -6, -4]\n",
      "[16, -2, -7, -5]\n",
      "[15, 1, -8, -6]\n",
      "[17, -9, -10, -4]\n",
      "[16, -6, -11, -5]\n",
      "[15, -3, -12, -6]\n",
      "[17, -5, -6, 0]\n",
      "[16, -2, -7, -1]\n",
      "[15, 1, -8, -2]\n",
      "[23, -4, -6, -19]\n",
      "[22, -1, -7, -20]\n",
      "[21, 2, -8, -21]\n",
      "[27, -4, -14, -11]\n",
      "[26, -1, -15, -12]\n",
      "[25, 2, -16, -13]\n",
      "[17, -9, -6, -4]\n",
      "[16, -6, -7, -5]\n",
      "[15, -3, -8, -6]\n",
      "[27, 0, -2, -19]\n",
      "[26, 3, -3, -20]\n",
      "[25, 6, -4, -21]\n",
      "[31, 0, -14, -11]\n",
      "[30, 3, -15, -12]\n",
      "[29, 6, -16, -13]\n",
      "[27, -4, -18, -11]\n",
      "[26, -1, -19, -12]\n",
      "[25, 2, -20, -13]\n",
      "[31, -4, -14, -11]\n",
      "[30, -1, -15, -12]\n",
      "[29, 2, -16, -13]\n",
      "Array{Float32,1}[[0.0918303], [0.024858344], [0.007259622], [0.043165423], [0.24218537], [0.05194532], [0.00978169], [0.0030180071], [0.18462881], [0.0088286325], [0.09747044], [0.1312226]]Array{Float32,1}[[0.0918303], [0.024858344], [0.007259622], [0.043165423], [0.24218537], [0.05194532], [0.00978169], [0.0030180071], [0.18462881], [0.0088286325], [0.09747044], [0.1312226]]\n",
      "[23, 0, -6, -19]\n",
      "[22, -1, -3, -20]\n",
      "[21, -2, 0, -21]\n",
      "[27, 0, -6, -19]\n",
      "[26, -1, -3, -20]\n",
      "[25, -2, 0, -21]\n",
      "[17, -1, -10, -4]\n",
      "[16, -2, -7, -5]\n",
      "[15, -3, -4, -6]\n",
      "[17, -5, -14, -4]\n",
      "[16, -6, -11, -5]\n",
      "[15, -7, -8, -6]\n",
      "[17, -1, -10, 0]\n",
      "[16, -2, -7, -1]\n",
      "[15, -3, -4, -2]\n",
      "[23, 0, -10, -19]\n",
      "[22, -1, -7, -20]\n",
      "[21, -2, -4, -21]\n",
      "[27, 0, -18, -11]\n",
      "[26, -1, -15, -12]\n",
      "[25, -2, -12, -13]\n",
      "[17, -5, -10, -4]\n",
      "[16, -6, -7, -5]\n",
      "[15, -7, -4, -6]\n",
      "[27, 4, -6, -19]\n",
      "[26, 3, -3, -20]\n",
      "[25, 2, 0, -21]\n",
      "[31, 4, -18, -11]\n",
      "[30, 3, -15, -12]\n",
      "[29, 2, -12, -13]\n",
      "[27, 0, -22, -11]\n",
      "[26, -1, -19, -12]\n",
      "[25, -2, -16, -13]\n",
      "[31, 0, -18, -11]\n",
      "[30, -1, -15, -12]\n",
      "[29, -2, -12, -13]\n",
      "Array{Float32,1}[[0.0918303], [0.024858344], [0.007259622], [0.043165423], [0.24218537], [0.05194532], [0.00978169], [0.0030180071], [0.18462881], [0.0088286325], [0.09747044], [0.1312226]]Array{Float32,1}[[0.0918303], [0.024858344], [0.007259622], [0.043165423], [0.24218537], [0.05194532], [0.00978169], [0.0030180071], [0.18462881], [0.0088286325], [0.09747044], [0.1312226]]\n",
      "[23, 0, -2, -23]\n",
      "[22, -1, -3, -20]\n",
      "[21, -2, -4, -17]\n",
      "[27, 0, -2, -23]\n",
      "[26, -1, -3, -20]\n",
      "[25, -2, -4, -17]\n",
      "[17, -1, -6, -8]\n",
      "[16, -2, -7, -5]\n",
      "[15, -3, -8, -2]\n",
      "[17, -5, -10, -8]\n",
      "[16, -6, -11, -5]\n",
      "[15, -7, -12, -2]\n",
      "[17, -1, -6, -4]\n",
      "[16, -2, -7, -1]\n",
      "[15, -3, -8, 2]\n",
      "[23, 0, -6, -23]\n",
      "[22, -1, -7, -20]\n",
      "[21, -2, -8, -17]\n",
      "[27, 0, -14, -15]\n",
      "[26, -1, -15, -12]\n",
      "[25, -2, -16, -9]\n",
      "[17, -5, -6, -8]\n",
      "[16, -6, -7, -5]\n",
      "[15, -7, -8, -2]\n",
      "[27, 4, -2, -23]\n",
      "[26, 3, -3, -20]\n",
      "[25, 2, -4, -17]\n",
      "[31, 4, -14, -15]\n",
      "[30, 3, -15, -12]\n",
      "[29, 2, -16, -9]\n",
      "[27, 0, -18, -15]\n",
      "[26, -1, -19, -12]\n",
      "[25, -2, -20, -9]\n",
      "[31, 0, -14, -15]\n",
      "[30, -1, -15, -12]\n",
      "[29, -2, -16, -9]\n",
      "Array{Float32,1}[[0.0918303], [0.024858344], [0.007259622], [0.043165423], [0.24218537], [0.05194532], [0.00978169], [0.0030180071], [0.18462881], [0.0088286325], [0.09747044], [0.1312226]]Array{Float32,1}[[0.0918303], [0.024858344], [0.007259622], [0.043165423], [0.24218537], [0.05194532], [0.00978169], [0.0030180071], [0.18462881], [0.0088286325], [0.09747044], [0.1312226]]\n",
      "Float32[0.8192222, 0.024556577, 0.0102087855, 0.14601243, -0.32784653]1.0\n",
      "Float32[0.52263874, 0.07036786, 0.25994897, 0.14704442, -0.3017521]1.0\n",
      "Float32[0.035699606, 0.5306139, 0.039553404, 0.3941331, -0.5512841]1.0\n"
     ]
    },
    {
     "data": {
      "text/plain": [
       "3×1 Array{Float32,2}:\n",
       " 0.18214701\n",
       " 0.115335874\n",
       " 0.096663944"
      ]
     },
     "execution_count": 569,
     "metadata": {},
     "output_type": "execute_result"
    }
   ],
   "source": [
    "bilateral_filter(f,X.*5)"
   ]
  },
  {
   "cell_type": "code",
   "execution_count": 566,
   "metadata": {},
   "outputs": [
    {
     "data": {
      "text/plain": [
       "3×1 Array{Float32,2}:\n",
       " 0.78518766\n",
       " 0.8002254\n",
       " 0.7610327"
      ]
     },
     "execution_count": 566,
     "metadata": {},
     "output_type": "execute_result"
    }
   ],
   "source": [
    "Kf = K(X.*.5)*f"
   ]
  },
  {
   "cell_type": "code",
   "execution_count": null,
   "metadata": {},
   "outputs": [],
   "source": []
  },
  {
   "cell_type": "code",
   "execution_count": 556,
   "metadata": {},
   "outputs": [
    {
     "data": {
      "text/plain": [
       "3×1 Array{Float32,2}:\n",
       " 0.9101271\n",
       " 0.72928065\n",
       " 1.0"
      ]
     },
     "execution_count": 556,
     "metadata": {},
     "output_type": "execute_result"
    }
   ],
   "source": [
    "f =zeros(Float32,3,1); f[3,:] .= 1;\n",
    "#f = rand(10,1)\n",
    "Kf = K(X)*f"
   ]
  },
  {
   "cell_type": "code",
   "execution_count": 557,
   "metadata": {},
   "outputs": [
    {
     "name": "stdout",
     "output_type": "stream",
     "text": [
      "Array{Float32,1}[[0.099686354], [0.0], [0.72597456], [0.0], [0.0], [0.09395021], [0.0803889], [0.0], [0.0], [0.0], [0.0], [0.0]]\n",
      "Array{Float32,1}[[0.099686354], [0.0], [0.72597456], [0.0], [0.0], [0.09395021], [0.0803889], [0.0], [0.0], [0.0], [0.0], [0.0]]Array{Float32,1}[[0.099686354], [0.0], [0.72597456], [0.0], [0.0], [0.09395021], [0.0803889], [0.0], [0.0], [0.0], [0.0], [0.0]]\n",
      "Array{Float32,1}[[0.099686354], [0.0], [0.72597456], [0.0], [0.0], [0.09395021], [0.0803889], [0.0], [0.0], [0.0], [0.0], [0.0]]Array{Float32,1}[[0.099686354], [0.0], [0.72597456], [0.0], [0.0], [0.09395021], [0.0803889], [0.0], [0.0], [0.0], [0.0], [0.0]]\n",
      "Array{Float32,1}[[0.099686354], [0.0], [0.72597456], [0.0], [0.0], [0.09395021], [0.0803889], [0.0], [0.0], [0.0], [0.0], [0.0]]Array{Float32,1}[[0.099686354], [0.0], [0.72597456], [0.0], [0.0], [0.09395021], [0.0803889], [0.0], [0.0], [0.0], [0.0], [0.0]]\n",
      "Array{Float32,1}[[0.099686354], [0.0], [0.72597456], [0.0], [0.0], [0.09395021], [0.0803889], [0.0], [0.0], [0.0], [0.0], [0.0]]Array{Float32,1}[[0.099686354], [0.0], [0.72597456], [0.0], [0.0], [0.09395021], [0.0803889], [0.0], [0.0], [0.0], [0.0], [0.0]]\n",
      "Float32[0.6234287, 0.13582247, 0.1224075, 0.11834133, -0.22244656]1.0\n",
      "Float32[0.17113712, 0.43502498, 0.32476163, 0.0690763, -0.2583554]1.0\n",
      "Float32[0.09395021, 0.099686354, 0.72597456, 0.0803889, -0.5198331]1.0\n"
     ]
    },
    {
     "data": {
      "text/plain": [
       "3×1 Array{Float32,2}:\n",
       " 0.0\n",
       " 0.0\n",
       " 0.4909026"
      ]
     },
     "execution_count": 557,
     "metadata": {},
     "output_type": "execute_result"
    }
   ],
   "source": [
    "filtered_f = bilateral_filter(f,X)"
   ]
  },
  {
   "cell_type": "code",
   "execution_count": 544,
   "metadata": {},
   "outputs": [
    {
     "data": {
      "text/plain": [
       "3×1 Array{Float32,2}:\n",
       " 0.0\n",
       " 0.0\n",
       " 0.40386727"
      ]
     },
     "execution_count": 544,
     "metadata": {},
     "output_type": "execute_result"
    }
   ],
   "source": [
    "filtered_f./Kf"
   ]
  },
  {
   "cell_type": "code",
   "execution_count": 545,
   "metadata": {},
   "outputs": [
    {
     "data": {
      "text/plain": [
       "5×5 Adjoint{Float32,Array{Float32,2}}:\n",
       " 0.0   1.0   2.0   3.0   4.0\n",
       " 0.0   1.0   2.0   3.0  -1.0\n",
       " 0.0   1.0   2.0  -2.0  -1.0\n",
       " 0.0   1.0  -3.0  -2.0  -1.0\n",
       " 0.0  -4.0  -3.0  -2.0  -1.0"
      ]
     },
     "execution_count": 545,
     "metadata": {},
     "output_type": "execute_result"
    }
   ],
   "source": [
    "canonical_coords'"
   ]
  },
  {
   "cell_type": "code",
   "execution_count": 546,
   "metadata": {},
   "outputs": [
    {
     "ename": "LoadError",
     "evalue": "syntax: invalid identifier name \"...\"",
     "output_type": "error",
     "traceback": [
      "syntax: invalid identifier name \"...\"",
      "",
      "Stacktrace:",
      " [1] top-level scope at In[546]:1",
      " [2] include_string(::Function, ::Module, ::String, ::String) at ./loading.jl:1091",
      " [3] execute_code(::String, ::String) at /home/marc/.julia/packages/IJulia/rWZ9e/src/execute_request.jl:27",
      " [4] execute_request(::ZMQ.Socket, ::IJulia.Msg) at /home/marc/.julia/packages/IJulia/rWZ9e/src/execute_request.jl:86",
      " [5] #invokelatest#1 at ./essentials.jl:710 [inlined]",
      " [6] invokelatest at ./essentials.jl:709 [inlined]",
      " [7] eventloop(::ZMQ.Socket) at /home/marc/.julia/packages/IJulia/rWZ9e/src/eventloop.jl:8",
      " [8] (::IJulia.var\"#15#18\")() at ./task.jl:356"
     ]
    }
   ],
   "source": [
    "1,...,3"
   ]
  },
  {
   "cell_type": "code",
   "execution_count": 74,
   "metadata": {},
   "outputs": [
    {
     "data": {
      "text/plain": [
       "210"
      ]
     },
     "execution_count": 74,
     "metadata": {},
     "output_type": "execute_result"
    }
   ],
   "source": [
    "sum(1:20)"
   ]
  },
  {
   "cell_type": "code",
   "execution_count": 119,
   "metadata": {},
   "outputs": [],
   "source": [
    "d1 = Dict(1 => 2, 3 => 4);\n",
    "d2 = Dict(1 => 3, 3 => 4);"
   ]
  },
  {
   "cell_type": "code",
   "execution_count": 120,
   "metadata": {},
   "outputs": [
    {
     "data": {
      "text/plain": [
       "Dict{Int64,Int64} with 2 entries:\n",
       "  3 => 4\n",
       "  1 => 3"
      ]
     },
     "execution_count": 120,
     "metadata": {},
     "output_type": "execute_result"
    }
   ],
   "source": [
    "d2"
   ]
  },
  {
   "cell_type": "code",
   "execution_count": 121,
   "metadata": {},
   "outputs": [
    {
     "data": {
      "text/plain": [
       "(Dict(3 => 4,1 => 2), Dict(3 => 4,1 => 3))"
      ]
     },
     "execution_count": 121,
     "metadata": {},
     "output_type": "execute_result"
    }
   ],
   "source": [
    "d2,d1=d1,d2"
   ]
  },
  {
   "cell_type": "code",
   "execution_count": 122,
   "metadata": {},
   "outputs": [
    {
     "data": {
      "text/plain": [
       "Dict{Int64,Int64} with 2 entries:\n",
       "  3 => 4\n",
       "  1 => 2"
      ]
     },
     "execution_count": 122,
     "metadata": {},
     "output_type": "execute_result"
    }
   ],
   "source": [
    "d2"
   ]
  },
  {
   "cell_type": "code",
   "execution_count": 123,
   "metadata": {},
   "outputs": [
    {
     "data": {
      "text/plain": [
       "Dict{Int64,Int64} with 2 entries:\n",
       "  3 => 4\n",
       "  1 => 3"
      ]
     },
     "execution_count": 123,
     "metadata": {},
     "output_type": "execute_result"
    }
   ],
   "source": [
    "d1"
   ]
  },
  {
   "cell_type": "code",
   "execution_count": null,
   "metadata": {},
   "outputs": [],
   "source": []
  }
 ],
 "metadata": {
  "kernelspec": {
   "display_name": "Julia 1.5.2",
   "language": "julia",
   "name": "julia-1.5"
  },
  "language_info": {
   "file_extension": ".jl",
   "mimetype": "application/julia",
   "name": "julia",
   "version": "1.5.2"
  }
 },
 "nbformat": 4,
 "nbformat_minor": 2
}
