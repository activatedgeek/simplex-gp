{
 "metadata": {
  "language_info": {
   "codemirror_mode": {
    "name": "ipython",
    "version": 3
   },
   "file_extension": ".py",
   "mimetype": "text/x-python",
   "name": "python",
   "nbconvert_exporter": "python",
   "pygments_lexer": "ipython3",
   "version": "3.7.9-final"
  },
  "orig_nbformat": 2,
  "kernelspec": {
   "name": "python3",
   "display_name": "Python 3",
   "language": "python"
  }
 },
 "nbformat": 4,
 "nbformat_minor": 2,
 "cells": [
  {
   "cell_type": "code",
   "execution_count": null,
   "metadata": {},
   "outputs": [],
   "source": [
    "import numpy as np\n",
    "import pandas as pd\n",
    "import seaborn as sns\n",
    "\n",
    "sns.set(font_scale=2., style='whitegrid', palette=sns.color_palette('Set1'))"
   ]
  },
  {
   "cell_type": "code",
   "execution_count": null,
   "metadata": {},
   "outputs": [],
   "source": [
    "raw_error_data = pd.DataFrame([\n",
    "    { 'dataset': 'Elevators', 'order': 1, 'rel_err': 0.116, 'cos_err': 0.977 },\n",
    "    { 'dataset': 'Elevators', 'order': 2, 'rel_err': 0.265, 'cos_err': 0.963 },\n",
    "    { 'dataset': 'Elevators', 'order': 3, 'rel_err': 0.357, 'cos_err': 0.929 },\n",
    "    { 'dataset': 'Houseelectric', 'order': 1, 'rel_err': 0.053, 'cos_err': 0.995 },\n",
    "    { 'dataset': 'Houseelectric', 'order': 2, 'rel_err': 0.059, 'cos_err': 0.998 },\n",
    "    { 'dataset': 'Houseelectric', 'order': 3, 'rel_err': 0.098, 'cos_err': 0.996 },\n",
    "    { 'dataset': 'Keggdirected', 'order': 1, 'rel_err': 0.185, 'cos_err': 0.972 },\n",
    "    { 'dataset': 'Keggdirected', 'order': 2, 'rel_err': 0.207, 'cos_err': 0.979 },\n",
    "    { 'dataset': 'Keggdirected', 'order': 3, 'rel_err': 0.328, 'cos_err': 0.961 },\n",
    "    { 'dataset': 'Precipitation', 'order': 1, 'rel_err': 0.066, 'cos_err': 0.992 },\n",
    "    { 'dataset': 'Precipitation', 'order': 2, 'rel_err': 0.041, 'cos_err': 0.997 },\n",
    "    { 'dataset': 'Precipitation', 'order': 3, 'rel_err': 0.027, 'cos_err': 0.999 },\n",
    "    { 'dataset': 'Protein', 'order': 1, 'rel_err': 0.506, 'cos_err': 0.976 },\n",
    "    { 'dataset': 'Protein', 'order': 2, 'rel_err': 0.221, 'cos_err': 0.987 },\n",
    "    { 'dataset': 'Protein', 'order': 3, 'rel_err': 0.185, 'cos_err': 0.989 },\n",
    "])\n",
    "\n",
    "## further tidying\n",
    "d1 = raw_error_data[['dataset', 'order', 'rel_err']]\n",
    "d1 = d1.rename(columns={'rel_err': 'err'})\n",
    "d1['kind'] = 'rel_err'\n",
    "d2 = raw_error_data[['dataset', 'order', 'cos_err']]\n",
    "d2 = d2.rename(columns={'cos_err': 'err'})\n",
    "d2['err'] = 1.0 - d2['err']\n",
    "d2['kind'] = 'cos_err'\n",
    "error_data = pd.concat([d1, d2], ignore_index=True)\n",
    "error_data = error_data[error_data.kind == 'cos_err']\n",
    "error_data"
   ]
  },
  {
   "cell_type": "code",
   "execution_count": null,
   "metadata": {},
   "outputs": [],
   "source": [
    "g = sns.relplot(data=error_data, x='order', y='err', hue='dataset', style='dataset',\n",
    "                col='kind', markers=True, kind='line')\n",
    "\n",
    "g.axes[0,0].set_xlabel('Order ($r$)')\n",
    "g.axes[0,0].set_ylabel(None)\n",
    "g.axes[0,0].set_title('Cosine Error')\n",
    "\n",
    "# g.axes[0,1].set_xlabel('Order ($r$)')\n",
    "# g.axes[0,1].set_title('Cosine Error')\n",
    "\n",
    "g.axes[0,0].set_xticks([1,2,3])\n",
    "# g.axes[0,0].set_yticks(np.arange(0.0, .5 + 0.01, 0.05))\n",
    "\n",
    "g._legend.set_visible(False)\n",
    "g.fig.subplots_adjust(right=0.5)\n",
    "handles, labels = g.axes[0,0].get_legend_handles_labels()\n",
    "g.fig.legend(handles=handles, labels=labels, bbox_to_anchor=(1.05, .3, 0.25, 0.),\n",
    "             loc='lower center', ncol=1, borderaxespad=0., frameon=True, title='Dataset')\n",
    "\n",
    "g.fig.tight_layout()\n",
    "# g.fig.savefig('mvm_err.pdf', bbox_inches='tight')"
   ]
  },
  {
   "cell_type": "code",
   "execution_count": null,
   "metadata": {},
   "outputs": [],
   "source": []
  },
  {
   "cell_type": "code",
   "execution_count": null,
   "metadata": {},
   "outputs": [],
   "source": []
  }
 ]
}