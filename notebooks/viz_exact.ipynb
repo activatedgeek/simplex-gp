{
 "metadata": {
  "language_info": {
   "codemirror_mode": {
    "name": "ipython",
    "version": 3
   },
   "file_extension": ".py",
   "mimetype": "text/x-python",
   "name": "python",
   "nbconvert_exporter": "python",
   "pygments_lexer": "ipython3",
   "version": "3.9.2"
  },
  "orig_nbformat": 2,
  "kernelspec": {
   "name": "python392jvsc74a57bd0ffdb161abba9b4c6ed90ea70f14a998c2b70ba8faeee50224e9918737cdc1ef1",
   "display_name": "Python 3.9.2 64-bit ('bilateral-gp': conda)"
  }
 },
 "nbformat": 4,
 "nbformat_minor": 2,
 "cells": [
  {
   "cell_type": "code",
   "execution_count": null,
   "metadata": {},
   "outputs": [],
   "source": [
    "import torch\n",
    "import numpy as np\n",
    "import pandas as pd\n",
    "import gpytorch as gp\n",
    "import seaborn as sns\n",
    "import matplotlib.pyplot as plt\n",
    "from tqdm.auto import tqdm\n",
    "\n",
    "device = 'cuda:0' if torch.cuda.is_available() else None\n",
    "\n",
    "sns.set(font_scale=2.0, style='whitegrid')"
   ]
  },
  {
   "cell_type": "code",
   "execution_count": null,
   "metadata": {},
   "outputs": [],
   "source": [
    "class KeOpsModel(gp.models.ExactGP):\n",
    "    def __init__(self, train_x, train_y, nu=None, min_noise=1e-4):\n",
    "        assert train_x.is_contiguous(), 'Need contiguous x for KeOps'\n",
    "\n",
    "        likelihood = gp.likelihoods.GaussianLikelihood(\n",
    "                      noise_constraint=gp.constraints.GreaterThan(min_noise))\n",
    "        super().__init__(train_x, train_y, likelihood)\n",
    "        self.mean_module = gp.means.ConstantMean()\n",
    "        self.base_covar_module = gp.kernels.keops.MaternKernel(nu=nu) \\\n",
    "          if nu is not None else gp.kernels.keops.RBFKernel()\n",
    "        self.covar_module = gp.kernels.ScaleKernel(self.base_covar_module)\n",
    "\n",
    "    def forward(self, x):\n",
    "        assert x.is_contiguous(), 'Need contiguous x for KeOps'\n",
    "\n",
    "        mean_x = self.mean_module(x)\n",
    "        covar_x = self.covar_module(x)\n",
    "        return gp.distributions.MultivariateNormal(mean_x, covar_x)"
   ]
  },
  {
   "cell_type": "code",
   "execution_count": null,
   "metadata": {},
   "outputs": [],
   "source": [
    "df = pd.read_csv('snelson.csv')\n",
    "train_x = torch.from_numpy(df.x.values[:, np.newaxis]).float().to(device)[:100]\n",
    "train_y = torch.from_numpy(df.y.values).float().to(device)[:100]\n",
    "train_x.shape, train_y.shape"
   ]
  },
  {
   "cell_type": "code",
   "execution_count": null,
   "metadata": {},
   "outputs": [],
   "source": [
    "def train(x, y, model, mll, optim):\n",
    "    model.train()\n",
    "\n",
    "    optim.zero_grad()\n",
    "\n",
    "    output = model(x)\n",
    "    loss = -mll(output, y)\n",
    "\n",
    "    loss.backward()\n",
    "    optim.step()\n",
    "\n",
    "    return { 'train/mll': -loss.detach().item() }\n",
    "\n",
    "def get_f_samples(model):\n",
    "    model.eval()\n",
    "\n",
    "    x = torch.linspace(-1., 7., 200).to(device).unsqueeze(-1)\n",
    "    pred = model(x)\n",
    "\n",
    "    return x, pred.sample(torch.Size([10]))"
   ]
  },
  {
   "cell_type": "code",
   "execution_count": null,
   "metadata": {},
   "outputs": [],
   "source": [
    "model = KeOpsModel(train_x, train_y).to(device)\n",
    "mll = gp.mlls.ExactMarginalLogLikelihood(model.likelihood, model)\n",
    "\n",
    "prior_x, prior_f = get_f_samples(model)"
   ]
  },
  {
   "cell_type": "code",
   "execution_count": null,
   "metadata": {},
   "outputs": [],
   "source": [
    "optim = torch.optim.Adam(model.parameters(), lr=.1)\n",
    "for i in tqdm(range(50)):\n",
    "    print(train(train_x, train_y, model, mll, optim))\n",
    "\n",
    "post_x, post_f = get_f_samples(model)"
   ]
  },
  {
   "cell_type": "code",
   "execution_count": null,
   "metadata": {},
   "outputs": [],
   "source": [
    "def plot_fns(x, f):\n",
    "    y = torch.cat([x.expand(-1, 10).permute(1, 0).unsqueeze(-1), f.unsqueeze(-1)], axis=-1)\n",
    "\n",
    "    viz_data = []\n",
    "    for i in range(10):\n",
    "        for idx in range(200):\n",
    "            viz_data.append({ 'id': i, 'x': y[i][idx][0].item(), 'y': y[i][idx][1].item() })\n",
    "    viz_data = pd.DataFrame(viz_data)\n",
    "    fig, ax = plt.subplots(figsize=(11,7))\n",
    "    sns.lineplot(ax=ax, data=viz_data, x='x', y='y', hue='id', legend=False, \n",
    "                 palette=sns.color_palette('husl', 10))\n",
    "\n",
    "    return fig, ax"
   ]
  },
  {
   "cell_type": "code",
   "execution_count": null,
   "metadata": {},
   "outputs": [],
   "source": [
    "fig_prior, ax_prior = plot_fns(prior_x, prior_f)\n",
    "sns.scatterplot(ax=ax_prior, x=train_x.squeeze(-1).cpu().numpy(), y=train_y.cpu().numpy(),\n",
    "                color='black')\n",
    "\n",
    "fig_post, ax_post = plot_fns(post_x, post_f)\n",
    "sns.scatterplot(ax=ax_post, x=train_x.squeeze(-1).cpu().numpy(), y=train_y.cpu().numpy(),\n",
    "                color='gray')\n",
    "\n",
    "ax_prior.set_title('Prior')\n",
    "ax_prior.set_yticks(np.arange(-2, 1.1))\n",
    "ax_post.set_title('Posterior')\n",
    "ax_post.set_yticks(np.arange(-2, 1.1))\n",
    "\n",
    "fig_prior.savefig('prior.pdf', bbox_inches='tight')\n",
    "fig_post.savefig('post.pdf', bbox_inches='tight')"
   ]
  },
  {
   "cell_type": "code",
   "execution_count": null,
   "metadata": {},
   "outputs": [],
   "source": []
  }
 ]
}