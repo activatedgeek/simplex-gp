{
 "cells": [
  {
   "cell_type": "code",
   "execution_count": null,
   "metadata": {},
   "outputs": [],
   "source": [
    "import sys\n",
    "import os\n",
    "\n",
    "\n",
    "if os.path.abspath('..') not in sys.path:\n",
    "  sys.path.insert(0, os.path.abspath('..'))"
   ]
  },
  {
   "cell_type": "code",
   "execution_count": null,
   "metadata": {},
   "outputs": [],
   "source": [
    "from tqdm.auto import tqdm\n",
    "import torch\n",
    "import gpytorch as gp\n",
    "import altair as alt\n",
    "import pandas as pd\n",
    "import numpy as np\n",
    "\n",
    "from bi_gp.bilateral_kernel import BilateralKernel"
   ]
  },
  {
   "cell_type": "markdown",
   "metadata": {},
   "source": [
    "## GP Models"
   ]
  },
  {
   "cell_type": "code",
   "execution_count": null,
   "metadata": {},
   "outputs": [],
   "source": [
    "class ExactGPModel(gp.models.ExactGP):\n",
    "    def __init__(self, train_x, train_y):\n",
    "        likelihood = gp.likelihoods.GaussianLikelihood()\n",
    "        super().__init__(train_x, train_y, likelihood)\n",
    "        self.mean_module = gp.means.ConstantMean()\n",
    "        self.covar_module = gp.kernels.ScaleKernel(gp.kernels.RBFKernel(ard_num_dims=train_x.size(-1)))\n",
    "\n",
    "    def forward(self, x):\n",
    "        mean_x = self.mean_module(x)\n",
    "        covar_x = self.covar_module(x)\n",
    "        return gp.distributions.MultivariateNormal(mean_x, covar_x)\n",
    "\n",
    "\n",
    "class SGPRModel(gp.models.ExactGP):\n",
    "    def __init__(self, train_x, train_y, inducing_points):\n",
    "        likelihood = gp.likelihoods.GaussianLikelihood()\n",
    "        super().__init__(train_x, train_y, likelihood)\n",
    "        self.mean_module = gp.means.ConstantMean()\n",
    "        self.base_covar_module = gp.kernels.ScaleKernel(gp.kernels.RBFKernel(ard_num_dims=train_x.size(-1)))\n",
    "        self.covar_module = gp.kernels.InducingPointKernel(\n",
    "          self.base_covar_module, inducing_points=inducing_points, likelihood=likelihood)\n",
    "\n",
    "    def forward(self, x):\n",
    "        mean_x = self.mean_module(x)\n",
    "        covar_x = self.covar_module(x)\n",
    "        return gp.distributions.MultivariateNormal(mean_x, covar_x)\n",
    "\n",
    "\n",
    "class KISSGPModel(gp.models.ExactGP):\n",
    "    def __init__(self, train_x, train_y, grid_size):\n",
    "        likelihood = gp.likelihoods.GaussianLikelihood()\n",
    "        super().__init__(train_x, train_y, likelihood)\n",
    "\n",
    "        if not isinstance(grid_size, int):\n",
    "          grid_size = gp.utils.grid.choose_grid_size(train_x)\n",
    "\n",
    "        self.mean_module = gp.means.ConstantMean()\n",
    "        self.covar_module = gp.kernels.ScaleKernel(\n",
    "            gp.kernels.GridInterpolationKernel(\n",
    "                gp.kernels.RBFKernel(ard_num_dims=train_x.size(-1)), grid_size=grid_size, num_dims=train_x.size(-1)\n",
    "            )\n",
    "        )\n",
    "\n",
    "    def forward(self, x):\n",
    "        mean_x = self.mean_module(x)\n",
    "        covar_x = self.covar_module(x)\n",
    "        return gp.distributions.MultivariateNormal(mean_x, covar_x)\n",
    "\n",
    "\n",
    "class SKIPGPModel(gp.models.ExactGP):\n",
    "    def __init__(self, train_x, train_y, grid_size):\n",
    "        likelihood = gp.likelihoods.GaussianLikelihood()\n",
    "        super().__init__(train_x, train_y, likelihood)\n",
    "        \n",
    "        self.mean_module = gp.means.ConstantMean()\n",
    "        self.base_covar_module = gp.kernels.RBFKernel()\n",
    "        self.covar_module = gp.kernels.ProductStructureKernel(\n",
    "            gp.kernels.ScaleKernel(\n",
    "                gp.kernels.GridInterpolationKernel(self.base_covar_module, grid_size=grid_size, num_dims=1)\n",
    "            ), num_dims=train_x.size(-1)\n",
    "        )\n",
    "\n",
    "    def forward(self, x):\n",
    "        mean_x = self.mean_module(x)\n",
    "        covar_x = self.covar_module(x)\n",
    "        return gp.distributions.MultivariateNormal(mean_x, covar_x)\n",
    "\n",
    "\n",
    "class BilateralGPModel(gp.models.ExactGP):\n",
    "    def __init__(self, train_x, train_y):\n",
    "        likelihood = gp.likelihoods.GaussianLikelihood()\n",
    "        super().__init__(train_x, train_y, likelihood)\n",
    "        self.mean_module = gp.means.ConstantMean()\n",
    "        self.covar_module = gp.kernels.ScaleKernel(BilateralKernel(ard_num_dims=train_x.size(-1)))\n",
    "\n",
    "    def forward(self, x):\n",
    "        mean_x = self.mean_module(x)\n",
    "        covar_x = self.covar_module(x)\n",
    "        return gp.distributions.MultivariateNormal(mean_x, covar_x)"
   ]
  },
  {
   "cell_type": "markdown",
   "metadata": {},
   "source": [
    "### Utils"
   ]
  },
  {
   "cell_type": "code",
   "execution_count": null,
   "metadata": {},
   "outputs": [],
   "source": [
    "def train(x, y, model, mll, optim):\n",
    "  model.train()\n",
    "\n",
    "  optim.zero_grad()\n",
    "\n",
    "  output = model(x)\n",
    "\n",
    "  loss = -mll(output, y)\n",
    "\n",
    "  loss.backward()\n",
    "\n",
    "  optim.step()\n",
    "\n",
    "  return {\n",
    "    'train/ll': -loss.detach().item()\n",
    "  }\n",
    "\n",
    "\n",
    "def test(x, y, model, lanc_iter=100, pre_size=0):\n",
    "  model.eval()\n",
    "\n",
    "  with torch.no_grad():\n",
    "#        gp.settings.max_preconditioner_size(pre_size), \\\n",
    "#        gp.settings.max_root_decomposition_size(lanc_iter), \\\n",
    "#        gp.settings.fast_pred_var():\n",
    "      preds = model(x)\n",
    "\n",
    "      pred_y = model.likelihood(model(x))\n",
    "      rmse = (pred_y.mean - y).pow(2).mean(0).sqrt()\n",
    "\n",
    "  return {\n",
    "    'test/rmse': rmse.item()\n",
    "  }\n",
    "\n",
    "\n",
    "def train_util(model, x, y, lr=0.1, epochs=200):\n",
    "  mll = gp.mlls.ExactMarginalLogLikelihood(model.likelihood, model)\n",
    "  optim = torch.optim.Adam(model.parameters(), lr=lr)\n",
    "\n",
    "  for _ in tqdm(range(epochs)):\n",
    "    train(x, y, model, mll, optim)\n",
    "\n",
    "\n",
    "def generate(model, device=None):\n",
    "  model.eval()\n",
    "  \n",
    "  x = torch.arange(-1., 7., 0.05).unsqueeze(-1).to(device)\n",
    "  \n",
    "  with torch.no_grad():\n",
    "    preds = model(x)\n",
    "    \n",
    "    pred_y = model.likelihood(model(x))\n",
    "  \n",
    "  return pd.DataFrame({\n",
    "    'x': x.squeeze(-1).cpu().numpy(),\n",
    "    'y': pred_y.mean.cpu().numpy(),\n",
    "    'y_hi': pred_y.mean.cpu().numpy() + 2. * pred_y.variance.sqrt().cpu().numpy(),\n",
    "    'y_lo': pred_y.mean.cpu().numpy() - 2. * pred_y.variance.sqrt().cpu().numpy(),\n",
    "  })\n",
    "\n",
    "\n",
    "def chart_util(model, color, device=None):\n",
    "  cdata = generate(model, device=device)\n",
    "\n",
    "  mean = alt.Chart(cdata).mark_line(color=color,opacity=1.0,strokeDash=[5,5]).encode(x='x', y='y')\n",
    "  err1 = mean.mark_line(color=color,opacity=0.5).encode(x='x', y='y_lo')\n",
    "  err2 = mean.mark_line(color=color,opacity=0.5).encode(x='x', y='y_hi')\n",
    "  \n",
    "  return mean + err1 + err2"
   ]
  },
  {
   "cell_type": "markdown",
   "metadata": {},
   "source": [
    "## Snelson 1-D Dataset"
   ]
  },
  {
   "cell_type": "code",
   "execution_count": null,
   "metadata": {},
   "outputs": [],
   "source": [
    "device = \"cuda\" if torch.cuda.is_available() else None"
   ]
  },
  {
   "cell_type": "code",
   "execution_count": null,
   "metadata": {},
   "outputs": [],
   "source": [
    "dpath = os.path.join('snelson.csv')\n",
    "snel = pd.read_csv(dpath)\n",
    "snel = snel.iloc[np.random.permutation(range(snel.shape[0]))[:100]]\n",
    "snel_x = torch.from_numpy(snel.x.to_numpy()).unsqueeze(-1).float().to(device)\n",
    "snel_y = torch.from_numpy(snel.y.to_numpy()).float().to(device)\n",
    "\n",
    "snelc = alt.Chart(snel).mark_circle(color='black',opacity=0.6).encode(x='x', y='y')"
   ]
  },
  {
   "cell_type": "markdown",
   "metadata": {},
   "source": [
    "### Exact GP"
   ]
  },
  {
   "cell_type": "code",
   "execution_count": null,
   "metadata": {},
   "outputs": [],
   "source": [
    "egp = ExactGPModel(snel_x, snel_y).float().to(device)\n",
    "\n",
    "train_util(egp, snel_x, snel_y)\n",
    "\n",
    "egp_gen = generate(egp, device=device)\n",
    "\n",
    "snelc_egp = alt.Chart(egp_gen).mark_line(color='black', opacity=0.5).encode(x='x', y='y')\n",
    "snelc_egp_err = snelc_egp.mark_area(opacity=0.2,color='grey').encode(y='y_lo', y2='y_hi')\n",
    "\n",
    "egp_chart = snelc + snelc_egp + snelc_egp_err"
   ]
  },
  {
   "cell_type": "markdown",
   "metadata": {},
   "source": [
    "### Bilateral GP"
   ]
  },
  {
   "cell_type": "code",
   "execution_count": null,
   "metadata": {},
   "outputs": [],
   "source": [
    "bigp = BilateralGPModel(snel_x, snel_y).float().to(device)\n",
    "\n",
    "train_util(bigp, snel_x, snel_y)\n",
    "\n",
    "bigp_chart = chart_util(bigp, color='red', device=device)"
   ]
  },
  {
   "cell_type": "markdown",
   "metadata": {},
   "source": [
    "## Comparisons\n",
    "\n",
    "**NOTE**: Enable each raw cell as needed."
   ]
  },
  {
   "cell_type": "markdown",
   "metadata": {},
   "source": [
    "### Sparse GP (Titsias)"
   ]
  },
  {
   "cell_type": "code",
   "execution_count": null,
   "metadata": {},
   "outputs": [],
   "source": [
    "sgp = SGPRModel(snel_x, snel_y, (6. * torch.rand(500, 1)).float()).float()\n",
    "\n",
    "train_util(sgp, snel_x, snel_y)\n",
    "\n",
    "sgp_chart = chart_util(sgp, color='blue')"
   ]
  },
  {
   "cell_type": "code",
   "execution_count": null,
   "metadata": {},
   "outputs": [],
   "source": [
    "ind_chart = alt.Chart(pd.DataFrame({ 'x': sgp.covar_module.inducing_points.detach().squeeze(-1).clamp(0.0, 6.0).numpy(),\n",
    "                                     'y': -2.5,  }))\\\n",
    "                      .mark_circle(color='blue').encode(x='x', y='y')\n",
    "(egp_chart + sgp_chart + ind_chart).properties(title='Sparse GP') |\\\n",
    "(egp_chart + bigp_chart).properties(title='Bilateral GP')"
   ]
  },
  {
   "cell_type": "markdown",
   "metadata": {},
   "source": [
    "### KISS-GP"
   ]
  },
  {
   "cell_type": "code",
   "execution_count": null,
   "metadata": {},
   "outputs": [],
   "source": [
    "kgp = KISSGPModel(snel_x, snel_y, 30).float().to(device)\n",
    "\n",
    "train_util(kgp, snel_x, snel_y)\n",
    "\n",
    "kgp_chart = chart_util(kgp, color='blue', device=device)"
   ]
  },
  {
   "cell_type": "code",
   "execution_count": null,
   "metadata": {},
   "outputs": [],
   "source": [
    "kgp_grid_chart = alt.Chart(pd.DataFrame({ 'x': list(kgp.covar_module.sub_kernels())[0].grid[0].cpu().numpy(), 'y': -2.5,  }))\\\n",
    "                       .mark_circle(color='blue').encode(x='x', y='y')\n",
    "\n",
    "(egp_chart + kgp_chart + kgp_grid_chart).properties(title='KISS-GP') |\\\n",
    "(egp_chart + bigp_chart).properties(title='Bilateral GP')"
   ]
  },
  {
   "cell_type": "markdown",
   "metadata": {},
   "source": [
    "### SKIP-GP"
   ]
  },
  {
   "cell_type": "code",
   "execution_count": null,
   "metadata": {},
   "outputs": [],
   "source": [
    "skipgp = SKIPGPModel(snel_x, snel_y, 30).float().to(device)\n",
    "\n",
    "train_util(skipgp, snel_x, snel_y)\n",
    "\n",
    "skipgp_chart = chart_util(skipgp, color='blue', device=device)"
   ]
  },
  {
   "cell_type": "code",
   "execution_count": null,
   "metadata": {},
   "outputs": [],
   "source": [
    "skipgp_grid_chart = alt.Chart(pd.DataFrame({ 'x': list(list(skipgp.covar_module.sub_kernels())[0].sub_kernels())[0].grid[0].cpu().numpy(), 'y': -2.5,  }))\\\n",
    "                       .mark_circle(color='blue').encode(x='x', y='y')\n",
    "\n",
    "(egp_chart + skipgp_chart + skipgp_grid_chart).properties(title='SKIP-GP') |\\\n",
    "(egp_chart + bigp_chart).properties(title='Bilateral GP')"
   ]
  },
  {
   "cell_type": "code",
   "execution_count": null,
   "metadata": {},
   "outputs": [],
   "source": []
  }
 ],
 "metadata": {
  "kernelspec": {
   "display_name": "Python 3",
   "language": "python",
   "name": "python3"
  },
  "language_info": {
   "codemirror_mode": {
    "name": "ipython",
    "version": 3
   },
   "file_extension": ".py",
   "mimetype": "text/x-python",
   "name": "python",
   "nbconvert_exporter": "python",
   "pygments_lexer": "ipython3",
   "version": "3.7.8"
  }
 },
 "nbformat": 4,
 "nbformat_minor": 4
}
